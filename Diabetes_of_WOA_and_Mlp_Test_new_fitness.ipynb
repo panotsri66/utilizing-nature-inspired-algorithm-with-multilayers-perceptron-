{
  "nbformat": 4,
  "nbformat_minor": 0,
  "metadata": {
    "colab": {
      "name": "Diabetes of WOA and Mlp Test new fitness.ipynb",
      "provenance": [],
      "collapsed_sections": []
    },
    "kernelspec": {
      "name": "python3",
      "display_name": "Python 3"
    },
    "language_info": {
      "name": "python"
    },
    "accelerator": "GPU"
  },
  "cells": [
    {
      "cell_type": "code",
      "execution_count": null,
      "metadata": {
        "id": "JsmzHlW5BSpU"
      },
      "outputs": [],
      "source": [
        "import numpy as np\n",
        "import pandas as pd\n",
        "import time \n",
        "import random\n",
        "from sklearn.model_selection import train_test_split\n",
        "from sklearn import datasets, preprocessing"
      ]
    },
    {
      "cell_type": "code",
      "source": [
        "from google.colab import drive\n",
        "drive.mount('/content/drive')"
      ],
      "metadata": {
        "colab": {
          "base_uri": "https://localhost:8080/"
        },
        "id": "_LI5PcEVzYtn",
        "outputId": "4060f11e-f809-432d-e93d-cfd5e483c5a0"
      },
      "execution_count": null,
      "outputs": [
        {
          "output_type": "stream",
          "name": "stdout",
          "text": [
            "Mounted at /content/drive\n"
          ]
        }
      ]
    },
    {
      "cell_type": "code",
      "source": [
        "import pandas as pd\n",
        "import numpy as np\n",
        "import matplotlib.pyplot as plt\n",
        "ds=pd.read_csv('/content/drive/MyDrive/diabetes.csv')\n",
        "ds.head(15)"
      ],
      "metadata": {
        "colab": {
          "base_uri": "https://localhost:8080/",
          "height": 520
        },
        "id": "HYOoo6J1zhwV",
        "outputId": "2b396328-5bf3-4bda-a6a5-984ef89ac733"
      },
      "execution_count": null,
      "outputs": [
        {
          "output_type": "execute_result",
          "data": {
            "text/plain": [
              "    Pregnancies  Glucose  BloodPressure  SkinThickness  Insulin   BMI  \\\n",
              "0             6      148             72             35        0  33.6   \n",
              "1             1       85             66             29        0  26.6   \n",
              "2             8      183             64              0        0  23.3   \n",
              "3             1       89             66             23       94  28.1   \n",
              "4             0      137             40             35      168  43.1   \n",
              "5             5      116             74              0        0  25.6   \n",
              "6             3       78             50             32       88  31.0   \n",
              "7            10      115              0              0        0  35.3   \n",
              "8             2      197             70             45      543  30.5   \n",
              "9             8      125             96              0        0   0.0   \n",
              "10            4      110             92              0        0  37.6   \n",
              "11           10      168             74              0        0  38.0   \n",
              "12           10      139             80              0        0  27.1   \n",
              "13            1      189             60             23      846  30.1   \n",
              "14            5      166             72             19      175  25.8   \n",
              "\n",
              "    DiabetesPedigreeFunction  Age  Outcome  \n",
              "0                      0.627   50        1  \n",
              "1                      0.351   31        0  \n",
              "2                      0.672   32        1  \n",
              "3                      0.167   21        0  \n",
              "4                      2.288   33        1  \n",
              "5                      0.201   30        0  \n",
              "6                      0.248   26        1  \n",
              "7                      0.134   29        0  \n",
              "8                      0.158   53        1  \n",
              "9                      0.232   54        1  \n",
              "10                     0.191   30        0  \n",
              "11                     0.537   34        1  \n",
              "12                     1.441   57        0  \n",
              "13                     0.398   59        1  \n",
              "14                     0.587   51        1  "
            ],
            "text/html": [
              "\n",
              "  <div id=\"df-a5857d95-97f2-4578-945a-2dd3d0b956ec\">\n",
              "    <div class=\"colab-df-container\">\n",
              "      <div>\n",
              "<style scoped>\n",
              "    .dataframe tbody tr th:only-of-type {\n",
              "        vertical-align: middle;\n",
              "    }\n",
              "\n",
              "    .dataframe tbody tr th {\n",
              "        vertical-align: top;\n",
              "    }\n",
              "\n",
              "    .dataframe thead th {\n",
              "        text-align: right;\n",
              "    }\n",
              "</style>\n",
              "<table border=\"1\" class=\"dataframe\">\n",
              "  <thead>\n",
              "    <tr style=\"text-align: right;\">\n",
              "      <th></th>\n",
              "      <th>Pregnancies</th>\n",
              "      <th>Glucose</th>\n",
              "      <th>BloodPressure</th>\n",
              "      <th>SkinThickness</th>\n",
              "      <th>Insulin</th>\n",
              "      <th>BMI</th>\n",
              "      <th>DiabetesPedigreeFunction</th>\n",
              "      <th>Age</th>\n",
              "      <th>Outcome</th>\n",
              "    </tr>\n",
              "  </thead>\n",
              "  <tbody>\n",
              "    <tr>\n",
              "      <th>0</th>\n",
              "      <td>6</td>\n",
              "      <td>148</td>\n",
              "      <td>72</td>\n",
              "      <td>35</td>\n",
              "      <td>0</td>\n",
              "      <td>33.6</td>\n",
              "      <td>0.627</td>\n",
              "      <td>50</td>\n",
              "      <td>1</td>\n",
              "    </tr>\n",
              "    <tr>\n",
              "      <th>1</th>\n",
              "      <td>1</td>\n",
              "      <td>85</td>\n",
              "      <td>66</td>\n",
              "      <td>29</td>\n",
              "      <td>0</td>\n",
              "      <td>26.6</td>\n",
              "      <td>0.351</td>\n",
              "      <td>31</td>\n",
              "      <td>0</td>\n",
              "    </tr>\n",
              "    <tr>\n",
              "      <th>2</th>\n",
              "      <td>8</td>\n",
              "      <td>183</td>\n",
              "      <td>64</td>\n",
              "      <td>0</td>\n",
              "      <td>0</td>\n",
              "      <td>23.3</td>\n",
              "      <td>0.672</td>\n",
              "      <td>32</td>\n",
              "      <td>1</td>\n",
              "    </tr>\n",
              "    <tr>\n",
              "      <th>3</th>\n",
              "      <td>1</td>\n",
              "      <td>89</td>\n",
              "      <td>66</td>\n",
              "      <td>23</td>\n",
              "      <td>94</td>\n",
              "      <td>28.1</td>\n",
              "      <td>0.167</td>\n",
              "      <td>21</td>\n",
              "      <td>0</td>\n",
              "    </tr>\n",
              "    <tr>\n",
              "      <th>4</th>\n",
              "      <td>0</td>\n",
              "      <td>137</td>\n",
              "      <td>40</td>\n",
              "      <td>35</td>\n",
              "      <td>168</td>\n",
              "      <td>43.1</td>\n",
              "      <td>2.288</td>\n",
              "      <td>33</td>\n",
              "      <td>1</td>\n",
              "    </tr>\n",
              "    <tr>\n",
              "      <th>5</th>\n",
              "      <td>5</td>\n",
              "      <td>116</td>\n",
              "      <td>74</td>\n",
              "      <td>0</td>\n",
              "      <td>0</td>\n",
              "      <td>25.6</td>\n",
              "      <td>0.201</td>\n",
              "      <td>30</td>\n",
              "      <td>0</td>\n",
              "    </tr>\n",
              "    <tr>\n",
              "      <th>6</th>\n",
              "      <td>3</td>\n",
              "      <td>78</td>\n",
              "      <td>50</td>\n",
              "      <td>32</td>\n",
              "      <td>88</td>\n",
              "      <td>31.0</td>\n",
              "      <td>0.248</td>\n",
              "      <td>26</td>\n",
              "      <td>1</td>\n",
              "    </tr>\n",
              "    <tr>\n",
              "      <th>7</th>\n",
              "      <td>10</td>\n",
              "      <td>115</td>\n",
              "      <td>0</td>\n",
              "      <td>0</td>\n",
              "      <td>0</td>\n",
              "      <td>35.3</td>\n",
              "      <td>0.134</td>\n",
              "      <td>29</td>\n",
              "      <td>0</td>\n",
              "    </tr>\n",
              "    <tr>\n",
              "      <th>8</th>\n",
              "      <td>2</td>\n",
              "      <td>197</td>\n",
              "      <td>70</td>\n",
              "      <td>45</td>\n",
              "      <td>543</td>\n",
              "      <td>30.5</td>\n",
              "      <td>0.158</td>\n",
              "      <td>53</td>\n",
              "      <td>1</td>\n",
              "    </tr>\n",
              "    <tr>\n",
              "      <th>9</th>\n",
              "      <td>8</td>\n",
              "      <td>125</td>\n",
              "      <td>96</td>\n",
              "      <td>0</td>\n",
              "      <td>0</td>\n",
              "      <td>0.0</td>\n",
              "      <td>0.232</td>\n",
              "      <td>54</td>\n",
              "      <td>1</td>\n",
              "    </tr>\n",
              "    <tr>\n",
              "      <th>10</th>\n",
              "      <td>4</td>\n",
              "      <td>110</td>\n",
              "      <td>92</td>\n",
              "      <td>0</td>\n",
              "      <td>0</td>\n",
              "      <td>37.6</td>\n",
              "      <td>0.191</td>\n",
              "      <td>30</td>\n",
              "      <td>0</td>\n",
              "    </tr>\n",
              "    <tr>\n",
              "      <th>11</th>\n",
              "      <td>10</td>\n",
              "      <td>168</td>\n",
              "      <td>74</td>\n",
              "      <td>0</td>\n",
              "      <td>0</td>\n",
              "      <td>38.0</td>\n",
              "      <td>0.537</td>\n",
              "      <td>34</td>\n",
              "      <td>1</td>\n",
              "    </tr>\n",
              "    <tr>\n",
              "      <th>12</th>\n",
              "      <td>10</td>\n",
              "      <td>139</td>\n",
              "      <td>80</td>\n",
              "      <td>0</td>\n",
              "      <td>0</td>\n",
              "      <td>27.1</td>\n",
              "      <td>1.441</td>\n",
              "      <td>57</td>\n",
              "      <td>0</td>\n",
              "    </tr>\n",
              "    <tr>\n",
              "      <th>13</th>\n",
              "      <td>1</td>\n",
              "      <td>189</td>\n",
              "      <td>60</td>\n",
              "      <td>23</td>\n",
              "      <td>846</td>\n",
              "      <td>30.1</td>\n",
              "      <td>0.398</td>\n",
              "      <td>59</td>\n",
              "      <td>1</td>\n",
              "    </tr>\n",
              "    <tr>\n",
              "      <th>14</th>\n",
              "      <td>5</td>\n",
              "      <td>166</td>\n",
              "      <td>72</td>\n",
              "      <td>19</td>\n",
              "      <td>175</td>\n",
              "      <td>25.8</td>\n",
              "      <td>0.587</td>\n",
              "      <td>51</td>\n",
              "      <td>1</td>\n",
              "    </tr>\n",
              "  </tbody>\n",
              "</table>\n",
              "</div>\n",
              "      <button class=\"colab-df-convert\" onclick=\"convertToInteractive('df-a5857d95-97f2-4578-945a-2dd3d0b956ec')\"\n",
              "              title=\"Convert this dataframe to an interactive table.\"\n",
              "              style=\"display:none;\">\n",
              "        \n",
              "  <svg xmlns=\"http://www.w3.org/2000/svg\" height=\"24px\"viewBox=\"0 0 24 24\"\n",
              "       width=\"24px\">\n",
              "    <path d=\"M0 0h24v24H0V0z\" fill=\"none\"/>\n",
              "    <path d=\"M18.56 5.44l.94 2.06.94-2.06 2.06-.94-2.06-.94-.94-2.06-.94 2.06-2.06.94zm-11 1L8.5 8.5l.94-2.06 2.06-.94-2.06-.94L8.5 2.5l-.94 2.06-2.06.94zm10 10l.94 2.06.94-2.06 2.06-.94-2.06-.94-.94-2.06-.94 2.06-2.06.94z\"/><path d=\"M17.41 7.96l-1.37-1.37c-.4-.4-.92-.59-1.43-.59-.52 0-1.04.2-1.43.59L10.3 9.45l-7.72 7.72c-.78.78-.78 2.05 0 2.83L4 21.41c.39.39.9.59 1.41.59.51 0 1.02-.2 1.41-.59l7.78-7.78 2.81-2.81c.8-.78.8-2.07 0-2.86zM5.41 20L4 18.59l7.72-7.72 1.47 1.35L5.41 20z\"/>\n",
              "  </svg>\n",
              "      </button>\n",
              "      \n",
              "  <style>\n",
              "    .colab-df-container {\n",
              "      display:flex;\n",
              "      flex-wrap:wrap;\n",
              "      gap: 12px;\n",
              "    }\n",
              "\n",
              "    .colab-df-convert {\n",
              "      background-color: #E8F0FE;\n",
              "      border: none;\n",
              "      border-radius: 50%;\n",
              "      cursor: pointer;\n",
              "      display: none;\n",
              "      fill: #1967D2;\n",
              "      height: 32px;\n",
              "      padding: 0 0 0 0;\n",
              "      width: 32px;\n",
              "    }\n",
              "\n",
              "    .colab-df-convert:hover {\n",
              "      background-color: #E2EBFA;\n",
              "      box-shadow: 0px 1px 2px rgba(60, 64, 67, 0.3), 0px 1px 3px 1px rgba(60, 64, 67, 0.15);\n",
              "      fill: #174EA6;\n",
              "    }\n",
              "\n",
              "    [theme=dark] .colab-df-convert {\n",
              "      background-color: #3B4455;\n",
              "      fill: #D2E3FC;\n",
              "    }\n",
              "\n",
              "    [theme=dark] .colab-df-convert:hover {\n",
              "      background-color: #434B5C;\n",
              "      box-shadow: 0px 1px 3px 1px rgba(0, 0, 0, 0.15);\n",
              "      filter: drop-shadow(0px 1px 2px rgba(0, 0, 0, 0.3));\n",
              "      fill: #FFFFFF;\n",
              "    }\n",
              "  </style>\n",
              "\n",
              "      <script>\n",
              "        const buttonEl =\n",
              "          document.querySelector('#df-a5857d95-97f2-4578-945a-2dd3d0b956ec button.colab-df-convert');\n",
              "        buttonEl.style.display =\n",
              "          google.colab.kernel.accessAllowed ? 'block' : 'none';\n",
              "\n",
              "        async function convertToInteractive(key) {\n",
              "          const element = document.querySelector('#df-a5857d95-97f2-4578-945a-2dd3d0b956ec');\n",
              "          const dataTable =\n",
              "            await google.colab.kernel.invokeFunction('convertToInteractive',\n",
              "                                                     [key], {});\n",
              "          if (!dataTable) return;\n",
              "\n",
              "          const docLinkHtml = 'Like what you see? Visit the ' +\n",
              "            '<a target=\"_blank\" href=https://colab.research.google.com/notebooks/data_table.ipynb>data table notebook</a>'\n",
              "            + ' to learn more about interactive tables.';\n",
              "          element.innerHTML = '';\n",
              "          dataTable['output_type'] = 'display_data';\n",
              "          await google.colab.output.renderOutput(dataTable, element);\n",
              "          const docLink = document.createElement('div');\n",
              "          docLink.innerHTML = docLinkHtml;\n",
              "          element.appendChild(docLink);\n",
              "        }\n",
              "      </script>\n",
              "    </div>\n",
              "  </div>\n",
              "  "
            ]
          },
          "metadata": {},
          "execution_count": 3
        }
      ]
    },
    {
      "cell_type": "markdown",
      "source": [
        "# Import Data"
      ],
      "metadata": {
        "id": "eYyxCvcDeDTB"
      }
    },
    {
      "cell_type": "code",
      "source": [
        "\n",
        "x = ds.drop(['Outcome'], axis = 1).values\n",
        "y = ds['Outcome'].values\n",
        "y = y.reshape(y.shape[0], 1)\n",
        "#Spliting Data\n",
        "from sklearn.model_selection import train_test_split\n",
        "x_train, x_test, y_train, y_test= train_test_split(x,y,test_size=0.25,random_state=0)\n",
        "#Standardize data\n",
        "from sklearn.preprocessing import StandardScaler \n",
        "scale = StandardScaler()\n",
        "x_train_std = scale.fit_transform(x_train)\n",
        "x_test_std = scale.transform(x_test)\n"
      ],
      "metadata": {
        "id": "VGzlvOxiB30Z"
      },
      "execution_count": null,
      "outputs": []
    },
    {
      "cell_type": "code",
      "source": [
        "print(y_train[0][0])"
      ],
      "metadata": {
        "colab": {
          "base_uri": "https://localhost:8080/"
        },
        "id": "QtOasfzldLih",
        "outputId": "867e681a-5419-4964-9945-a3186b9aad7e"
      },
      "execution_count": null,
      "outputs": [
        {
          "output_type": "stream",
          "name": "stdout",
          "text": [
            "0\n"
          ]
        }
      ]
    },
    {
      "cell_type": "code",
      "source": [
        "def sigmoid(x):\n",
        "  return 1/(1+np.exp(-x))"
      ],
      "metadata": {
        "id": "Jr8lD7NVD1dL"
      },
      "execution_count": null,
      "outputs": []
    },
    {
      "cell_type": "markdown",
      "source": [
        "# Feed Forward"
      ],
      "metadata": {
        "id": "XXXnmkUTkfL7"
      }
    },
    {
      "cell_type": "code",
      "source": [
        "def FF(HL,OL,W,B,x):\n",
        "  INL=len(x)\n",
        "  hidden_layer=np.zeros((HL))\n",
        "  output_layer=np.zeros((OL))\n",
        "  witr=0\n",
        "  bitr=0\n",
        "  for i in range(HL):\n",
        "    sum=0\n",
        "    for j in range(INL):\n",
        "      sum=sum+(x[j]*W[witr])\n",
        "      witr=witr+1\n",
        "    sum=sum.sum()\n",
        "    hidden_layer[i]=sigmoid(sum+B[bitr])\n",
        "    bitr=bitr+1\n",
        "\n",
        "  for i in range(OL):\n",
        "    output=0\n",
        "    for j in range(HL):\n",
        "      output=output+(hidden_layer[j]*W[witr])\n",
        "      witr = witr + 1\n",
        "    output=output.sum()\n",
        "    output_layer[i]=sigmoid(output+B[bitr])\n",
        "    bitr=bitr+1\n",
        "  return output_layer"
      ],
      "metadata": {
        "id": "CJsxevK4EH74"
      },
      "execution_count": null,
      "outputs": []
    },
    {
      "cell_type": "code",
      "source": [
        "NIL=8\n",
        "HL=18\n",
        "OL=1\n",
        "#144+18+19=181"
      ],
      "metadata": {
        "id": "E54Hh79aGE3S"
      },
      "execution_count": null,
      "outputs": []
    },
    {
      "cell_type": "code",
      "source": [
        "def MLP(solution):\n",
        "      fitness=0\n",
        "      w=(NIL*HL)+(HL*OL)\n",
        "      b=(NIL*HL)+HL+(HL*OL)+OL\n",
        "      W=solution[0:w]\n",
        "      B=solution[w:b]\n",
        "      for idx,x in enumerate(x_train_std):\n",
        "        actualValue=FF(HL,OL,W,B,x)\n",
        "\n",
        "        fitness+=pow((actualValue[0]-y_train[idx][0]),2)\n",
        "\n",
        "      fitness=fitness/len(x_train)\n",
        "      \n",
        "      return fitness"
      ],
      "metadata": {
        "id": "16mw-PgwsOIV"
      },
      "execution_count": null,
      "outputs": []
    },
    {
      "cell_type": "markdown",
      "source": [
        "# WOA Algorithm"
      ],
      "metadata": {
        "id": "ShLg4VnLkihz"
      }
    },
    {
      "cell_type": "code",
      "source": [
        "import random\n",
        "import numpy\n",
        "import math\n",
        "import time\n",
        "\n",
        "class solution:\n",
        "    def __init__(self):\n",
        "        self.best = 0\n",
        "        self.bestIndividual = []\n",
        "        self.convergence = []\n",
        "        self.optimizer = \"\"\n",
        "        self.objfname = \"\"\n",
        "        self.startTime = 0\n",
        "        self.endTime = 0\n",
        "        self.executionTime = 0\n",
        "        self.lb = 0\n",
        "        self.ub = 0\n",
        "        self.dim = 0\n",
        "        self.popnum = 0\n",
        "        self.maxiers = 0\n",
        "\n",
        "def WOA(objf, lb, ub, dim, SearchAgents_no, Max_iter):\n",
        "\n",
        "    # dim=30\n",
        "    # SearchAgents_no=50\n",
        "    # lb=-100\n",
        "    # ub=100\n",
        "    # Max_iter=500\n",
        "    if not isinstance(lb, list):\n",
        "        lb = [lb] * dim\n",
        "    if not isinstance(ub, list):\n",
        "        ub = [ub] * dim\n",
        "\n",
        "    # initialize position vector and score for the leader\n",
        "    Leader_pos = numpy.zeros(dim)\n",
        "    Leader_score = float(\"inf\")  # change this to -inf for maximization problems\n",
        "\n",
        "    # Initialize the positions of search agents\n",
        "    Positions = numpy.zeros((SearchAgents_no, dim))\n",
        "    for i in range(dim):\n",
        "        Positions[:, i] = (\n",
        "            numpy.random.uniform(0, 1, SearchAgents_no) * (ub[i] - lb[i]) + lb[i]\n",
        "        )\n",
        "\n",
        "    # Initialize convergence\n",
        "    convergence_curve = numpy.zeros(Max_iter)\n",
        "\n",
        "    ############################\n",
        "    s = solution()\n",
        "\n",
        "    print('WOA is optimizing  \"' + objf.__name__ + '\"')\n",
        "\n",
        "    timerStart = time.time()\n",
        "    s.startTime = time.strftime(\"%Y-%m-%d-%H-%M-%S\")\n",
        "    ############################\n",
        "\n",
        "    t = 0  # Loop counter\n",
        "\n",
        "    # Main loop\n",
        "    while t < Max_iter:\n",
        "        for i in range(0, SearchAgents_no):\n",
        "\n",
        "            # Return back the search agents that go beyond the boundaries of the search space\n",
        "\n",
        "            # Positions[i,:]=checkBounds(Positions[i,:],lb,ub)\n",
        "            for j in range(dim):\n",
        "                Positions[i, j] = numpy.clip(Positions[i, j], lb[j], ub[j])\n",
        "\n",
        "            # Calculate objective function for each search agent\n",
        "            fitness = objf(Positions[i, :])\n",
        "\n",
        "            # Update the leader\n",
        "            if fitness < Leader_score:  # Change this to > for maximization problem\n",
        "                Leader_score = fitness\n",
        "                # Update alpha\n",
        "                Leader_pos = Positions[\n",
        "                    i, :\n",
        "                ].copy()  # copy current whale position into the leader position\n",
        "\n",
        "        a = 2 - t * ((2) / Max_iter)\n",
        "        # a decreases linearly fron 2 to 0 in Eq. (2.3)\n",
        "\n",
        "        # a2 linearly decreases from -1 to -2 to calculate t in Eq. (3.12)\n",
        "        a2 = -1 + t * ((-1) / Max_iter)\n",
        "\n",
        "        # Update the Position of search agents\n",
        "        for i in range(0, SearchAgents_no):\n",
        "            r1 = random.random()  # r1 is a random number in [0,1]\n",
        "            r2 = random.random()  # r2 is a random number in [0,1]\n",
        "\n",
        "            A = 2 * a * r1 - a  # Eq. (2.3) in the paper\n",
        "            C = 2 * r2  # Eq. (2.4) in the paper\n",
        "\n",
        "            b = 1\n",
        "            #  parameters in Eq. (2.5)\n",
        "            l = (a2 - 1) * random.random() + 1  #  parameters in Eq. (2.5)\n",
        "\n",
        "            p = random.random()  # p in Eq. (2.6)\n",
        "\n",
        "            for j in range(0, dim):\n",
        "\n",
        "                if p < 0.5:\n",
        "                    if abs(A) >= 1:\n",
        "                        rand_leader_index = math.floor(\n",
        "                            SearchAgents_no * random.random()\n",
        "                        )\n",
        "                        X_rand = Positions[rand_leader_index, :]\n",
        "                        D_X_rand = abs(C * X_rand[j] - Positions[i, j])\n",
        "                        Positions[i, j] = X_rand[j] - A * D_X_rand\n",
        "\n",
        "                    elif abs(A) < 1:\n",
        "                        D_Leader = abs(C * Leader_pos[j] - Positions[i, j])\n",
        "                        Positions[i, j] = Leader_pos[j] - A * D_Leader\n",
        "\n",
        "                elif p >= 0.5:\n",
        "\n",
        "                    distance2Leader = abs(Leader_pos[j] - Positions[i, j])\n",
        "                    # Eq. (2.5)\n",
        "                    Positions[i, j] = (\n",
        "                        distance2Leader * math.exp(b * l) * math.cos(l * 2 * math.pi)\n",
        "                        + Leader_pos[j]\n",
        "                    )\n",
        "\n",
        "        convergence_curve[t] = Leader_score\n",
        "        if t % 9 == 0:\n",
        "            print(\n",
        "                [\"At iteration \" + str(t) + \" the best fitness is \" + str(Leader_score)]\n",
        "            )\n",
        "        t = t + 1\n",
        "\n",
        "    timerEnd = time.time()\n",
        "    s.endTime = time.strftime(\"%Y-%m-%d-%H-%M-%S\")\n",
        "    s.executionTime = timerEnd - timerStart\n",
        "    s.convergence = convergence_curve\n",
        "    s.optimizer = \"WOA\"\n",
        "    s.objfname = objf.__name__\n",
        "    s.best = Leader_score\n",
        "    s.bestIndividual = Leader_pos\n",
        "\n",
        "    return s"
      ],
      "metadata": {
        "id": "kNo4gWajJAmV"
      },
      "execution_count": null,
      "outputs": []
    },
    {
      "cell_type": "code",
      "source": [
        "A=WOA(MLP, -1, 1, 181, 50, 1000)\n"
      ],
      "metadata": {
        "id": "Ontf5gBncKFW",
        "colab": {
          "base_uri": "https://localhost:8080/"
        },
        "outputId": "7187a232-e0b7-48a1-ff3c-7d9cb8cd75bb"
      },
      "execution_count": null,
      "outputs": [
        {
          "output_type": "stream",
          "name": "stdout",
          "text": [
            "WOA is optimizing  \"MLP\"\n",
            "['At iteration 0 the best fitness is 0.20376215400745848']\n",
            "['At iteration 9 the best fitness is 0.20235886959162508']\n",
            "['At iteration 18 the best fitness is 0.19992288934603689']\n",
            "['At iteration 27 the best fitness is 0.19746931650768673']\n",
            "['At iteration 36 the best fitness is 0.19559282394597852']\n",
            "['At iteration 45 the best fitness is 0.19118194545398637']\n",
            "['At iteration 54 the best fitness is 0.1866321478878947']\n",
            "['At iteration 63 the best fitness is 0.1830086256488593']\n",
            "['At iteration 72 the best fitness is 0.1813147446685203']\n",
            "['At iteration 81 the best fitness is 0.17967011846092568']\n",
            "['At iteration 90 the best fitness is 0.17931427051279877']\n",
            "['At iteration 99 the best fitness is 0.17592970685134038']\n",
            "['At iteration 108 the best fitness is 0.17559571196252233']\n",
            "['At iteration 117 the best fitness is 0.1751610280332206']\n",
            "['At iteration 126 the best fitness is 0.17468855191758603']\n",
            "['At iteration 135 the best fitness is 0.17387977192865736']\n",
            "['At iteration 144 the best fitness is 0.17381128309634475']\n",
            "['At iteration 153 the best fitness is 0.17352791693592678']\n",
            "['At iteration 162 the best fitness is 0.1732494417726003']\n",
            "['At iteration 171 the best fitness is 0.1727185920220988']\n",
            "['At iteration 180 the best fitness is 0.171362845167475']\n",
            "['At iteration 189 the best fitness is 0.17053102035229112']\n",
            "['At iteration 198 the best fitness is 0.17006678722127258']\n",
            "['At iteration 207 the best fitness is 0.16959443335759963']\n",
            "['At iteration 216 the best fitness is 0.16926467545131152']\n",
            "['At iteration 225 the best fitness is 0.1688825594724527']\n",
            "['At iteration 234 the best fitness is 0.1682722801332902']\n",
            "['At iteration 243 the best fitness is 0.16662739210850858']\n",
            "['At iteration 252 the best fitness is 0.16651019961481486']\n",
            "['At iteration 261 the best fitness is 0.16526908581913743']\n",
            "['At iteration 270 the best fitness is 0.16478682156919225']\n",
            "['At iteration 279 the best fitness is 0.16477696507901035']\n",
            "['At iteration 288 the best fitness is 0.16466821217031202']\n",
            "['At iteration 297 the best fitness is 0.16442365218985844']\n",
            "['At iteration 306 the best fitness is 0.1642650038725384']\n",
            "['At iteration 315 the best fitness is 0.1640594227847158']\n",
            "['At iteration 324 the best fitness is 0.16368428111165637']\n",
            "['At iteration 333 the best fitness is 0.1633640981569149']\n",
            "['At iteration 342 the best fitness is 0.1632435632699755']\n",
            "['At iteration 351 the best fitness is 0.16269414484336442']\n",
            "['At iteration 360 the best fitness is 0.16225644428635672']\n",
            "['At iteration 369 the best fitness is 0.1621678855919493']\n",
            "['At iteration 378 the best fitness is 0.1621176963994476']\n",
            "['At iteration 387 the best fitness is 0.162059831475243']\n",
            "['At iteration 396 the best fitness is 0.1619346186803826']\n",
            "['At iteration 405 the best fitness is 0.16164785722206065']\n",
            "['At iteration 414 the best fitness is 0.16158036085159286']\n",
            "['At iteration 423 the best fitness is 0.16156886178273205']\n",
            "['At iteration 432 the best fitness is 0.16049592460882944']\n",
            "['At iteration 441 the best fitness is 0.1604784551227375']\n",
            "['At iteration 450 the best fitness is 0.16044229045463443']\n",
            "['At iteration 459 the best fitness is 0.15967585226631587']\n",
            "['At iteration 468 the best fitness is 0.1596402865452221']\n",
            "['At iteration 477 the best fitness is 0.15959864510713628']\n",
            "['At iteration 486 the best fitness is 0.15952561012932195']\n",
            "['At iteration 495 the best fitness is 0.15951556386259902']\n",
            "['At iteration 504 the best fitness is 0.15951332785968042']\n",
            "['At iteration 513 the best fitness is 0.15950401819174778']\n",
            "['At iteration 522 the best fitness is 0.15949473113398818']\n",
            "['At iteration 531 the best fitness is 0.1594916720426419']\n",
            "['At iteration 540 the best fitness is 0.15948651856180296']\n",
            "['At iteration 549 the best fitness is 0.15948318918983065']\n",
            "['At iteration 558 the best fitness is 0.15947691521907184']\n",
            "['At iteration 567 the best fitness is 0.15947317644485057']\n",
            "['At iteration 576 the best fitness is 0.1594638953154364']\n",
            "['At iteration 585 the best fitness is 0.15945979323525233']\n",
            "['At iteration 594 the best fitness is 0.15945639927423894']\n",
            "['At iteration 603 the best fitness is 0.15945401295035586']\n",
            "['At iteration 612 the best fitness is 0.15945288417094042']\n",
            "['At iteration 621 the best fitness is 0.15944475417089962']\n",
            "['At iteration 630 the best fitness is 0.15943221155654774']\n",
            "['At iteration 639 the best fitness is 0.15943172253164895']\n",
            "['At iteration 648 the best fitness is 0.1594296206096079']\n",
            "['At iteration 657 the best fitness is 0.1594118057373448']\n",
            "['At iteration 666 the best fitness is 0.15940151139219513']\n",
            "['At iteration 675 the best fitness is 0.1593834916508346']\n",
            "['At iteration 684 the best fitness is 0.15937053856999628']\n",
            "['At iteration 693 the best fitness is 0.1593670772827309']\n",
            "['At iteration 702 the best fitness is 0.15935919970655577']\n",
            "['At iteration 711 the best fitness is 0.1593470462814896']\n",
            "['At iteration 720 the best fitness is 0.15933946151754422']\n",
            "['At iteration 729 the best fitness is 0.1593346534158279']\n",
            "['At iteration 738 the best fitness is 0.15932817093977839']\n",
            "['At iteration 747 the best fitness is 0.15931700999178178']\n",
            "['At iteration 756 the best fitness is 0.15931310157096457']\n",
            "['At iteration 765 the best fitness is 0.15930321593003988']\n",
            "['At iteration 774 the best fitness is 0.1592795659950837']\n",
            "['At iteration 783 the best fitness is 0.15926333990762828']\n",
            "['At iteration 792 the best fitness is 0.15925570693326035']\n",
            "['At iteration 801 the best fitness is 0.15925257642654234']\n",
            "['At iteration 810 the best fitness is 0.15924880205040998']\n",
            "['At iteration 819 the best fitness is 0.1592446664856867']\n",
            "['At iteration 828 the best fitness is 0.15924035188652083']\n",
            "['At iteration 837 the best fitness is 0.1592382513620211']\n",
            "['At iteration 846 the best fitness is 0.15923718861269126']\n",
            "['At iteration 855 the best fitness is 0.15923328649283566']\n",
            "['At iteration 864 the best fitness is 0.15923003092950305']\n",
            "['At iteration 873 the best fitness is 0.15922765663107774']\n",
            "['At iteration 882 the best fitness is 0.15922581708601993']\n",
            "['At iteration 891 the best fitness is 0.15922285235788697']\n",
            "['At iteration 900 the best fitness is 0.15922066032231627']\n",
            "['At iteration 909 the best fitness is 0.15922013938886623']\n",
            "['At iteration 918 the best fitness is 0.15922006770228372']\n",
            "['At iteration 927 the best fitness is 0.1592158216717543']\n",
            "['At iteration 936 the best fitness is 0.1592152813670854']\n",
            "['At iteration 945 the best fitness is 0.15921488068980333']\n",
            "['At iteration 954 the best fitness is 0.15921272846724166']\n",
            "['At iteration 963 the best fitness is 0.15920983508901487']\n",
            "['At iteration 972 the best fitness is 0.15920970017624853']\n",
            "['At iteration 981 the best fitness is 0.15920967720943696']\n",
            "['At iteration 990 the best fitness is 0.15920960596119793']\n",
            "['At iteration 999 the best fitness is 0.15920959092033676']\n"
          ]
        }
      ]
    },
    {
      "cell_type": "code",
      "source": [
        "print(A.convergence[999])"
      ],
      "metadata": {
        "colab": {
          "base_uri": "https://localhost:8080/"
        },
        "id": "HfuRL5_aHDR4",
        "outputId": "9880c537-ec5b-4eb8-e60a-4aa61d8a7a6f"
      },
      "execution_count": null,
      "outputs": [
        {
          "output_type": "stream",
          "name": "stdout",
          "text": [
            "0.15920959092033676\n"
          ]
        }
      ]
    },
    {
      "cell_type": "code",
      "source": [
        "solution=A.bestIndividual\n",
        "print(solution)"
      ],
      "metadata": {
        "colab": {
          "base_uri": "https://localhost:8080/"
        },
        "id": "w598OK7likpT",
        "outputId": "8b9a3c07-c878-40b4-d413-70739dafbe0a"
      },
      "execution_count": null,
      "outputs": [
        {
          "output_type": "stream",
          "name": "stdout",
          "text": [
            "[-1.         -1.          0.06132637 -0.19659421  0.67150907 -1.\n",
            " -0.25648339 -1.          0.61017644 -0.70058199  0.41900677  0.0064356\n",
            " -1.          0.13252206 -0.35362439 -1.         -1.         -1.\n",
            "  1.         -1.          1.         -0.04498099  0.57246531 -0.7698138\n",
            " -0.0078449  -1.         -0.07395135  0.01857883 -1.          1.\n",
            " -1.          0.80674214 -1.          1.         -1.         -1.\n",
            "  0.2660233  -0.55691883 -0.1108763  -0.50784266  0.56192576 -1.\n",
            " -0.4027023  -0.6408892   0.1821014   0.64689863 -1.         -1.\n",
            "  0.15700527 -0.95210525  0.30704861 -1.          0.01934495  0.81702029\n",
            " -0.05357514 -1.         -1.         -1.         -1.         -0.18081262\n",
            " -0.03541313  0.52239455  0.22046293 -1.         -0.01081504 -0.03321494\n",
            " -1.         -1.          0.07266499 -1.          0.03205881 -0.07562414\n",
            " -0.31118723 -1.          0.74386553 -1.         -0.07632097 -0.64237125\n",
            "  1.         -0.1499842  -1.         -0.18529192 -1.          1.\n",
            " -1.         -0.10861878 -1.         -1.         -0.25648716 -1.\n",
            " -1.         -0.7990855  -1.         -0.09714239 -1.          0.25071884\n",
            " -1.         -0.06533573 -1.         -0.28084157 -1.          0.09952061\n",
            " -0.17003477 -0.72248709 -0.08014164 -1.         -1.         -1.\n",
            " -1.         -1.         -1.         -0.21135773 -1.          0.15296403\n",
            "  0.33845581  1.          0.18338022  0.19697161  1.         -1.\n",
            " -0.11845397 -0.10863362 -1.         -0.01399894  0.57012354 -1.\n",
            "  0.00773477  0.34165851 -1.         -1.         -0.01302925 -0.10350415\n",
            " -0.08719268 -1.         -0.73754522 -1.          0.56727986 -1.\n",
            "  0.44498925  0.04740165  0.61277196 -1.         -1.         -1.\n",
            " -1.         -0.09472397  0.63885191 -0.06406652  0.76790132  0.19152117\n",
            " -0.47481722 -1.          0.02591722 -1.         -0.39086331 -1.\n",
            "  1.         -0.28097101 -0.12535195 -0.10403198 -0.38866634 -1.\n",
            " -1.          0.69723143  1.         -0.15862736 -0.27194478 -1.\n",
            " -1.         -0.10851927 -0.30737248 -0.02217668 -0.13397315 -0.49631705\n",
            " -0.2859298  -1.          0.18403168 -1.         -1.         -0.43300004\n",
            "  1.        ]\n"
          ]
        }
      ]
    },
    {
      "cell_type": "code",
      "source": [
        "def Test(HL,OL,W,B,x):\n",
        "  INL=len(x)\n",
        "  hidden_layer=np.zeros((HL))\n",
        "  output_layer=np.zeros((OL))\n",
        "  witr=0\n",
        "  bitr=0\n",
        "  for i in range(HL):\n",
        "    sum=0\n",
        "    for j in range(INL):\n",
        "      sum=sum+(x[j]*W[witr])\n",
        "      witr=witr+1\n",
        "    sum=sum.sum()\n",
        "    hidden_layer[i]=sigmoid(sum+B[bitr])\n",
        "    bitr=bitr+1\n",
        "\n",
        "  for i in range(OL):\n",
        "    output=0\n",
        "    for j in range(HL):\n",
        "      output=output+(hidden_layer[j]*W[witr])\n",
        "      witr = witr + 1\n",
        "    output=output.sum()\n",
        "    output_layer[i]=sigmoid(output+B[bitr])\n",
        "    bitr=bitr+1\n",
        "  return output_layer\n",
        "\n",
        "\n"
      ],
      "metadata": {
        "id": "qW8GKlcj1CEj"
      },
      "execution_count": null,
      "outputs": []
    },
    {
      "cell_type": "code",
      "source": [
        "min_key=min(B.keys(), key=(lambda k: B[k]))"
      ],
      "metadata": {
        "id": "D9Z-aqy9Zqw4"
      },
      "execution_count": null,
      "outputs": []
    },
    {
      "cell_type": "code",
      "source": [
        "w=(NIL*HL)+(HL*OL)\n",
        "b=(NIL*HL)+HL+(HL*OL)+OL    \n",
        "W=solution[0:w]\n",
        "B=solution[w:b]\n",
        "print(len(W))\n",
        "print(B)"
      ],
      "metadata": {
        "colab": {
          "base_uri": "https://localhost:8080/"
        },
        "id": "W9B5F0yCA5Jp",
        "outputId": "e215804c-d650-493b-9b54-013071de6452"
      },
      "execution_count": null,
      "outputs": [
        {
          "output_type": "stream",
          "name": "stdout",
          "text": [
            "162\n",
            "[-1.          0.69723143  1.         -0.15862736 -0.27194478 -1.\n",
            " -1.         -0.10851927 -0.30737248 -0.02217668 -0.13397315 -0.49631705\n",
            " -0.2859298  -1.          0.18403168 -1.         -1.         -0.43300004\n",
            "  1.        ]\n"
          ]
        }
      ]
    },
    {
      "cell_type": "code",
      "source": [
        "a=Test(HL,OL,W,B,x_test_std[7])\n",
        "print(a)\n"
      ],
      "metadata": {
        "colab": {
          "base_uri": "https://localhost:8080/"
        },
        "id": "pSUu0MQbcuWZ",
        "outputId": "b1ddbd2e-1738-4e70-ef8b-33a8c1e01b6a"
      },
      "execution_count": null,
      "outputs": [
        {
          "output_type": "stream",
          "name": "stdout",
          "text": [
            "[1.]\n"
          ]
        }
      ]
    },
    {
      "cell_type": "code",
      "source": [
        "R=0\n",
        "for i in range(len(y_train)):\n",
        "  p=Test(HL,OL,W,B,x_train_std[i])\n",
        "  if y_train[i][0]==0:\n",
        "    if p[0]<0.5:\n",
        "      R+=1\n",
        "  if y_train[i][0]==1:\n",
        "    if p[0]>0.5:\n",
        "      R+=1\n"
      ],
      "metadata": {
        "id": "cuqlvZ5omKyC"
      },
      "execution_count": null,
      "outputs": []
    },
    {
      "cell_type": "code",
      "source": [
        "print((R*100)/len(y_train))"
      ],
      "metadata": {
        "colab": {
          "base_uri": "https://localhost:8080/"
        },
        "id": "OhBl0E1foMDj",
        "outputId": "05cb2abe-a5ff-46b6-8ae5-c98873d71cda"
      },
      "execution_count": null,
      "outputs": [
        {
          "output_type": "stream",
          "name": "stdout",
          "text": [
            "76.90972222222223\n"
          ]
        }
      ]
    },
    {
      "cell_type": "markdown",
      "source": [
        ""
      ],
      "metadata": {
        "id": "DqGVy9k7m_TV"
      }
    },
    {
      "cell_type": "code",
      "source": [
        "def prediction(HL,OL,W,B,x):\n",
        "  predict=[]\n",
        "  s=[]\n",
        "  for i in range(len(x)):\n",
        "    a=Test(HL,OL,W,B,x[i])\n",
        "    if a[0]>0.5:\n",
        "      predict.append(1)\n",
        "    else:\n",
        "      predict.append(0)\n",
        "    \n",
        "    \n",
        "  \n",
        "  return predict"
      ],
      "metadata": {
        "id": "Nxn2UeTQZ2cf"
      },
      "execution_count": null,
      "outputs": []
    },
    {
      "cell_type": "code",
      "source": [
        "pred=prediction(HL,OL,W,B,x_test_std)\n",
        "print(f\"Predict :{pred}\")\n",
        "y_true = sum(y_test.tolist(), [])\n",
        "print(f\"true y:{y_true}\")\n",
        "\n",
        "acc=0\n",
        "for i in range(len(y_test)):\n",
        "  if pred[i]==y_true[i]:\n",
        "    acc+=1\n",
        "\n",
        "print(f\"accuracy:{acc/len(y_test)*100}%\")"
      ],
      "metadata": {
        "colab": {
          "base_uri": "https://localhost:8080/"
        },
        "id": "nXASOeXZfLm5",
        "outputId": "af4b0825-b244-42c7-8ceb-4e3e070af110"
      },
      "execution_count": null,
      "outputs": [
        {
          "output_type": "stream",
          "name": "stdout",
          "text": [
            "Predict :[1, 0, 0, 1, 0, 0, 1, 1, 0, 1, 1, 1, 0, 0, 0, 0, 1, 0, 1, 0, 1, 0, 0, 0, 0, 0, 0, 1, 0, 0, 1, 0, 0, 1, 0, 1, 0, 0, 0, 1, 0, 0, 0, 1, 1, 0, 0, 0, 0, 0, 0, 0, 1, 1, 0, 0, 0, 0, 0, 0, 1, 1, 0, 0, 1, 1, 1, 0, 0, 0, 0, 0, 0, 1, 1, 0, 0, 1, 0, 0, 0, 0, 0, 0, 0, 0, 0, 0, 1, 0, 0, 0, 0, 0, 1, 0, 0, 1, 1, 0, 0, 0, 0, 0, 1, 0, 0, 0, 0, 1, 0, 0, 0, 1, 1, 1, 0, 1, 0, 1, 0, 1, 0, 0, 0, 0, 0, 0, 1, 1, 0, 0, 0, 1, 0, 0, 0, 0, 0, 0, 0, 1, 0, 0, 0, 0, 0, 0, 0, 0, 0, 1, 0, 0, 1, 0, 1, 0, 0, 0, 1, 1, 0, 0, 1, 0, 0, 0, 0, 0, 0, 0, 0, 0, 1, 0, 0, 0, 0, 0, 0, 1, 0, 1, 1, 0, 0, 0, 1, 0, 0, 0]\n",
            "true y:[1, 0, 0, 1, 0, 0, 1, 1, 0, 0, 1, 1, 0, 0, 0, 0, 1, 0, 0, 0, 1, 1, 0, 0, 0, 0, 0, 0, 0, 0, 0, 0, 0, 0, 0, 1, 1, 0, 0, 0, 0, 0, 0, 1, 1, 0, 0, 1, 1, 1, 0, 0, 1, 0, 0, 0, 0, 1, 1, 1, 1, 0, 0, 1, 1, 1, 1, 0, 0, 0, 0, 0, 0, 0, 1, 0, 0, 0, 0, 0, 0, 0, 0, 0, 0, 0, 1, 0, 1, 0, 0, 0, 0, 0, 0, 0, 1, 0, 1, 1, 0, 0, 0, 0, 0, 1, 0, 0, 0, 1, 0, 1, 1, 1, 1, 1, 0, 0, 0, 1, 0, 0, 0, 0, 0, 0, 0, 1, 0, 0, 0, 0, 0, 1, 0, 1, 0, 1, 1, 0, 0, 0, 0, 0, 1, 0, 0, 0, 0, 1, 0, 1, 0, 0, 1, 0, 0, 0, 1, 1, 1, 1, 0, 0, 0, 1, 0, 0, 0, 0, 0, 0, 1, 1, 0, 0, 0, 0, 0, 0, 1, 1, 0, 1, 1, 0, 1, 1, 1, 0, 0, 0]\n",
            "accuracy:73.95833333333334%\n"
          ]
        }
      ]
    },
    {
      "cell_type": "code",
      "source": [
        "p=[[2.3443797239678989e-07, 1.0], [1.0, 5.790537731467655e-12], [4.760185995141387e-07, 1.0], [0.9999999999997193, 1.3773894071084169e-17], [1.0, 7.49479046619701e-09], [1.0, 5.790537731467655e-12], [0.9999997593963258, 1.7827783105267858e-14], [1.0, 7.49479046619701e-09], [2.3443797239678989e-07, 1.0], [2.3443797239678989e-07, 1.0], [1.0, 7.49479046619701e-09], [1.0, 7.49479046619701e-09], [4.760185995141387e-07, 1.0], [1.0, 7.49479046619701e-09], [0.9999999999998617, 7.413173583065964e-08], [1.0, 7.49479046619701e-09], [3.295837933196582e-19, 1.0], [4.760185995141387e-07, 1.0], [1.0, 5.790537731467655e-12], [1.0, 7.49479046619701e-09], [2.3443797239678989e-07, 1.0], [1.0, 5.790537731467655e-12], [1.0, 7.49479046619701e-09], [2.735378606784197e-13, 1.0], [1.0, 7.49479046619701e-09], [4.760185995141387e-07, 1.0], [1.0, 7.49479046619701e-09], [4.7601859951413703e-07, 1.0], [1.0, 5.790537731467655e-12], [0.9999997594005218, 1.7827926890587977e-14], [2.3443797239678989e-07, 1.0], [0.9999999999997193, 1.3777059110728068e-17], [2.3443797239678989e-07, 1.0], [2.3443797239678989e-07, 1.0], [2.3443797239678989e-07, 1.0], [0.9999999999997193, 1.3773894071084169e-17], [1.0, 7.49479046619701e-09], [2.3441849876730426e-07, 1.0], [0.9999997593963258, 1.7827783105267858e-14], [2.3443797239678989e-07, 1.0], [0.999997046667274, 1.0], [3.4230559529451456e-19, 1.0], [1.0, 7.49479046619701e-09], [1.0, 7.49479046619701e-09], [2.7353786067445575e-13, 1.0], [2.3443797239678989e-07, 1.0], [1.0, 7.49479046619701e-09], [0.9999999999998619, 7.412144614465116e-08], [2.3443797239678989e-07, 1.0], [1.0, 7.49479046619701e-09], [1.0, 7.49479046619701e-09], [3.2958383525020503e-19, 1.0], [0.9999999999997193, 1.3773894071084169e-17], [4.760185995141387e-07, 1.0], [2.3443797239678989e-07, 1.0], [1.0, 5.790537748567615e-12], [2.3443797239678989e-07, 1.0], [2.3443797239678989e-07, 1.0], [0.9999997593963258, 1.7827783105267858e-14], [3.295837933196582e-19, 1.0], [4.760185995141387e-07, 1.0], [0.9999997593963258, 1.7827783105267858e-14], [1.0, 5.790537731467655e-12], [1.0, 7.49479046619701e-09], [1.0, 5.790537731467655e-12], [2.735378606784197e-13, 1.0], [2.3443797239678989e-07, 1.0], [2.3443797239678989e-07, 1.0], [4.760185995141387e-07, 1.0], [1.0, 7.49479046619701e-09], [4.7601859963200897e-07, 1.0], [1.0, 7.49479046619701e-09], [2.730081969202577e-13, 1.0], [1.0, 7.49479046619701e-09], [0.9999999999998617, 7.413173838927611e-08], [2.824682922217676e-13, 1.0], [1.0, 5.790537731467655e-12], [1.0, 7.49479046619701e-09], [1.0, 7.494780457447032e-09], [1.0, 7.49479046619701e-09], [4.760185995141387e-07, 1.0], [2.3443797239678989e-07, 1.0], [1.0, 7.49479046619701e-09], [1.0, 7.49479046619701e-09], [1.2482862984116327e-18, 1.0], [2.3443797239678989e-07, 1.0], [1.0, 7.494790466200846e-09], [1.0, 5.790537731467655e-12], [1.0, 7.49479046619701e-09], [1.0, 5.790537731467655e-12], [1.0, 7.49479046619701e-09], [2.3443797239678989e-07, 1.0], [2.3443797239678989e-07, 1.0], [4.7601836872318313e-07, 1.0], [2.3443797239678989e-07, 1.0], [0.9999999999999998, 3.6456980727045307e-10], [1.0, 7.49479046619701e-09], [1.0, 5.790537731467655e-12], [2.3443797239678989e-07, 1.0], [3.561895408985392e-19, 1.0], [0.9999999999998617, 7.413141488936635e-08], [2.3443797239678989e-07, 1.0], [1.0, 7.49479046619701e-09], [0.999997046667274, 1.0], [1.0, 7.49479046619701e-09], [2.3443797226534723e-07, 1.0], [0.9999999999997193, 1.377389407325726e-17], [2.3443797239678989e-07, 1.0], [2.3443797239678989e-07, 1.0], [2.735371990190059e-13, 1.0], [1.0, 7.49479046619701e-09], [3.295837933196582e-19, 1.0], [1.0, 5.790537731467655e-12], [0.9999999954925718, 1.1219721194964509e-13], [4.760185995141387e-07, 1.0], [0.9999997593963258, 1.7827783105267858e-14], [0.9999997593963258, 1.7827783105267858e-14], [1.0, 5.790537731467655e-12], [2.3443797239678989e-07, 1.0], [2.3443797239678989e-07, 1.0], [1.0, 5.790537731467655e-12], [1.0, 7.49479046619701e-09], [2.3443797239678989e-07, 1.0], [2.735378606754956e-13, 1.0], [2.344379723967903e-07, 1.0], [2.3443797239678989e-07, 1.0], [4.760185995141387e-07, 1.0], [0.9999997593963258, 1.7827783105267858e-14], [4.7601861964494985e-07, 1.0], [1.0, 5.790537731467655e-12], [1.0, 1.4646590413208634e-12], [1.0, 7.49479046619701e-09], [1.0, 7.49479046619701e-09], [0.9999999999998617, 7.413173838927611e-08], [0.9999999999997193, 1.3773894071084169e-17], [2.3443797239678989e-07, 1.0], [1.0, 7.416891915703537e-09], [1.0, 7.49479046619701e-09], [1.0, 7.49479046619701e-09], [0.9999997593963258, 1.7827783105267858e-14], [2.735378606784197e-13, 1.0], [1.0, 7.49479046619701e-09], [2.3443797239678989e-07, 1.0], [4.7601859947178284e-07, 1.0], [1.0, 7.49479046619701e-09], [1.0, 7.49479046619701e-09], [4.760185995141387e-07, 1.0], [0.9999999999997216, 1.382760290185998e-17], [1.0, 7.49479046619701e-09], [2.735378606784197e-13, 1.0], [1.0, 7.494787237171255e-09], [0.9999997593963287, 1.7827783200580683e-14], [1.0, 7.49479046619701e-09], [1.0, 7.49479046619701e-09], [2.735378606784197e-13, 1.0], [1.0, 5.790537731467655e-12], [5.186223429698876e-06, 1.0], [1.0, 7.49479046619701e-09], [3.2963276408309863e-19, 1.0], [0.9999999999997193, 1.3773894071084169e-17], [1.0, 7.49479046619701e-09], [2.3443797239678989e-07, 1.0], [0.9999997593963258, 1.7827783105267858e-14], [4.760185995141387e-07, 1.0], [0.999999759396326, 1.7827783109247703e-14], [2.3443797239678989e-07, 1.0], [2.3443797239533066e-07, 1.0], [0.9999999999997193, 1.3773894071084169e-17], [2.3443797239678989e-07, 1.0], [2.3443797239678989e-07, 1.0], [1.0, 7.49479046619701e-09], [2.3443797239678989e-07, 1.0], [3.539949630789169e-14, 1.0], [4.760185995141387e-07, 1.0], [4.760185995141387e-07, 1.0], [0.9999999999997193, 1.3773894071096696e-17], [0.9999999999997193, 1.3773894071084169e-17], [1.0, 7.49479046619701e-09], [2.735378606784197e-13, 1.0], [4.760185995141387e-07, 1.0], [1.0, 7.49479046619701e-09], [2.3443797239678989e-07, 1.0], [0.9999999999997193, 1.3773894071084169e-17], [0.9999997593963258, 1.7827783105267858e-14], [1.0, 5.399724176787439e-09], [3.2958381859094635e-19, 1.0], [1.0, 5.790537731467655e-12], [2.3443797239678989e-07, 1.0], [2.736071297671768e-13, 1.0], [1.0, 7.49479046619701e-09], [0.9999999999998617, 7.413173838927611e-08], [1.0, 7.49479046619701e-09], [4.760185995141387e-07, 1.0], [0.9999999999997193, 1.3773894071084169e-17], [2.3443797239678989e-07, 1.0], [1.0, 7.49479046619701e-09], [1.0, 7.49479046619701e-09], [1.0, 7.494790466196905e-09], [2.3443797239678989e-07, 1.0], [4.760185995141387e-07, 1.0], [0.9999997593963258, 1.7827783105267858e-14], [1.0, 7.49479046619701e-09], [1.0, 7.49479046619701e-09], [1.0, 7.49479046619701e-09], [1.0, 5.790537731467655e-12], [1.0, 7.49479046619701e-09], [1.0, 7.49479046619701e-09], [0.9999997597973544, 1.784154246233934e-14], [4.760185995141387e-07, 1.0], [0.9999999999997193, 1.3773894071084169e-17], [1.0, 7.49479046619701e-09], [2.3443797239678989e-07, 1.0], [1.0, 7.49479046619701e-09], [0.9999999999997193, 1.3773894071084169e-17], [1.0, 7.49479046619701e-09], [2.3443797239678989e-07, 1.0], [2.3443797239678989e-07, 1.0], [1.0, 5.790537731467655e-12], [1.0, 5.790537731467655e-12], [0.9999999999997193, 1.3773916445774456e-17], [1.0, 5.7905377175175346e-12], [1.0, 7.49479046619701e-09], [0.9999997593963258, 1.7827783105640535e-14], [1.0, 7.49479046619701e-09], [0.9999999999997193, 1.3773894071084169e-17], [4.760185994289154e-07, 1.0], [4.760185995141387e-07, 1.0], [1.0, 5.790537731467655e-12], [0.9999999999997193, 1.3773894071084169e-17], [0.9999997594030715, 1.782801427057929e-14], [0.9999999999997193, 1.3773894071084169e-17], [2.3443797239678989e-07, 1.0], [2.3443797239678989e-07, 1.0], [0.9999999999997193, 1.3773894071148567e-17], [2.3443797239678989e-07, 1.0], [4.760185995141387e-07, 1.0], [1.0, 7.49479046619701e-09], [0.9999999999998492, 1.8358616739546913e-17], [2.3443797239678989e-07, 1.0], [2.3443792937421956e-07, 1.0], [1.0, 7.49479046619701e-09], [4.760185995141387e-07, 1.0], [2.735378606784197e-13, 1.0], [1.0, 7.49479046619701e-09], [2.3443797239678989e-07, 1.0], [1.0, 5.790537731467655e-12], [1.0, 7.494790466200632e-09], [0.9999997593963258, 1.7827783105267858e-14], [0.9999997593963258, 1.7827783105267858e-14], [0.9999999999997193, 1.3773894071084169e-17], [0.9999999999997193, 1.3773894071086518e-17], [2.3443797239678989e-07, 1.0], [0.9999999999997193, 1.3773894071084169e-17], [2.8247268646226163e-13, 1.0], [4.760185922590398e-07, 1.0], [0.9999997593963258, 1.7827783105267858e-14], [1.0, 7.493736721731287e-09], [4.760185995141387e-07, 1.0], [2.3443797239678989e-07, 1.0], [4.760185995142792e-07, 1.0], [1.0, 7.49479046619701e-09], [0.9999997593963258, 1.7827783105267858e-14], [1.0, 5.790537731467655e-12], [3.295837933196582e-19, 1.0], [1.0, 5.7905377314674905e-12], [1.0, 5.790539620623675e-12], [2.3443797239678989e-07, 1.0], [2.3443797239678989e-07, 1.0], [1.0, 7.492433652437726e-09], [2.3443797239678989e-07, 1.0], [2.3443797239678989e-07, 1.0], [1.0, 7.49479046619701e-09], [4.760185995141387e-07, 1.0], [4.760185995141387e-07, 1.0], [5.0873878446689e-18, 1.0]]\n",
        "for i in range(len(pred)):\n",
        "  if p[i][0] and p[i][1] >0.5:\n",
        "    print(i)\n",
        "  "
      ],
      "metadata": {
        "id": "3JesiWufuaZ6"
      },
      "execution_count": null,
      "outputs": []
    }
  ]
}