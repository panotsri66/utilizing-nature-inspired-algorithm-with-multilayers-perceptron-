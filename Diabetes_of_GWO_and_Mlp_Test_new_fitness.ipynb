{
  "nbformat": 4,
  "nbformat_minor": 0,
  "metadata": {
    "colab": {
      "name": "Diabetes of GWO and Mlp Test new fitness.ipynb",
      "provenance": [],
      "collapsed_sections": []
    },
    "kernelspec": {
      "name": "python3",
      "display_name": "Python 3"
    },
    "language_info": {
      "name": "python"
    },
    "accelerator": "GPU"
  },
  "cells": [
    {
      "cell_type": "code",
      "execution_count": null,
      "metadata": {
        "id": "JsmzHlW5BSpU"
      },
      "outputs": [],
      "source": [
        "import numpy as np\n",
        "import pandas as pd\n",
        "import time \n",
        "import random\n",
        "from sklearn.model_selection import train_test_split\n",
        "from sklearn import datasets, preprocessing"
      ]
    },
    {
      "cell_type": "code",
      "source": [
        "from google.colab import drive\n",
        "drive.mount('/content/drive')"
      ],
      "metadata": {
        "colab": {
          "base_uri": "https://localhost:8080/"
        },
        "id": "_LI5PcEVzYtn",
        "outputId": "c6ee811a-e5c6-40f2-9c23-fbe1b8ff0438"
      },
      "execution_count": null,
      "outputs": [
        {
          "output_type": "stream",
          "name": "stdout",
          "text": [
            "Mounted at /content/drive\n"
          ]
        }
      ]
    },
    {
      "cell_type": "code",
      "source": [
        "import pandas as pd\n",
        "import numpy as np\n",
        "import matplotlib.pyplot as plt\n",
        "ds=pd.read_csv('/content/drive/MyDrive/diabetes.csv')\n",
        "ds.head(15)"
      ],
      "metadata": {
        "colab": {
          "base_uri": "https://localhost:8080/",
          "height": 520
        },
        "id": "HYOoo6J1zhwV",
        "outputId": "578f10a5-ee1b-4d90-8d35-8db52d1fcde1"
      },
      "execution_count": null,
      "outputs": [
        {
          "output_type": "execute_result",
          "data": {
            "text/plain": [
              "    Pregnancies  Glucose  BloodPressure  SkinThickness  Insulin   BMI  \\\n",
              "0             6      148             72             35        0  33.6   \n",
              "1             1       85             66             29        0  26.6   \n",
              "2             8      183             64              0        0  23.3   \n",
              "3             1       89             66             23       94  28.1   \n",
              "4             0      137             40             35      168  43.1   \n",
              "5             5      116             74              0        0  25.6   \n",
              "6             3       78             50             32       88  31.0   \n",
              "7            10      115              0              0        0  35.3   \n",
              "8             2      197             70             45      543  30.5   \n",
              "9             8      125             96              0        0   0.0   \n",
              "10            4      110             92              0        0  37.6   \n",
              "11           10      168             74              0        0  38.0   \n",
              "12           10      139             80              0        0  27.1   \n",
              "13            1      189             60             23      846  30.1   \n",
              "14            5      166             72             19      175  25.8   \n",
              "\n",
              "    DiabetesPedigreeFunction  Age  Outcome  \n",
              "0                      0.627   50        1  \n",
              "1                      0.351   31        0  \n",
              "2                      0.672   32        1  \n",
              "3                      0.167   21        0  \n",
              "4                      2.288   33        1  \n",
              "5                      0.201   30        0  \n",
              "6                      0.248   26        1  \n",
              "7                      0.134   29        0  \n",
              "8                      0.158   53        1  \n",
              "9                      0.232   54        1  \n",
              "10                     0.191   30        0  \n",
              "11                     0.537   34        1  \n",
              "12                     1.441   57        0  \n",
              "13                     0.398   59        1  \n",
              "14                     0.587   51        1  "
            ],
            "text/html": [
              "\n",
              "  <div id=\"df-4171db5c-62b4-44c6-a59a-33efe8db2b36\">\n",
              "    <div class=\"colab-df-container\">\n",
              "      <div>\n",
              "<style scoped>\n",
              "    .dataframe tbody tr th:only-of-type {\n",
              "        vertical-align: middle;\n",
              "    }\n",
              "\n",
              "    .dataframe tbody tr th {\n",
              "        vertical-align: top;\n",
              "    }\n",
              "\n",
              "    .dataframe thead th {\n",
              "        text-align: right;\n",
              "    }\n",
              "</style>\n",
              "<table border=\"1\" class=\"dataframe\">\n",
              "  <thead>\n",
              "    <tr style=\"text-align: right;\">\n",
              "      <th></th>\n",
              "      <th>Pregnancies</th>\n",
              "      <th>Glucose</th>\n",
              "      <th>BloodPressure</th>\n",
              "      <th>SkinThickness</th>\n",
              "      <th>Insulin</th>\n",
              "      <th>BMI</th>\n",
              "      <th>DiabetesPedigreeFunction</th>\n",
              "      <th>Age</th>\n",
              "      <th>Outcome</th>\n",
              "    </tr>\n",
              "  </thead>\n",
              "  <tbody>\n",
              "    <tr>\n",
              "      <th>0</th>\n",
              "      <td>6</td>\n",
              "      <td>148</td>\n",
              "      <td>72</td>\n",
              "      <td>35</td>\n",
              "      <td>0</td>\n",
              "      <td>33.6</td>\n",
              "      <td>0.627</td>\n",
              "      <td>50</td>\n",
              "      <td>1</td>\n",
              "    </tr>\n",
              "    <tr>\n",
              "      <th>1</th>\n",
              "      <td>1</td>\n",
              "      <td>85</td>\n",
              "      <td>66</td>\n",
              "      <td>29</td>\n",
              "      <td>0</td>\n",
              "      <td>26.6</td>\n",
              "      <td>0.351</td>\n",
              "      <td>31</td>\n",
              "      <td>0</td>\n",
              "    </tr>\n",
              "    <tr>\n",
              "      <th>2</th>\n",
              "      <td>8</td>\n",
              "      <td>183</td>\n",
              "      <td>64</td>\n",
              "      <td>0</td>\n",
              "      <td>0</td>\n",
              "      <td>23.3</td>\n",
              "      <td>0.672</td>\n",
              "      <td>32</td>\n",
              "      <td>1</td>\n",
              "    </tr>\n",
              "    <tr>\n",
              "      <th>3</th>\n",
              "      <td>1</td>\n",
              "      <td>89</td>\n",
              "      <td>66</td>\n",
              "      <td>23</td>\n",
              "      <td>94</td>\n",
              "      <td>28.1</td>\n",
              "      <td>0.167</td>\n",
              "      <td>21</td>\n",
              "      <td>0</td>\n",
              "    </tr>\n",
              "    <tr>\n",
              "      <th>4</th>\n",
              "      <td>0</td>\n",
              "      <td>137</td>\n",
              "      <td>40</td>\n",
              "      <td>35</td>\n",
              "      <td>168</td>\n",
              "      <td>43.1</td>\n",
              "      <td>2.288</td>\n",
              "      <td>33</td>\n",
              "      <td>1</td>\n",
              "    </tr>\n",
              "    <tr>\n",
              "      <th>5</th>\n",
              "      <td>5</td>\n",
              "      <td>116</td>\n",
              "      <td>74</td>\n",
              "      <td>0</td>\n",
              "      <td>0</td>\n",
              "      <td>25.6</td>\n",
              "      <td>0.201</td>\n",
              "      <td>30</td>\n",
              "      <td>0</td>\n",
              "    </tr>\n",
              "    <tr>\n",
              "      <th>6</th>\n",
              "      <td>3</td>\n",
              "      <td>78</td>\n",
              "      <td>50</td>\n",
              "      <td>32</td>\n",
              "      <td>88</td>\n",
              "      <td>31.0</td>\n",
              "      <td>0.248</td>\n",
              "      <td>26</td>\n",
              "      <td>1</td>\n",
              "    </tr>\n",
              "    <tr>\n",
              "      <th>7</th>\n",
              "      <td>10</td>\n",
              "      <td>115</td>\n",
              "      <td>0</td>\n",
              "      <td>0</td>\n",
              "      <td>0</td>\n",
              "      <td>35.3</td>\n",
              "      <td>0.134</td>\n",
              "      <td>29</td>\n",
              "      <td>0</td>\n",
              "    </tr>\n",
              "    <tr>\n",
              "      <th>8</th>\n",
              "      <td>2</td>\n",
              "      <td>197</td>\n",
              "      <td>70</td>\n",
              "      <td>45</td>\n",
              "      <td>543</td>\n",
              "      <td>30.5</td>\n",
              "      <td>0.158</td>\n",
              "      <td>53</td>\n",
              "      <td>1</td>\n",
              "    </tr>\n",
              "    <tr>\n",
              "      <th>9</th>\n",
              "      <td>8</td>\n",
              "      <td>125</td>\n",
              "      <td>96</td>\n",
              "      <td>0</td>\n",
              "      <td>0</td>\n",
              "      <td>0.0</td>\n",
              "      <td>0.232</td>\n",
              "      <td>54</td>\n",
              "      <td>1</td>\n",
              "    </tr>\n",
              "    <tr>\n",
              "      <th>10</th>\n",
              "      <td>4</td>\n",
              "      <td>110</td>\n",
              "      <td>92</td>\n",
              "      <td>0</td>\n",
              "      <td>0</td>\n",
              "      <td>37.6</td>\n",
              "      <td>0.191</td>\n",
              "      <td>30</td>\n",
              "      <td>0</td>\n",
              "    </tr>\n",
              "    <tr>\n",
              "      <th>11</th>\n",
              "      <td>10</td>\n",
              "      <td>168</td>\n",
              "      <td>74</td>\n",
              "      <td>0</td>\n",
              "      <td>0</td>\n",
              "      <td>38.0</td>\n",
              "      <td>0.537</td>\n",
              "      <td>34</td>\n",
              "      <td>1</td>\n",
              "    </tr>\n",
              "    <tr>\n",
              "      <th>12</th>\n",
              "      <td>10</td>\n",
              "      <td>139</td>\n",
              "      <td>80</td>\n",
              "      <td>0</td>\n",
              "      <td>0</td>\n",
              "      <td>27.1</td>\n",
              "      <td>1.441</td>\n",
              "      <td>57</td>\n",
              "      <td>0</td>\n",
              "    </tr>\n",
              "    <tr>\n",
              "      <th>13</th>\n",
              "      <td>1</td>\n",
              "      <td>189</td>\n",
              "      <td>60</td>\n",
              "      <td>23</td>\n",
              "      <td>846</td>\n",
              "      <td>30.1</td>\n",
              "      <td>0.398</td>\n",
              "      <td>59</td>\n",
              "      <td>1</td>\n",
              "    </tr>\n",
              "    <tr>\n",
              "      <th>14</th>\n",
              "      <td>5</td>\n",
              "      <td>166</td>\n",
              "      <td>72</td>\n",
              "      <td>19</td>\n",
              "      <td>175</td>\n",
              "      <td>25.8</td>\n",
              "      <td>0.587</td>\n",
              "      <td>51</td>\n",
              "      <td>1</td>\n",
              "    </tr>\n",
              "  </tbody>\n",
              "</table>\n",
              "</div>\n",
              "      <button class=\"colab-df-convert\" onclick=\"convertToInteractive('df-4171db5c-62b4-44c6-a59a-33efe8db2b36')\"\n",
              "              title=\"Convert this dataframe to an interactive table.\"\n",
              "              style=\"display:none;\">\n",
              "        \n",
              "  <svg xmlns=\"http://www.w3.org/2000/svg\" height=\"24px\"viewBox=\"0 0 24 24\"\n",
              "       width=\"24px\">\n",
              "    <path d=\"M0 0h24v24H0V0z\" fill=\"none\"/>\n",
              "    <path d=\"M18.56 5.44l.94 2.06.94-2.06 2.06-.94-2.06-.94-.94-2.06-.94 2.06-2.06.94zm-11 1L8.5 8.5l.94-2.06 2.06-.94-2.06-.94L8.5 2.5l-.94 2.06-2.06.94zm10 10l.94 2.06.94-2.06 2.06-.94-2.06-.94-.94-2.06-.94 2.06-2.06.94z\"/><path d=\"M17.41 7.96l-1.37-1.37c-.4-.4-.92-.59-1.43-.59-.52 0-1.04.2-1.43.59L10.3 9.45l-7.72 7.72c-.78.78-.78 2.05 0 2.83L4 21.41c.39.39.9.59 1.41.59.51 0 1.02-.2 1.41-.59l7.78-7.78 2.81-2.81c.8-.78.8-2.07 0-2.86zM5.41 20L4 18.59l7.72-7.72 1.47 1.35L5.41 20z\"/>\n",
              "  </svg>\n",
              "      </button>\n",
              "      \n",
              "  <style>\n",
              "    .colab-df-container {\n",
              "      display:flex;\n",
              "      flex-wrap:wrap;\n",
              "      gap: 12px;\n",
              "    }\n",
              "\n",
              "    .colab-df-convert {\n",
              "      background-color: #E8F0FE;\n",
              "      border: none;\n",
              "      border-radius: 50%;\n",
              "      cursor: pointer;\n",
              "      display: none;\n",
              "      fill: #1967D2;\n",
              "      height: 32px;\n",
              "      padding: 0 0 0 0;\n",
              "      width: 32px;\n",
              "    }\n",
              "\n",
              "    .colab-df-convert:hover {\n",
              "      background-color: #E2EBFA;\n",
              "      box-shadow: 0px 1px 2px rgba(60, 64, 67, 0.3), 0px 1px 3px 1px rgba(60, 64, 67, 0.15);\n",
              "      fill: #174EA6;\n",
              "    }\n",
              "\n",
              "    [theme=dark] .colab-df-convert {\n",
              "      background-color: #3B4455;\n",
              "      fill: #D2E3FC;\n",
              "    }\n",
              "\n",
              "    [theme=dark] .colab-df-convert:hover {\n",
              "      background-color: #434B5C;\n",
              "      box-shadow: 0px 1px 3px 1px rgba(0, 0, 0, 0.15);\n",
              "      filter: drop-shadow(0px 1px 2px rgba(0, 0, 0, 0.3));\n",
              "      fill: #FFFFFF;\n",
              "    }\n",
              "  </style>\n",
              "\n",
              "      <script>\n",
              "        const buttonEl =\n",
              "          document.querySelector('#df-4171db5c-62b4-44c6-a59a-33efe8db2b36 button.colab-df-convert');\n",
              "        buttonEl.style.display =\n",
              "          google.colab.kernel.accessAllowed ? 'block' : 'none';\n",
              "\n",
              "        async function convertToInteractive(key) {\n",
              "          const element = document.querySelector('#df-4171db5c-62b4-44c6-a59a-33efe8db2b36');\n",
              "          const dataTable =\n",
              "            await google.colab.kernel.invokeFunction('convertToInteractive',\n",
              "                                                     [key], {});\n",
              "          if (!dataTable) return;\n",
              "\n",
              "          const docLinkHtml = 'Like what you see? Visit the ' +\n",
              "            '<a target=\"_blank\" href=https://colab.research.google.com/notebooks/data_table.ipynb>data table notebook</a>'\n",
              "            + ' to learn more about interactive tables.';\n",
              "          element.innerHTML = '';\n",
              "          dataTable['output_type'] = 'display_data';\n",
              "          await google.colab.output.renderOutput(dataTable, element);\n",
              "          const docLink = document.createElement('div');\n",
              "          docLink.innerHTML = docLinkHtml;\n",
              "          element.appendChild(docLink);\n",
              "        }\n",
              "      </script>\n",
              "    </div>\n",
              "  </div>\n",
              "  "
            ]
          },
          "metadata": {},
          "execution_count": 3
        }
      ]
    },
    {
      "cell_type": "markdown",
      "source": [
        "# Import Data"
      ],
      "metadata": {
        "id": "eYyxCvcDeDTB"
      }
    },
    {
      "cell_type": "code",
      "source": [
        "\n",
        "x = ds.drop(['Outcome'], axis = 1).values\n",
        "y = ds['Outcome'].values\n",
        "y = y.reshape(y.shape[0], 1)\n",
        "#Spliting Data\n",
        "from sklearn.model_selection import train_test_split\n",
        "x_train, x_test, y_train, y_test= train_test_split(x,y,test_size=0.25,random_state=0)\n",
        "#Standardize data\n",
        "from sklearn.preprocessing import StandardScaler \n",
        "scale = StandardScaler()\n",
        "x_train_std = scale.fit_transform(x_train)\n",
        "x_test_std = scale.transform(x_test)\n"
      ],
      "metadata": {
        "id": "VGzlvOxiB30Z"
      },
      "execution_count": null,
      "outputs": []
    },
    {
      "cell_type": "code",
      "source": [
        "print(y_train[0][0])"
      ],
      "metadata": {
        "colab": {
          "base_uri": "https://localhost:8080/"
        },
        "id": "QtOasfzldLih",
        "outputId": "867e681a-5419-4964-9945-a3186b9aad7e"
      },
      "execution_count": null,
      "outputs": [
        {
          "output_type": "stream",
          "name": "stdout",
          "text": [
            "0\n"
          ]
        }
      ]
    },
    {
      "cell_type": "code",
      "source": [
        "def sigmoid(x):\n",
        "  return 1/(1+np.exp(-x))"
      ],
      "metadata": {
        "id": "Jr8lD7NVD1dL"
      },
      "execution_count": null,
      "outputs": []
    },
    {
      "cell_type": "markdown",
      "source": [
        "# Feed Forward"
      ],
      "metadata": {
        "id": "XXXnmkUTkfL7"
      }
    },
    {
      "cell_type": "code",
      "source": [
        "def FF(HL,OL,W,B,x):\n",
        "  INL=len(x)\n",
        "  hidden_layer=np.zeros((HL))\n",
        "  output_layer=np.zeros((OL))\n",
        "  witr=0\n",
        "  bitr=0\n",
        "  for i in range(HL):\n",
        "    sum=0\n",
        "    for j in range(INL):\n",
        "      sum=sum+(x[j]*W[witr])\n",
        "      witr=witr+1\n",
        "    sum=sum.sum()\n",
        "    hidden_layer[i]=sigmoid(sum+B[bitr])\n",
        "    bitr=bitr+1\n",
        "\n",
        "  for i in range(OL):\n",
        "    output=0\n",
        "    for j in range(HL):\n",
        "      output=output+(hidden_layer[j]*W[witr])\n",
        "      witr = witr + 1\n",
        "    output=output.sum()\n",
        "    output_layer[i]=sigmoid(output+B[bitr])\n",
        "    bitr=bitr+1\n",
        "  return output_layer"
      ],
      "metadata": {
        "id": "CJsxevK4EH74"
      },
      "execution_count": null,
      "outputs": []
    },
    {
      "cell_type": "code",
      "source": [
        "NIL=8\n",
        "HL=18\n",
        "OL=1\n",
        "#144+18+19=181"
      ],
      "metadata": {
        "id": "E54Hh79aGE3S"
      },
      "execution_count": null,
      "outputs": []
    },
    {
      "cell_type": "code",
      "source": [
        "def MLP(solution):\n",
        "      fitness=0\n",
        "      w=(NIL*HL)+(HL*OL)\n",
        "      b=(NIL*HL)+HL+(HL*OL)+OL\n",
        "      W=solution[0:w]\n",
        "      B=solution[w:b]\n",
        "      for idx,x in enumerate(x_train_std):\n",
        "        actualValue=FF(HL,OL,W,B,x)\n",
        "\n",
        "        fitness+=pow((actualValue[0]-y_train[idx][0]),2)\n",
        "\n",
        "      fitness=fitness/len(x_train)\n",
        "      \n",
        "      return fitness"
      ],
      "metadata": {
        "id": "16mw-PgwsOIV"
      },
      "execution_count": null,
      "outputs": []
    },
    {
      "cell_type": "markdown",
      "source": [
        "# GWO Algorithm"
      ],
      "metadata": {
        "id": "ShLg4VnLkihz"
      }
    },
    {
      "cell_type": "code",
      "source": [
        "import random\n",
        "import numpy as np\n",
        "import math\n",
        "import time\n",
        "\n",
        "class solution:\n",
        "    def __init__(self):\n",
        "        self.best = 0\n",
        "        self.bestIndividual = []\n",
        "        self.convergence = []\n",
        "        self.optimizer = \"\"\n",
        "        self.objfname = \"\"\n",
        "        self.startTime = 0\n",
        "        self.endTime = 0\n",
        "        self.executionTime = 0\n",
        "        self.lb = 0\n",
        "        self.ub = 0\n",
        "        self.dim = 0\n",
        "        self.popnum = 0\n",
        "        self.maxiers = 0\n",
        "def GWO(objf, lb, ub, dim, SearchAgents_no, Max_iter):\n",
        "\n",
        "    # Max_iter=1000\n",
        "    # lb=-100\n",
        "    # ub=100\n",
        "    # dim=30\n",
        "    # SearchAgents_no=5\n",
        "\n",
        "    # initialize alpha, beta, and delta_pos\n",
        "    Alpha_pos = np.zeros(dim)\n",
        "    Alpha_score = float(\"inf\")\n",
        "\n",
        "    Beta_pos = np.zeros(dim)\n",
        "    Beta_score = float(\"inf\")\n",
        "\n",
        "    Delta_pos = np.zeros(dim)\n",
        "    Delta_score = float(\"inf\")\n",
        "\n",
        "    if not isinstance(lb, list):\n",
        "        lb = [lb] * dim\n",
        "    if not isinstance(ub, list):\n",
        "        ub = [ub] * dim\n",
        "\n",
        "    # Initialize the positions of search agents\n",
        "    Positions = np.zeros((SearchAgents_no, dim))\n",
        "    for i in range(dim):\n",
        "        Positions[:, i] = (\n",
        "            np.random.uniform(0, 1, SearchAgents_no) * (ub[i] - lb[i]) + lb[i]\n",
        "        )\n",
        "\n",
        "    Convergence_curve = np.zeros(Max_iter)\n",
        "    s = solution()\n",
        "\n",
        "    # Loop counter\n",
        "    print('GWO is optimizing  \"' + objf.__name__ + '\"')\n",
        "\n",
        "    timerStart = time.time()\n",
        "    s.startTime = time.strftime(\"%Y-%m-%d-%H-%M-%S\")\n",
        "    # Main loop\n",
        "    for l in range(0, Max_iter):\n",
        "        for i in range(0, SearchAgents_no):\n",
        "\n",
        "            # Return back the search agents that go beyond the boundaries of the search space\n",
        "            for j in range(dim):\n",
        "                Positions[i, j] = np.clip(Positions[i, j], lb[j], ub[j])\n",
        "\n",
        "            # Calculate objective function for each search agent\n",
        "            fitness = objf(Positions[i, :])\n",
        "\n",
        "            # Update Alpha, Beta, and Delta\n",
        "            if fitness < Alpha_score:\n",
        "                Delta_score = Beta_score  # Update delte\n",
        "                Delta_pos = Beta_pos.copy()\n",
        "                Beta_score = Alpha_score  # Update beta\n",
        "                Beta_pos = Alpha_pos.copy()\n",
        "                Alpha_score = fitness\n",
        "                # Update alpha\n",
        "                Alpha_pos = Positions[i, :].copy()\n",
        "                \n",
        "\n",
        "            if fitness > Alpha_score and fitness < Beta_score:\n",
        "                Delta_score = Beta_score  # Update delte\n",
        "                Delta_pos = Beta_pos.copy()\n",
        "                Beta_score = fitness  # Update beta\n",
        "                Beta_pos = Positions[i, :].copy()\n",
        "\n",
        "            if fitness > Alpha_score and fitness > Beta_score and fitness < Delta_score:\n",
        "                Delta_score = fitness  # Update delta\n",
        "                Delta_pos = Positions[i, :].copy()\n",
        "\n",
        "        a = 2 - l * ((2) / Max_iter)\n",
        "        # a decreases linearly fron 2 to 0\n",
        "\n",
        "        # Update the Position of search agents including omegas\n",
        "        for i in range(0, SearchAgents_no):\n",
        "            for j in range(0, dim):\n",
        "\n",
        "                r1 = random.random()  # r1 is a random number in [0,1]\n",
        "                r2 = random.random()  # r2 is a random number in [0,1]\n",
        "\n",
        "                A1 = 2 * a * r1 - a\n",
        "                # Equation (3.3)\n",
        "                C1 = 2 * r2\n",
        "                # Equation (3.4)\n",
        "\n",
        "                D_alpha = abs(C1 * Alpha_pos[j] - Positions[i, j])\n",
        "                # Equation (3.5)-part 1\n",
        "                X1 = Alpha_pos[j] - A1 * D_alpha\n",
        "                # Equation (3.6)-part 1\n",
        "\n",
        "                r1 = random.random()\n",
        "                r2 = random.random()\n",
        "\n",
        "                A2 = 2 * a * r1 - a\n",
        "                # Equation (3.3)\n",
        "                C2 = 2 * r2\n",
        "                # Equation (3.4)\n",
        "\n",
        "                D_beta = abs(C2 * Beta_pos[j] - Positions[i, j])\n",
        "                # Equation (3.5)-part 2\n",
        "                X2 = Beta_pos[j] - A2 * D_beta\n",
        "                # Equation (3.6)-part 2\n",
        "\n",
        "                r1 = random.random()\n",
        "                r2 = random.random()\n",
        "\n",
        "                A3 = 2 * a * r1 - a\n",
        "                # Equation (3.3)\n",
        "                C3 = 2 * r2\n",
        "                # Equation (3.4)\n",
        "\n",
        "                D_delta = abs(C3 * Delta_pos[j] - Positions[i, j])\n",
        "                # Equation (3.5)-part 3\n",
        "                X3 = Delta_pos[j] - A3 * D_delta\n",
        "                # Equation (3.5)-part 3\n",
        "\n",
        "                Positions[i, j] = (X1 + X2 + X3) / 3  # Equation (3.7)\n",
        "                \n",
        "\n",
        "        Convergence_curve[l] = Alpha_score\n",
        "\n",
        "        if l / Max_iter-1 == 1:\n",
        "            print(\n",
        "                [\"At iteration \" + str(l) + \" the best fitness is \" + str(Alpha_score)]\n",
        "            )\n",
        "            print(Alpha_pos)\n",
        "\n",
        "    timerEnd = time.time()\n",
        "    s.endTime = time.strftime(\"%Y-%m-%d-%H-%M-%S\")\n",
        "    s.executionTime = timerEnd - timerStart\n",
        "    s.convergence = Convergence_curve\n",
        "    s.optimizer = \"GWO\"\n",
        "    s.objfname = objf.__name__\n",
        "    s.bestIndividual.append(Alpha_pos)\n",
        "\n",
        "\n",
        "    return s"
      ],
      "metadata": {
        "id": "rY-vCqyTRdLL"
      },
      "execution_count": null,
      "outputs": []
    },
    {
      "cell_type": "code",
      "source": [
        "A=GWO(MLP, -1, 1, 181, 50, 1000)\n"
      ],
      "metadata": {
        "id": "Ontf5gBncKFW",
        "colab": {
          "base_uri": "https://localhost:8080/"
        },
        "outputId": "bc24409c-3f0b-490e-ea01-f0e1584c7ec3"
      },
      "execution_count": null,
      "outputs": [
        {
          "output_type": "stream",
          "name": "stdout",
          "text": [
            "GWO is optimizing  \"MLP\"\n"
          ]
        }
      ]
    },
    {
      "cell_type": "code",
      "source": [
        "print(A.convergence[999])"
      ],
      "metadata": {
        "colab": {
          "base_uri": "https://localhost:8080/"
        },
        "id": "HfuRL5_aHDR4",
        "outputId": "cdc7fcf4-d81c-4666-c953-af141959022c"
      },
      "execution_count": null,
      "outputs": [
        {
          "output_type": "stream",
          "name": "stdout",
          "text": [
            "0.15067932592857294\n"
          ]
        }
      ]
    },
    {
      "cell_type": "code",
      "source": [
        "solution=A.bestIndividual[0]\n",
        "print(solution)"
      ],
      "metadata": {
        "colab": {
          "base_uri": "https://localhost:8080/"
        },
        "id": "w598OK7likpT",
        "outputId": "35dc82dd-c648-4f69-d8c4-bd97191a9435"
      },
      "execution_count": null,
      "outputs": [
        {
          "output_type": "stream",
          "name": "stdout",
          "text": [
            "[ 3.81872003e-01 -7.28673623e-03 -7.12196376e-01  8.23473300e-02\n",
            "  2.63753627e-01  7.87424719e-01  1.03495026e-01 -1.28495253e-02\n",
            " -3.67035777e-01 -5.53207469e-01  1.11679122e-02  6.30199045e-02\n",
            " -1.43951575e-01 -1.55689003e-01  1.53659351e-01  1.19251376e-02\n",
            "  9.97387244e-01  5.35532244e-03  4.38793595e-02  8.65895351e-03\n",
            " -8.91669415e-02  2.41632902e-02  2.73526103e-01  6.73767324e-02\n",
            " -8.54566927e-01 -7.48612799e-01  9.04059080e-02  8.74315448e-01\n",
            " -2.11295007e-01  1.89850437e-02 -8.65140582e-01  2.58783423e-01\n",
            " -5.55239524e-01 -9.94422535e-01  1.35914247e-01  7.80107665e-02\n",
            "  9.99639091e-01  2.10706987e-02 -6.50475746e-01  9.99773332e-01\n",
            "  3.89749641e-02  9.87275884e-01 -1.54360704e-01  2.05868472e-02\n",
            " -8.23888542e-04  1.10287634e-01  9.20506575e-04  1.00000000e+00\n",
            " -2.74086209e-02 -9.31119125e-04 -5.75354867e-02 -8.30921860e-03\n",
            " -3.74932873e-04 -6.30815590e-01 -8.47693304e-01 -1.27274459e-01\n",
            "  5.95261081e-02 -6.66018404e-01 -3.57316492e-02  7.15116699e-04\n",
            " -3.74685332e-01  1.44643951e-02 -2.09724121e-02 -3.12160583e-02\n",
            "  1.36856058e-01 -5.74116626e-01  1.62827804e-01 -1.64356238e-02\n",
            " -2.66835812e-03 -3.89268858e-03  2.76551489e-02  3.75095768e-02\n",
            " -5.31259754e-02  3.27384477e-02 -9.88396770e-01  3.11539462e-01\n",
            "  2.50309384e-01 -2.90113424e-02  5.38090910e-02 -9.99840583e-01\n",
            "  9.16425694e-02  9.70140887e-01 -5.06294239e-03 -1.96613964e-01\n",
            " -5.90539143e-02  3.94372411e-02  4.52882353e-01 -3.02427341e-02\n",
            "  4.46256528e-02 -9.98770774e-01  7.50321567e-01  2.75461414e-01\n",
            "  6.39573296e-02 -5.70823583e-02  1.13172198e-03 -1.00000000e+00\n",
            " -4.14582277e-01  1.18261114e-01  1.74158108e-01  1.69407493e-01\n",
            "  1.19161403e-01 -9.83129011e-02 -2.53469001e-01  4.81796588e-03\n",
            " -8.16074888e-03  1.00000000e+00 -2.02173371e-01  2.88507421e-02\n",
            " -1.36771497e-01  3.55552724e-01 -6.49247578e-01  2.57712195e-02\n",
            " -6.94603227e-02 -8.79618196e-04 -1.74616361e-01 -9.99944768e-01\n",
            " -5.35826151e-01 -1.31105519e-02 -7.91897681e-02 -2.18690038e-01\n",
            "  3.72879868e-02 -1.08552996e-01  1.22067166e-01  7.77033559e-03\n",
            "  1.00000000e+00 -1.00000000e+00 -9.89569881e-01  4.06508717e-03\n",
            "  3.56034299e-02  5.98694704e-01 -1.59788351e-01 -1.08460475e-01\n",
            "  9.95152961e-01  9.85237556e-01  9.95642485e-01  4.14650596e-02\n",
            "  4.44547570e-02  1.23406175e-02 -8.78505150e-02 -1.23771699e-01\n",
            " -1.87147427e-02 -1.67661804e-02 -3.25071374e-01  6.04879142e-02\n",
            "  1.00000000e+00 -5.60268014e-01 -7.41975804e-02  5.54153600e-04\n",
            " -9.99161240e-01  1.00000000e+00 -3.55017876e-01 -7.10410754e-01\n",
            " -6.04990940e-03 -7.90331369e-01  5.39486029e-03 -9.99922617e-01\n",
            "  9.92301091e-01  9.99086277e-01 -5.98874472e-01 -9.98603734e-01\n",
            "  9.99910415e-01  4.12436202e-03 -2.28668223e-01 -2.74445278e-02\n",
            " -2.61144967e-01  2.58309914e-02  3.33819422e-02  3.18675482e-02\n",
            " -6.49913223e-05 -7.62481723e-02  2.17091314e-01 -1.53839726e-03\n",
            " -9.81438277e-02  2.01603851e-02 -6.97449044e-01 -9.49469200e-01\n",
            " -8.94521833e-04 -1.41371550e-02 -7.96529327e-03  3.19189481e-02\n",
            "  1.75810100e-01]\n"
          ]
        }
      ]
    },
    {
      "cell_type": "code",
      "source": [
        "def Test(HL,OL,W,B,x):\n",
        "  INL=len(x)\n",
        "  hidden_layer=np.zeros((HL))\n",
        "  output_layer=np.zeros((OL))\n",
        "  witr=0\n",
        "  bitr=0\n",
        "  for i in range(HL):\n",
        "    sum=0\n",
        "    for j in range(INL):\n",
        "      sum=sum+(x[j]*W[witr])\n",
        "      witr=witr+1\n",
        "    sum=sum.sum()\n",
        "    hidden_layer[i]=sigmoid(sum+B[bitr])\n",
        "    bitr=bitr+1\n",
        "\n",
        "  for i in range(OL):\n",
        "    output=0\n",
        "    for j in range(HL):\n",
        "      output=output+(hidden_layer[j]*W[witr])\n",
        "      witr = witr + 1\n",
        "    output=output.sum()\n",
        "    output_layer[i]=sigmoid(output+B[bitr])\n",
        "    bitr=bitr+1\n",
        "  return output_layer\n",
        "\n",
        "\n"
      ],
      "metadata": {
        "id": "qW8GKlcj1CEj"
      },
      "execution_count": null,
      "outputs": []
    },
    {
      "cell_type": "code",
      "source": [
        "min_key=min(B.keys(), key=(lambda k: B[k]))"
      ],
      "metadata": {
        "id": "D9Z-aqy9Zqw4"
      },
      "execution_count": null,
      "outputs": []
    },
    {
      "cell_type": "code",
      "source": [
        "w=(NIL*HL)+(HL*OL)\n",
        "b=(NIL*HL)+HL+(HL*OL)+OL    \n",
        "W=solution[0:w]\n",
        "B=solution[w:b]\n",
        "print(len(W))\n",
        "print(B)"
      ],
      "metadata": {
        "colab": {
          "base_uri": "https://localhost:8080/"
        },
        "id": "W9B5F0yCA5Jp",
        "outputId": "6d2c42a4-c082-4d86-96d2-c3fc70a87b47"
      },
      "execution_count": null,
      "outputs": [
        {
          "output_type": "stream",
          "name": "stdout",
          "text": [
            "162\n",
            "[-2.28668223e-01 -2.74445278e-02 -2.61144967e-01  2.58309914e-02\n",
            "  3.33819422e-02  3.18675482e-02 -6.49913223e-05 -7.62481723e-02\n",
            "  2.17091314e-01 -1.53839726e-03 -9.81438277e-02  2.01603851e-02\n",
            " -6.97449044e-01 -9.49469200e-01 -8.94521833e-04 -1.41371550e-02\n",
            " -7.96529327e-03  3.19189481e-02  1.75810100e-01]\n"
          ]
        }
      ]
    },
    {
      "cell_type": "code",
      "source": [
        "a=Test(HL,OL,W,B,x_test_std[7])\n",
        "print(a)\n"
      ],
      "metadata": {
        "colab": {
          "base_uri": "https://localhost:8080/"
        },
        "id": "pSUu0MQbcuWZ",
        "outputId": "b1ddbd2e-1738-4e70-ef8b-33a8c1e01b6a"
      },
      "execution_count": null,
      "outputs": [
        {
          "output_type": "stream",
          "name": "stdout",
          "text": [
            "[1.]\n"
          ]
        }
      ]
    },
    {
      "cell_type": "code",
      "source": [
        "R=0\n",
        "for i in range(len(y_train)):\n",
        "  p=Test(HL,OL,W,B,x_train_std[i])\n",
        "  if y_train[i][0]==0:\n",
        "    if p[0]<0.5:\n",
        "      R+=1\n",
        "  if y_train[i][0]==1:\n",
        "    if p[0]>0.5:\n",
        "      R+=1\n"
      ],
      "metadata": {
        "id": "cuqlvZ5omKyC"
      },
      "execution_count": null,
      "outputs": []
    },
    {
      "cell_type": "code",
      "source": [
        "print((R*100)/len(y_train))"
      ],
      "metadata": {
        "colab": {
          "base_uri": "https://localhost:8080/"
        },
        "id": "OhBl0E1foMDj",
        "outputId": "cdd9cdfd-e783-4a12-b29b-d7c5d4932826"
      },
      "execution_count": null,
      "outputs": [
        {
          "output_type": "stream",
          "name": "stdout",
          "text": [
            "78.29861111111111\n"
          ]
        }
      ]
    },
    {
      "cell_type": "markdown",
      "source": [
        ""
      ],
      "metadata": {
        "id": "DqGVy9k7m_TV"
      }
    },
    {
      "cell_type": "code",
      "source": [
        "def prediction(HL,OL,W,B,x):\n",
        "  predict=[]\n",
        "  s=[]\n",
        "  for i in range(len(x)):\n",
        "    a=Test(HL,OL,W,B,x[i])\n",
        "    if a[0]>0.5:\n",
        "      predict.append(1)\n",
        "    else:\n",
        "      predict.append(0)\n",
        "    \n",
        "    \n",
        "  \n",
        "  return predict"
      ],
      "metadata": {
        "id": "Nxn2UeTQZ2cf"
      },
      "execution_count": null,
      "outputs": []
    },
    {
      "cell_type": "code",
      "source": [
        "pred=prediction(HL,OL,W,B,x_test_std)\n",
        "print(f\"Predict :{pred}\")\n",
        "y_true = sum(y_test.tolist(), [])\n",
        "print(f\"true y:{y_true}\")\n",
        "\n",
        "acc=0\n",
        "for i in range(len(y_test)):\n",
        "  if pred[i]==y_true[i]:\n",
        "    acc+=1\n",
        "\n",
        "print(f\"accuracy:{acc/len(y_test)*100}%\")"
      ],
      "metadata": {
        "colab": {
          "base_uri": "https://localhost:8080/"
        },
        "id": "nXASOeXZfLm5",
        "outputId": "4156904c-df29-473c-cb1e-d977f847349d"
      },
      "execution_count": null,
      "outputs": [
        {
          "output_type": "stream",
          "name": "stdout",
          "text": [
            "Predict :[1, 0, 0, 1, 0, 0, 1, 1, 0, 0, 1, 1, 0, 0, 0, 0, 1, 0, 0, 0, 1, 0, 0, 0, 0, 0, 0, 1, 0, 0, 1, 0, 0, 1, 0, 1, 0, 0, 0, 1, 0, 0, 0, 1, 1, 0, 0, 0, 0, 0, 0, 0, 1, 0, 0, 0, 0, 1, 0, 0, 1, 1, 0, 1, 1, 1, 1, 0, 0, 0, 0, 0, 0, 1, 1, 0, 0, 1, 0, 0, 0, 0, 0, 0, 0, 0, 0, 0, 1, 0, 0, 0, 0, 0, 1, 0, 0, 1, 1, 0, 0, 0, 0, 0, 1, 0, 0, 0, 0, 1, 0, 0, 1, 1, 1, 1, 0, 1, 0, 1, 0, 0, 0, 0, 0, 0, 0, 0, 1, 0, 0, 0, 0, 1, 0, 0, 0, 0, 1, 0, 0, 1, 0, 0, 0, 0, 0, 0, 0, 0, 0, 1, 0, 0, 1, 0, 1, 0, 0, 1, 1, 1, 0, 0, 1, 0, 0, 0, 0, 0, 0, 0, 0, 0, 1, 0, 0, 0, 0, 0, 0, 1, 0, 1, 0, 0, 1, 0, 0, 0, 0, 0]\n",
            "true y:[1, 0, 0, 1, 0, 0, 1, 1, 0, 0, 1, 1, 0, 0, 0, 0, 1, 0, 0, 0, 1, 1, 0, 0, 0, 0, 0, 0, 0, 0, 0, 0, 0, 0, 0, 1, 1, 0, 0, 0, 0, 0, 0, 1, 1, 0, 0, 1, 1, 1, 0, 0, 1, 0, 0, 0, 0, 1, 1, 1, 1, 0, 0, 1, 1, 1, 1, 0, 0, 0, 0, 0, 0, 0, 1, 0, 0, 0, 0, 0, 0, 0, 0, 0, 0, 0, 1, 0, 1, 0, 0, 0, 0, 0, 0, 0, 1, 0, 1, 1, 0, 0, 0, 0, 0, 1, 0, 0, 0, 1, 0, 1, 1, 1, 1, 1, 0, 0, 0, 1, 0, 0, 0, 0, 0, 0, 0, 1, 0, 0, 0, 0, 0, 1, 0, 1, 0, 1, 1, 0, 0, 0, 0, 0, 1, 0, 0, 0, 0, 1, 0, 1, 0, 0, 1, 0, 0, 0, 1, 1, 1, 1, 0, 0, 0, 1, 0, 0, 0, 0, 0, 0, 1, 1, 0, 0, 0, 0, 0, 0, 1, 1, 0, 1, 1, 0, 1, 1, 1, 0, 0, 0]\n",
            "accuracy:78.64583333333334%\n"
          ]
        }
      ]
    },
    {
      "cell_type": "code",
      "source": [
        "p=[[2.3443797239678989e-07, 1.0], [1.0, 5.790537731467655e-12], [4.760185995141387e-07, 1.0], [0.9999999999997193, 1.3773894071084169e-17], [1.0, 7.49479046619701e-09], [1.0, 5.790537731467655e-12], [0.9999997593963258, 1.7827783105267858e-14], [1.0, 7.49479046619701e-09], [2.3443797239678989e-07, 1.0], [2.3443797239678989e-07, 1.0], [1.0, 7.49479046619701e-09], [1.0, 7.49479046619701e-09], [4.760185995141387e-07, 1.0], [1.0, 7.49479046619701e-09], [0.9999999999998617, 7.413173583065964e-08], [1.0, 7.49479046619701e-09], [3.295837933196582e-19, 1.0], [4.760185995141387e-07, 1.0], [1.0, 5.790537731467655e-12], [1.0, 7.49479046619701e-09], [2.3443797239678989e-07, 1.0], [1.0, 5.790537731467655e-12], [1.0, 7.49479046619701e-09], [2.735378606784197e-13, 1.0], [1.0, 7.49479046619701e-09], [4.760185995141387e-07, 1.0], [1.0, 7.49479046619701e-09], [4.7601859951413703e-07, 1.0], [1.0, 5.790537731467655e-12], [0.9999997594005218, 1.7827926890587977e-14], [2.3443797239678989e-07, 1.0], [0.9999999999997193, 1.3777059110728068e-17], [2.3443797239678989e-07, 1.0], [2.3443797239678989e-07, 1.0], [2.3443797239678989e-07, 1.0], [0.9999999999997193, 1.3773894071084169e-17], [1.0, 7.49479046619701e-09], [2.3441849876730426e-07, 1.0], [0.9999997593963258, 1.7827783105267858e-14], [2.3443797239678989e-07, 1.0], [0.999997046667274, 1.0], [3.4230559529451456e-19, 1.0], [1.0, 7.49479046619701e-09], [1.0, 7.49479046619701e-09], [2.7353786067445575e-13, 1.0], [2.3443797239678989e-07, 1.0], [1.0, 7.49479046619701e-09], [0.9999999999998619, 7.412144614465116e-08], [2.3443797239678989e-07, 1.0], [1.0, 7.49479046619701e-09], [1.0, 7.49479046619701e-09], [3.2958383525020503e-19, 1.0], [0.9999999999997193, 1.3773894071084169e-17], [4.760185995141387e-07, 1.0], [2.3443797239678989e-07, 1.0], [1.0, 5.790537748567615e-12], [2.3443797239678989e-07, 1.0], [2.3443797239678989e-07, 1.0], [0.9999997593963258, 1.7827783105267858e-14], [3.295837933196582e-19, 1.0], [4.760185995141387e-07, 1.0], [0.9999997593963258, 1.7827783105267858e-14], [1.0, 5.790537731467655e-12], [1.0, 7.49479046619701e-09], [1.0, 5.790537731467655e-12], [2.735378606784197e-13, 1.0], [2.3443797239678989e-07, 1.0], [2.3443797239678989e-07, 1.0], [4.760185995141387e-07, 1.0], [1.0, 7.49479046619701e-09], [4.7601859963200897e-07, 1.0], [1.0, 7.49479046619701e-09], [2.730081969202577e-13, 1.0], [1.0, 7.49479046619701e-09], [0.9999999999998617, 7.413173838927611e-08], [2.824682922217676e-13, 1.0], [1.0, 5.790537731467655e-12], [1.0, 7.49479046619701e-09], [1.0, 7.494780457447032e-09], [1.0, 7.49479046619701e-09], [4.760185995141387e-07, 1.0], [2.3443797239678989e-07, 1.0], [1.0, 7.49479046619701e-09], [1.0, 7.49479046619701e-09], [1.2482862984116327e-18, 1.0], [2.3443797239678989e-07, 1.0], [1.0, 7.494790466200846e-09], [1.0, 5.790537731467655e-12], [1.0, 7.49479046619701e-09], [1.0, 5.790537731467655e-12], [1.0, 7.49479046619701e-09], [2.3443797239678989e-07, 1.0], [2.3443797239678989e-07, 1.0], [4.7601836872318313e-07, 1.0], [2.3443797239678989e-07, 1.0], [0.9999999999999998, 3.6456980727045307e-10], [1.0, 7.49479046619701e-09], [1.0, 5.790537731467655e-12], [2.3443797239678989e-07, 1.0], [3.561895408985392e-19, 1.0], [0.9999999999998617, 7.413141488936635e-08], [2.3443797239678989e-07, 1.0], [1.0, 7.49479046619701e-09], [0.999997046667274, 1.0], [1.0, 7.49479046619701e-09], [2.3443797226534723e-07, 1.0], [0.9999999999997193, 1.377389407325726e-17], [2.3443797239678989e-07, 1.0], [2.3443797239678989e-07, 1.0], [2.735371990190059e-13, 1.0], [1.0, 7.49479046619701e-09], [3.295837933196582e-19, 1.0], [1.0, 5.790537731467655e-12], [0.9999999954925718, 1.1219721194964509e-13], [4.760185995141387e-07, 1.0], [0.9999997593963258, 1.7827783105267858e-14], [0.9999997593963258, 1.7827783105267858e-14], [1.0, 5.790537731467655e-12], [2.3443797239678989e-07, 1.0], [2.3443797239678989e-07, 1.0], [1.0, 5.790537731467655e-12], [1.0, 7.49479046619701e-09], [2.3443797239678989e-07, 1.0], [2.735378606754956e-13, 1.0], [2.344379723967903e-07, 1.0], [2.3443797239678989e-07, 1.0], [4.760185995141387e-07, 1.0], [0.9999997593963258, 1.7827783105267858e-14], [4.7601861964494985e-07, 1.0], [1.0, 5.790537731467655e-12], [1.0, 1.4646590413208634e-12], [1.0, 7.49479046619701e-09], [1.0, 7.49479046619701e-09], [0.9999999999998617, 7.413173838927611e-08], [0.9999999999997193, 1.3773894071084169e-17], [2.3443797239678989e-07, 1.0], [1.0, 7.416891915703537e-09], [1.0, 7.49479046619701e-09], [1.0, 7.49479046619701e-09], [0.9999997593963258, 1.7827783105267858e-14], [2.735378606784197e-13, 1.0], [1.0, 7.49479046619701e-09], [2.3443797239678989e-07, 1.0], [4.7601859947178284e-07, 1.0], [1.0, 7.49479046619701e-09], [1.0, 7.49479046619701e-09], [4.760185995141387e-07, 1.0], [0.9999999999997216, 1.382760290185998e-17], [1.0, 7.49479046619701e-09], [2.735378606784197e-13, 1.0], [1.0, 7.494787237171255e-09], [0.9999997593963287, 1.7827783200580683e-14], [1.0, 7.49479046619701e-09], [1.0, 7.49479046619701e-09], [2.735378606784197e-13, 1.0], [1.0, 5.790537731467655e-12], [5.186223429698876e-06, 1.0], [1.0, 7.49479046619701e-09], [3.2963276408309863e-19, 1.0], [0.9999999999997193, 1.3773894071084169e-17], [1.0, 7.49479046619701e-09], [2.3443797239678989e-07, 1.0], [0.9999997593963258, 1.7827783105267858e-14], [4.760185995141387e-07, 1.0], [0.999999759396326, 1.7827783109247703e-14], [2.3443797239678989e-07, 1.0], [2.3443797239533066e-07, 1.0], [0.9999999999997193, 1.3773894071084169e-17], [2.3443797239678989e-07, 1.0], [2.3443797239678989e-07, 1.0], [1.0, 7.49479046619701e-09], [2.3443797239678989e-07, 1.0], [3.539949630789169e-14, 1.0], [4.760185995141387e-07, 1.0], [4.760185995141387e-07, 1.0], [0.9999999999997193, 1.3773894071096696e-17], [0.9999999999997193, 1.3773894071084169e-17], [1.0, 7.49479046619701e-09], [2.735378606784197e-13, 1.0], [4.760185995141387e-07, 1.0], [1.0, 7.49479046619701e-09], [2.3443797239678989e-07, 1.0], [0.9999999999997193, 1.3773894071084169e-17], [0.9999997593963258, 1.7827783105267858e-14], [1.0, 5.399724176787439e-09], [3.2958381859094635e-19, 1.0], [1.0, 5.790537731467655e-12], [2.3443797239678989e-07, 1.0], [2.736071297671768e-13, 1.0], [1.0, 7.49479046619701e-09], [0.9999999999998617, 7.413173838927611e-08], [1.0, 7.49479046619701e-09], [4.760185995141387e-07, 1.0], [0.9999999999997193, 1.3773894071084169e-17], [2.3443797239678989e-07, 1.0], [1.0, 7.49479046619701e-09], [1.0, 7.49479046619701e-09], [1.0, 7.494790466196905e-09], [2.3443797239678989e-07, 1.0], [4.760185995141387e-07, 1.0], [0.9999997593963258, 1.7827783105267858e-14], [1.0, 7.49479046619701e-09], [1.0, 7.49479046619701e-09], [1.0, 7.49479046619701e-09], [1.0, 5.790537731467655e-12], [1.0, 7.49479046619701e-09], [1.0, 7.49479046619701e-09], [0.9999997597973544, 1.784154246233934e-14], [4.760185995141387e-07, 1.0], [0.9999999999997193, 1.3773894071084169e-17], [1.0, 7.49479046619701e-09], [2.3443797239678989e-07, 1.0], [1.0, 7.49479046619701e-09], [0.9999999999997193, 1.3773894071084169e-17], [1.0, 7.49479046619701e-09], [2.3443797239678989e-07, 1.0], [2.3443797239678989e-07, 1.0], [1.0, 5.790537731467655e-12], [1.0, 5.790537731467655e-12], [0.9999999999997193, 1.3773916445774456e-17], [1.0, 5.7905377175175346e-12], [1.0, 7.49479046619701e-09], [0.9999997593963258, 1.7827783105640535e-14], [1.0, 7.49479046619701e-09], [0.9999999999997193, 1.3773894071084169e-17], [4.760185994289154e-07, 1.0], [4.760185995141387e-07, 1.0], [1.0, 5.790537731467655e-12], [0.9999999999997193, 1.3773894071084169e-17], [0.9999997594030715, 1.782801427057929e-14], [0.9999999999997193, 1.3773894071084169e-17], [2.3443797239678989e-07, 1.0], [2.3443797239678989e-07, 1.0], [0.9999999999997193, 1.3773894071148567e-17], [2.3443797239678989e-07, 1.0], [4.760185995141387e-07, 1.0], [1.0, 7.49479046619701e-09], [0.9999999999998492, 1.8358616739546913e-17], [2.3443797239678989e-07, 1.0], [2.3443792937421956e-07, 1.0], [1.0, 7.49479046619701e-09], [4.760185995141387e-07, 1.0], [2.735378606784197e-13, 1.0], [1.0, 7.49479046619701e-09], [2.3443797239678989e-07, 1.0], [1.0, 5.790537731467655e-12], [1.0, 7.494790466200632e-09], [0.9999997593963258, 1.7827783105267858e-14], [0.9999997593963258, 1.7827783105267858e-14], [0.9999999999997193, 1.3773894071084169e-17], [0.9999999999997193, 1.3773894071086518e-17], [2.3443797239678989e-07, 1.0], [0.9999999999997193, 1.3773894071084169e-17], [2.8247268646226163e-13, 1.0], [4.760185922590398e-07, 1.0], [0.9999997593963258, 1.7827783105267858e-14], [1.0, 7.493736721731287e-09], [4.760185995141387e-07, 1.0], [2.3443797239678989e-07, 1.0], [4.760185995142792e-07, 1.0], [1.0, 7.49479046619701e-09], [0.9999997593963258, 1.7827783105267858e-14], [1.0, 5.790537731467655e-12], [3.295837933196582e-19, 1.0], [1.0, 5.7905377314674905e-12], [1.0, 5.790539620623675e-12], [2.3443797239678989e-07, 1.0], [2.3443797239678989e-07, 1.0], [1.0, 7.492433652437726e-09], [2.3443797239678989e-07, 1.0], [2.3443797239678989e-07, 1.0], [1.0, 7.49479046619701e-09], [4.760185995141387e-07, 1.0], [4.760185995141387e-07, 1.0], [5.0873878446689e-18, 1.0]]\n",
        "for i in range(len(pred)):\n",
        "  if p[i][0] and p[i][1] >0.5:\n",
        "    print(i)\n",
        "  "
      ],
      "metadata": {
        "id": "3JesiWufuaZ6"
      },
      "execution_count": null,
      "outputs": []
    }
  ]
}