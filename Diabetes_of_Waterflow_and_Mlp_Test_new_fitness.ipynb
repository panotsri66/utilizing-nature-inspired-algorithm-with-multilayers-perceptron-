{
  "nbformat": 4,
  "nbformat_minor": 0,
  "metadata": {
    "colab": {
      "name": "Diabetes of Waterflow and Mlp Test new fitness.ipynb",
      "provenance": [],
      "collapsed_sections": []
    },
    "kernelspec": {
      "name": "python3",
      "display_name": "Python 3"
    },
    "language_info": {
      "name": "python"
    },
    "accelerator": "GPU"
  },
  "cells": [
    {
      "cell_type": "code",
      "execution_count": null,
      "metadata": {
        "id": "JsmzHlW5BSpU"
      },
      "outputs": [],
      "source": [
        "import numpy as np\n",
        "import pandas as pd\n",
        "import time \n",
        "import random\n",
        "from sklearn.model_selection import train_test_split\n",
        "from sklearn import datasets, preprocessing"
      ]
    },
    {
      "cell_type": "code",
      "source": [
        "from google.colab import drive\n",
        "drive.mount('/content/drive')"
      ],
      "metadata": {
        "colab": {
          "base_uri": "https://localhost:8080/"
        },
        "id": "_LI5PcEVzYtn",
        "outputId": "6027673d-7725-44ba-8e22-601c10656618"
      },
      "execution_count": null,
      "outputs": [
        {
          "output_type": "stream",
          "name": "stdout",
          "text": [
            "Mounted at /content/drive\n"
          ]
        }
      ]
    },
    {
      "cell_type": "code",
      "source": [
        "import pandas as pd\n",
        "import numpy as np\n",
        "import matplotlib.pyplot as plt\n",
        "ds=pd.read_csv('/content/drive/MyDrive/diabetes.csv')\n",
        "ds.head(15)"
      ],
      "metadata": {
        "colab": {
          "base_uri": "https://localhost:8080/",
          "height": 520
        },
        "id": "HYOoo6J1zhwV",
        "outputId": "5c3ba8d2-a778-4f2d-fae5-f3c2271ff11c"
      },
      "execution_count": null,
      "outputs": [
        {
          "output_type": "execute_result",
          "data": {
            "text/plain": [
              "    Pregnancies  Glucose  BloodPressure  SkinThickness  Insulin   BMI  \\\n",
              "0             6      148             72             35        0  33.6   \n",
              "1             1       85             66             29        0  26.6   \n",
              "2             8      183             64              0        0  23.3   \n",
              "3             1       89             66             23       94  28.1   \n",
              "4             0      137             40             35      168  43.1   \n",
              "5             5      116             74              0        0  25.6   \n",
              "6             3       78             50             32       88  31.0   \n",
              "7            10      115              0              0        0  35.3   \n",
              "8             2      197             70             45      543  30.5   \n",
              "9             8      125             96              0        0   0.0   \n",
              "10            4      110             92              0        0  37.6   \n",
              "11           10      168             74              0        0  38.0   \n",
              "12           10      139             80              0        0  27.1   \n",
              "13            1      189             60             23      846  30.1   \n",
              "14            5      166             72             19      175  25.8   \n",
              "\n",
              "    DiabetesPedigreeFunction  Age  Outcome  \n",
              "0                      0.627   50        1  \n",
              "1                      0.351   31        0  \n",
              "2                      0.672   32        1  \n",
              "3                      0.167   21        0  \n",
              "4                      2.288   33        1  \n",
              "5                      0.201   30        0  \n",
              "6                      0.248   26        1  \n",
              "7                      0.134   29        0  \n",
              "8                      0.158   53        1  \n",
              "9                      0.232   54        1  \n",
              "10                     0.191   30        0  \n",
              "11                     0.537   34        1  \n",
              "12                     1.441   57        0  \n",
              "13                     0.398   59        1  \n",
              "14                     0.587   51        1  "
            ],
            "text/html": [
              "\n",
              "  <div id=\"df-ef7508ac-03e1-4bb5-bcf7-694f7ea3db69\">\n",
              "    <div class=\"colab-df-container\">\n",
              "      <div>\n",
              "<style scoped>\n",
              "    .dataframe tbody tr th:only-of-type {\n",
              "        vertical-align: middle;\n",
              "    }\n",
              "\n",
              "    .dataframe tbody tr th {\n",
              "        vertical-align: top;\n",
              "    }\n",
              "\n",
              "    .dataframe thead th {\n",
              "        text-align: right;\n",
              "    }\n",
              "</style>\n",
              "<table border=\"1\" class=\"dataframe\">\n",
              "  <thead>\n",
              "    <tr style=\"text-align: right;\">\n",
              "      <th></th>\n",
              "      <th>Pregnancies</th>\n",
              "      <th>Glucose</th>\n",
              "      <th>BloodPressure</th>\n",
              "      <th>SkinThickness</th>\n",
              "      <th>Insulin</th>\n",
              "      <th>BMI</th>\n",
              "      <th>DiabetesPedigreeFunction</th>\n",
              "      <th>Age</th>\n",
              "      <th>Outcome</th>\n",
              "    </tr>\n",
              "  </thead>\n",
              "  <tbody>\n",
              "    <tr>\n",
              "      <th>0</th>\n",
              "      <td>6</td>\n",
              "      <td>148</td>\n",
              "      <td>72</td>\n",
              "      <td>35</td>\n",
              "      <td>0</td>\n",
              "      <td>33.6</td>\n",
              "      <td>0.627</td>\n",
              "      <td>50</td>\n",
              "      <td>1</td>\n",
              "    </tr>\n",
              "    <tr>\n",
              "      <th>1</th>\n",
              "      <td>1</td>\n",
              "      <td>85</td>\n",
              "      <td>66</td>\n",
              "      <td>29</td>\n",
              "      <td>0</td>\n",
              "      <td>26.6</td>\n",
              "      <td>0.351</td>\n",
              "      <td>31</td>\n",
              "      <td>0</td>\n",
              "    </tr>\n",
              "    <tr>\n",
              "      <th>2</th>\n",
              "      <td>8</td>\n",
              "      <td>183</td>\n",
              "      <td>64</td>\n",
              "      <td>0</td>\n",
              "      <td>0</td>\n",
              "      <td>23.3</td>\n",
              "      <td>0.672</td>\n",
              "      <td>32</td>\n",
              "      <td>1</td>\n",
              "    </tr>\n",
              "    <tr>\n",
              "      <th>3</th>\n",
              "      <td>1</td>\n",
              "      <td>89</td>\n",
              "      <td>66</td>\n",
              "      <td>23</td>\n",
              "      <td>94</td>\n",
              "      <td>28.1</td>\n",
              "      <td>0.167</td>\n",
              "      <td>21</td>\n",
              "      <td>0</td>\n",
              "    </tr>\n",
              "    <tr>\n",
              "      <th>4</th>\n",
              "      <td>0</td>\n",
              "      <td>137</td>\n",
              "      <td>40</td>\n",
              "      <td>35</td>\n",
              "      <td>168</td>\n",
              "      <td>43.1</td>\n",
              "      <td>2.288</td>\n",
              "      <td>33</td>\n",
              "      <td>1</td>\n",
              "    </tr>\n",
              "    <tr>\n",
              "      <th>5</th>\n",
              "      <td>5</td>\n",
              "      <td>116</td>\n",
              "      <td>74</td>\n",
              "      <td>0</td>\n",
              "      <td>0</td>\n",
              "      <td>25.6</td>\n",
              "      <td>0.201</td>\n",
              "      <td>30</td>\n",
              "      <td>0</td>\n",
              "    </tr>\n",
              "    <tr>\n",
              "      <th>6</th>\n",
              "      <td>3</td>\n",
              "      <td>78</td>\n",
              "      <td>50</td>\n",
              "      <td>32</td>\n",
              "      <td>88</td>\n",
              "      <td>31.0</td>\n",
              "      <td>0.248</td>\n",
              "      <td>26</td>\n",
              "      <td>1</td>\n",
              "    </tr>\n",
              "    <tr>\n",
              "      <th>7</th>\n",
              "      <td>10</td>\n",
              "      <td>115</td>\n",
              "      <td>0</td>\n",
              "      <td>0</td>\n",
              "      <td>0</td>\n",
              "      <td>35.3</td>\n",
              "      <td>0.134</td>\n",
              "      <td>29</td>\n",
              "      <td>0</td>\n",
              "    </tr>\n",
              "    <tr>\n",
              "      <th>8</th>\n",
              "      <td>2</td>\n",
              "      <td>197</td>\n",
              "      <td>70</td>\n",
              "      <td>45</td>\n",
              "      <td>543</td>\n",
              "      <td>30.5</td>\n",
              "      <td>0.158</td>\n",
              "      <td>53</td>\n",
              "      <td>1</td>\n",
              "    </tr>\n",
              "    <tr>\n",
              "      <th>9</th>\n",
              "      <td>8</td>\n",
              "      <td>125</td>\n",
              "      <td>96</td>\n",
              "      <td>0</td>\n",
              "      <td>0</td>\n",
              "      <td>0.0</td>\n",
              "      <td>0.232</td>\n",
              "      <td>54</td>\n",
              "      <td>1</td>\n",
              "    </tr>\n",
              "    <tr>\n",
              "      <th>10</th>\n",
              "      <td>4</td>\n",
              "      <td>110</td>\n",
              "      <td>92</td>\n",
              "      <td>0</td>\n",
              "      <td>0</td>\n",
              "      <td>37.6</td>\n",
              "      <td>0.191</td>\n",
              "      <td>30</td>\n",
              "      <td>0</td>\n",
              "    </tr>\n",
              "    <tr>\n",
              "      <th>11</th>\n",
              "      <td>10</td>\n",
              "      <td>168</td>\n",
              "      <td>74</td>\n",
              "      <td>0</td>\n",
              "      <td>0</td>\n",
              "      <td>38.0</td>\n",
              "      <td>0.537</td>\n",
              "      <td>34</td>\n",
              "      <td>1</td>\n",
              "    </tr>\n",
              "    <tr>\n",
              "      <th>12</th>\n",
              "      <td>10</td>\n",
              "      <td>139</td>\n",
              "      <td>80</td>\n",
              "      <td>0</td>\n",
              "      <td>0</td>\n",
              "      <td>27.1</td>\n",
              "      <td>1.441</td>\n",
              "      <td>57</td>\n",
              "      <td>0</td>\n",
              "    </tr>\n",
              "    <tr>\n",
              "      <th>13</th>\n",
              "      <td>1</td>\n",
              "      <td>189</td>\n",
              "      <td>60</td>\n",
              "      <td>23</td>\n",
              "      <td>846</td>\n",
              "      <td>30.1</td>\n",
              "      <td>0.398</td>\n",
              "      <td>59</td>\n",
              "      <td>1</td>\n",
              "    </tr>\n",
              "    <tr>\n",
              "      <th>14</th>\n",
              "      <td>5</td>\n",
              "      <td>166</td>\n",
              "      <td>72</td>\n",
              "      <td>19</td>\n",
              "      <td>175</td>\n",
              "      <td>25.8</td>\n",
              "      <td>0.587</td>\n",
              "      <td>51</td>\n",
              "      <td>1</td>\n",
              "    </tr>\n",
              "  </tbody>\n",
              "</table>\n",
              "</div>\n",
              "      <button class=\"colab-df-convert\" onclick=\"convertToInteractive('df-ef7508ac-03e1-4bb5-bcf7-694f7ea3db69')\"\n",
              "              title=\"Convert this dataframe to an interactive table.\"\n",
              "              style=\"display:none;\">\n",
              "        \n",
              "  <svg xmlns=\"http://www.w3.org/2000/svg\" height=\"24px\"viewBox=\"0 0 24 24\"\n",
              "       width=\"24px\">\n",
              "    <path d=\"M0 0h24v24H0V0z\" fill=\"none\"/>\n",
              "    <path d=\"M18.56 5.44l.94 2.06.94-2.06 2.06-.94-2.06-.94-.94-2.06-.94 2.06-2.06.94zm-11 1L8.5 8.5l.94-2.06 2.06-.94-2.06-.94L8.5 2.5l-.94 2.06-2.06.94zm10 10l.94 2.06.94-2.06 2.06-.94-2.06-.94-.94-2.06-.94 2.06-2.06.94z\"/><path d=\"M17.41 7.96l-1.37-1.37c-.4-.4-.92-.59-1.43-.59-.52 0-1.04.2-1.43.59L10.3 9.45l-7.72 7.72c-.78.78-.78 2.05 0 2.83L4 21.41c.39.39.9.59 1.41.59.51 0 1.02-.2 1.41-.59l7.78-7.78 2.81-2.81c.8-.78.8-2.07 0-2.86zM5.41 20L4 18.59l7.72-7.72 1.47 1.35L5.41 20z\"/>\n",
              "  </svg>\n",
              "      </button>\n",
              "      \n",
              "  <style>\n",
              "    .colab-df-container {\n",
              "      display:flex;\n",
              "      flex-wrap:wrap;\n",
              "      gap: 12px;\n",
              "    }\n",
              "\n",
              "    .colab-df-convert {\n",
              "      background-color: #E8F0FE;\n",
              "      border: none;\n",
              "      border-radius: 50%;\n",
              "      cursor: pointer;\n",
              "      display: none;\n",
              "      fill: #1967D2;\n",
              "      height: 32px;\n",
              "      padding: 0 0 0 0;\n",
              "      width: 32px;\n",
              "    }\n",
              "\n",
              "    .colab-df-convert:hover {\n",
              "      background-color: #E2EBFA;\n",
              "      box-shadow: 0px 1px 2px rgba(60, 64, 67, 0.3), 0px 1px 3px 1px rgba(60, 64, 67, 0.15);\n",
              "      fill: #174EA6;\n",
              "    }\n",
              "\n",
              "    [theme=dark] .colab-df-convert {\n",
              "      background-color: #3B4455;\n",
              "      fill: #D2E3FC;\n",
              "    }\n",
              "\n",
              "    [theme=dark] .colab-df-convert:hover {\n",
              "      background-color: #434B5C;\n",
              "      box-shadow: 0px 1px 3px 1px rgba(0, 0, 0, 0.15);\n",
              "      filter: drop-shadow(0px 1px 2px rgba(0, 0, 0, 0.3));\n",
              "      fill: #FFFFFF;\n",
              "    }\n",
              "  </style>\n",
              "\n",
              "      <script>\n",
              "        const buttonEl =\n",
              "          document.querySelector('#df-ef7508ac-03e1-4bb5-bcf7-694f7ea3db69 button.colab-df-convert');\n",
              "        buttonEl.style.display =\n",
              "          google.colab.kernel.accessAllowed ? 'block' : 'none';\n",
              "\n",
              "        async function convertToInteractive(key) {\n",
              "          const element = document.querySelector('#df-ef7508ac-03e1-4bb5-bcf7-694f7ea3db69');\n",
              "          const dataTable =\n",
              "            await google.colab.kernel.invokeFunction('convertToInteractive',\n",
              "                                                     [key], {});\n",
              "          if (!dataTable) return;\n",
              "\n",
              "          const docLinkHtml = 'Like what you see? Visit the ' +\n",
              "            '<a target=\"_blank\" href=https://colab.research.google.com/notebooks/data_table.ipynb>data table notebook</a>'\n",
              "            + ' to learn more about interactive tables.';\n",
              "          element.innerHTML = '';\n",
              "          dataTable['output_type'] = 'display_data';\n",
              "          await google.colab.output.renderOutput(dataTable, element);\n",
              "          const docLink = document.createElement('div');\n",
              "          docLink.innerHTML = docLinkHtml;\n",
              "          element.appendChild(docLink);\n",
              "        }\n",
              "      </script>\n",
              "    </div>\n",
              "  </div>\n",
              "  "
            ]
          },
          "metadata": {},
          "execution_count": 3
        }
      ]
    },
    {
      "cell_type": "markdown",
      "source": [
        "# Import Data"
      ],
      "metadata": {
        "id": "eYyxCvcDeDTB"
      }
    },
    {
      "cell_type": "code",
      "source": [
        "\n",
        "x = ds.drop(['Outcome'], axis = 1).values\n",
        "y = ds['Outcome'].values\n",
        "y = y.reshape(y.shape[0], 1)\n",
        "#Spliting Data\n",
        "from sklearn.model_selection import train_test_split\n",
        "x_train, x_test, y_train, y_test= train_test_split(x,y,test_size=0.25,random_state=42)\n",
        "#Standardize data\n",
        "from sklearn.preprocessing import StandardScaler \n",
        "scale = StandardScaler()\n",
        "x_train_std = scale.fit_transform(x_train)\n",
        "x_test_std = scale.transform(x_test)\n"
      ],
      "metadata": {
        "id": "VGzlvOxiB30Z"
      },
      "execution_count": null,
      "outputs": []
    },
    {
      "cell_type": "code",
      "source": [
        "print(x.shape)"
      ],
      "metadata": {
        "id": "hi47fuaw9Evi",
        "outputId": "37bdbae4-bcb9-47fa-d966-9cb66df2a0ad",
        "colab": {
          "base_uri": "https://localhost:8080/"
        }
      },
      "execution_count": null,
      "outputs": [
        {
          "output_type": "stream",
          "name": "stdout",
          "text": [
            "(768, 8)\n"
          ]
        }
      ]
    },
    {
      "cell_type": "code",
      "source": [
        "print(y.shape)"
      ],
      "metadata": {
        "colab": {
          "base_uri": "https://localhost:8080/"
        },
        "id": "8ll0ey-05pji",
        "outputId": "21d52c1a-554e-4718-de37-8fae1883b21f"
      },
      "execution_count": null,
      "outputs": [
        {
          "output_type": "stream",
          "name": "stdout",
          "text": [
            "(768, 1)\n"
          ]
        }
      ]
    },
    {
      "cell_type": "code",
      "source": [
        "\n",
        "y_train=y_train.tolist()"
      ],
      "metadata": {
        "id": "QtOasfzldLih"
      },
      "execution_count": null,
      "outputs": []
    },
    {
      "cell_type": "code",
      "source": [
        "print(len(y_test))"
      ],
      "metadata": {
        "colab": {
          "base_uri": "https://localhost:8080/"
        },
        "id": "LRgvUHwb52lr",
        "outputId": "5924ae15-0c3b-40ff-8bda-f5292802ecb0"
      },
      "execution_count": null,
      "outputs": [
        {
          "output_type": "stream",
          "name": "stdout",
          "text": [
            "192\n"
          ]
        }
      ]
    },
    {
      "cell_type": "code",
      "source": [
        "print(y_train.count([1]))"
      ],
      "metadata": {
        "colab": {
          "base_uri": "https://localhost:8080/"
        },
        "id": "CZdm6hrk47bV",
        "outputId": "a25b275a-a9a8-4b37-8359-d1f1ff1c754a"
      },
      "execution_count": null,
      "outputs": [
        {
          "output_type": "stream",
          "name": "stdout",
          "text": [
            "199\n"
          ]
        }
      ]
    },
    {
      "cell_type": "code",
      "source": [
        "def sigmoid(x):\n",
        "  return 1/(1+np.exp(-x))"
      ],
      "metadata": {
        "id": "Jr8lD7NVD1dL"
      },
      "execution_count": null,
      "outputs": []
    },
    {
      "cell_type": "markdown",
      "source": [
        "# Feed Forward"
      ],
      "metadata": {
        "id": "XXXnmkUTkfL7"
      }
    },
    {
      "cell_type": "code",
      "source": [
        "def FF(HL,OL,W,B,x):\n",
        "  INL=len(x)\n",
        "  hidden_layer=np.zeros((HL))\n",
        "  output_layer=np.zeros((OL))\n",
        "  witr=0\n",
        "  bitr=0\n",
        "  for i in range(HL):\n",
        "    sum=0\n",
        "    for j in range(INL):\n",
        "      sum=sum+(x[j]*W[witr])\n",
        "      witr=witr+1\n",
        "    sum=sum.sum()\n",
        "    hidden_layer[i]=sigmoid(sum+B[bitr])\n",
        "    bitr=bitr+1\n",
        "\n",
        "  for i in range(OL):\n",
        "    output=0\n",
        "    for j in range(HL):\n",
        "      output=output+(hidden_layer[j]*W[witr])\n",
        "      witr = witr + 1\n",
        "    output=output.sum()\n",
        "    output_layer[i]=sigmoid(output+B[bitr])\n",
        "    bitr=bitr+1\n",
        "  return output_layer"
      ],
      "metadata": {
        "id": "CJsxevK4EH74"
      },
      "execution_count": null,
      "outputs": []
    },
    {
      "cell_type": "code",
      "source": [
        "NIL=8\n",
        "HL=18\n",
        "OL=1\n",
        "#144+18+19=181"
      ],
      "metadata": {
        "id": "E54Hh79aGE3S"
      },
      "execution_count": null,
      "outputs": []
    },
    {
      "cell_type": "code",
      "source": [
        "s=[0, -7.494110173701986, 0.02580471629082624, -1.416231274744585, 89.08948191685687, -31.123794597015216, -15.360352983536123, -82.01993042463076, 8.39078084310988, -51.55942883255037, -0.07433651854093658, -3.2856014702521636, 3.163319236544354, 34.5024038437115, 0.010108351649283462, -51.69712359428136, 13.78058638891122, 53.81080476825638, -26.70139019988659, -13.19707184134996, -2.637768832245555, -4.008921196129098, -99.679357676593, 2.976762783866588, 0.6227429812950827, -99.8712868473062, -0.0394798872172541, -13.03007060725927, -52.59664871371666, 0.12774273881655002, -1.1889408016383938, 60.69980075046726, -91.10344572857709, -7.057866272897603, 0.058282187302862394, -12.35950737642972, -3.8239810450171787, 2.053494588216921, 15.977842638329735, 8.517836586860318, 3.3153197678575874, 2.182982042654443, -1.319500736998634, 20.61920343693835, 18.68629028733797, -65.19477295314846, 62.994326471332634, 29.49214601759166, 3.1366816884994146, 27.99499408609164, -0.669957141664688, -25.101887789356493, 86.42169688629035, -21.459519867260912, -15.469849179230613, -92.1365093637895, 20.18679553685783, 2.443703114829294, -0.6872228052897098, 22.834560913669872, 29.52726243218638, -1.7198418006666598, 2.165074432469303, -19.08128878855784, 0, -1.3628786429072537, -23.604201309971174, 0.9107630953662964, -14.944924064462038, -8.109907852905398, -17.79582707882542, -2.1225730066250876, 83.10082422852763, 51.97370799268316, -6.494811100834755, -1.0336590889432946, 0.10016347309748617, -12.383622327088275, -17.307645483417954, 39.92265966291287, 5.758069577754514, 63.96401285843558, 42.8112265330039, -71.30728786635562, 0.039998624483304844, 1.681035575086429, 1.056894462383641, 0.6662353690034241, -3.1701229942436373, 0.029830749031124662, -0.44566117430520213, -2.7105305926051417, -7.466100001311493, 2.554081801519303, 3.506390077636134, -75.52353879601351, -4.3663784957394265, 49.00745486758763, -20.489083709384023, -29.092439481356582, 5.4533729397452575, 83.37308208897619, 85.24835681543293, 2.9440656376935075, 3.5424336742947564, -4.0706631902079655, 19.913250289732584, 88.59598493370943, -1.0902409031177598, 56.71976376966876, -6.600015611896526, -83.96226744941299, -42.467903126852896, 4.387228488596485, 6.214681974717539, -47.35966049031786, -5.426487677983477, -71.4620419416536, 6.796451127057151, 5.770253412063102, -3.9075783473984367, -56.8963908604644, 98.08025915444144, 23.608998698543058, -60.53999750699148, 1.701436643541655, 1.8020331100918872, -5.672334942966927, 12.05926549990403, -10.435755870411851, -33.12720067420074, 10.51028091928558]"
      ],
      "metadata": {
        "id": "4JbnWtGa_3Er"
      },
      "execution_count": null,
      "outputs": []
    },
    {
      "cell_type": "code",
      "source": [
        "i=s[:121]\n",
        "print(len(i))\n",
        "v=i[0:110]\n",
        "print(len(v))\n",
        "print(i[109])\n",
        "print(i[110])\n",
        "z=i[110:121]\n",
        "print(len(z))"
      ],
      "metadata": {
        "colab": {
          "base_uri": "https://localhost:8080/"
        },
        "id": "k0a_lU-5_5Ka",
        "outputId": "a314dc61-869a-456a-876c-3e73e995df0a"
      },
      "execution_count": null,
      "outputs": [
        {
          "output_type": "stream",
          "name": "stdout",
          "text": [
            "121\n",
            "110\n",
            "56.71976376966876\n",
            "-6.600015611896526\n",
            "11\n"
          ]
        }
      ]
    },
    {
      "cell_type": "code",
      "source": [
        "print(len(x_train_std))"
      ],
      "metadata": {
        "colab": {
          "base_uri": "https://localhost:8080/"
        },
        "id": "KoKMTpXFBGtv",
        "outputId": "c9b68617-5035-44d7-d575-ae90942d8f98"
      },
      "execution_count": null,
      "outputs": [
        {
          "output_type": "stream",
          "name": "stdout",
          "text": [
            "33\n"
          ]
        }
      ]
    },
    {
      "cell_type": "code",
      "source": [
        "A=FF(HL,OL,v,z,x_train_std[21])\n",
        "print(A)"
      ],
      "metadata": {
        "colab": {
          "base_uri": "https://localhost:8080/"
        },
        "id": "vaXPGXOI_hl1",
        "outputId": "ae517751-5e68-42ed-df09-58e07fdbe7bc"
      },
      "execution_count": null,
      "outputs": [
        {
          "output_type": "stream",
          "name": "stdout",
          "text": [
            "[0.11367365]\n"
          ]
        }
      ]
    },
    {
      "cell_type": "code",
      "source": [
        "print(A[0])"
      ],
      "metadata": {
        "colab": {
          "base_uri": "https://localhost:8080/"
        },
        "id": "5gU2_OtSCS8b",
        "outputId": "7fdf13db-c415-460d-fac3-20b5661cdf2a"
      },
      "execution_count": null,
      "outputs": [
        {
          "output_type": "stream",
          "name": "stdout",
          "text": [
            "0.11367364870448061\n"
          ]
        }
      ]
    },
    {
      "cell_type": "markdown",
      "source": [
        "# Waterflow Algorithm"
      ],
      "metadata": {
        "id": "ShLg4VnLkihz"
      }
    },
    {
      "cell_type": "code",
      "source": [
        "from numpy import zeros,transpose\n",
        "from math import inf,pi,cos\n",
        "from random import random,uniform,randrange\n",
        "\n",
        "def WFO(alg, prob):\n",
        "    fb = inf\n",
        "    con = zeros((alg.max_nfe,1))\n",
        "    X = zeros((alg.NP, prob.dim))\n",
        "    F = zeros((alg.NP, 1))\n",
        "    for i in range(alg.NP): # initialization\n",
        "        for j in range(prob.dim):\n",
        "            X[i,j] = uniform(prob.lb[j],prob.ub[j])            \n",
        "        F[i] = prob.fobj(X[i,:])\n",
        "        if F[i]<fb:\n",
        "            fb = F[i]\n",
        "            xb = X[i,:]            \n",
        "        con[i] = fb\n",
        "    Y = zeros((alg.NP, prob.dim))\n",
        "    nfe = i\n",
        "    while nfe < alg.max_nfe-1:\n",
        "        if random() < alg.pl: # laminar flow\n",
        "            k = randrange(alg.NP)\n",
        "            d = xb - X[k,:]\n",
        "            for i in range(alg.NP):\n",
        "                Y[i,:] = X[i,:] + random()*d\n",
        "                for j in range(prob.dim):\n",
        "                    if not prob.lb[j] <= Y[i,j] <= prob.ub[j]:\n",
        "                        Y[i,j] = X[i,j]\n",
        "                        \n",
        "        else: # turbulent flow\n",
        "            for i in range(alg.NP):\n",
        "                Y[i,:] = X[i,:]\n",
        "                k = randrange(alg.NP)\n",
        "                while k==i:\n",
        "                    k = randrange(alg.NP)\n",
        "                j1 = randrange(prob.dim)\n",
        "                if random() < alg.pe: # spiral flow\n",
        "                    theta = uniform(-pi, pi)\n",
        "                    Y[i,j1] = X[i,j1]+abs(X[k,j1]-X[i,j1])*theta*cos(theta)\n",
        "                    if not prob.lb[j1] <= Y[i,j1] <= prob.ub[j1]:\n",
        "                        Y[i,j1] = X[i,j1] \n",
        "                else:\n",
        "                    j2 = randrange(prob.dim)\n",
        "                    while j2==j1:\n",
        "                        j2 = randrange(prob.dim)\n",
        "                    Y[i,j1] = prob.lb[j1] + (prob.ub[j1]-prob.lb[j1])*(X[k,j2]-prob.lb[j2])/(prob.ub[j2]-prob.lb[j2])\n",
        "                    \n",
        "        for i in range(alg.NP): # evaluation and evolution\n",
        "            f = prob.fobj(Y[i,:])\n",
        "            if f < F[i]:\n",
        "                F[i] = f\n",
        "                X[i,:] = Y[i,:]\n",
        "                if f < fb:\n",
        "                    fb = f\n",
        "                    xb = X[i,:]\n",
        "            nfe += 1\n",
        "            con[nfe] = fb                        \n",
        "            \n",
        "    return fb, xb, con"
      ],
      "metadata": {
        "id": "rY-vCqyTRdLL"
      },
      "execution_count": null,
      "outputs": []
    },
    {
      "cell_type": "code",
      "source": [
        "from math import pi, cos\n",
        "from matplotlib import pyplot\n",
        "\n",
        "# set the algorithmic parameters\n",
        "class alg:\n",
        "    NP = 50\n",
        "    max_nfe = 50050\n",
        "    pl = 0.3\n",
        "    pe = 0.7\n",
        "    \n",
        "# set the problem's parameters\n",
        "n = 181   # dimensional number\n",
        "class prob:\n",
        "    dim = n\n",
        "    lb = [-1]*n\n",
        "    ub = [1]*n\n",
        "    \n",
        "    # the objective function to be minimized,\n",
        "    # for example 1 , uni-mode sphere function, f = sum(x^2)\n",
        "##    def fobj(x): \n",
        "##        f = 0\n",
        "##        for i in x:\n",
        "##            f += i**2\n",
        "##        return f\n",
        "    \n",
        "    # for example 2, multi-mode Rastrign function, f =sum(x^2-10*cos(2*pi*x)) + 10*n  \n",
        "    def fobj(solution):\n",
        "      fitness=0\n",
        "      w=(NIL*HL)+(HL*OL)\n",
        "      b=(NIL*HL)+HL+(HL*OL)+OL\n",
        "      W=solution[0:w]\n",
        "      B=solution[w:b]\n",
        "      for idx,x in enumerate(x_train_std):\n",
        "        actualValue=FF(HL,OL,W,B,x)\n",
        "\n",
        "        fitness+=pow((actualValue[0]-y_train[idx][0]),2)\n",
        "\n",
        "      fitness=fitness/len(x_train)\n",
        "      \n",
        "      return fitness\n",
        "\n",
        "\n",
        "    # for example 3, CEC2022 single objective benchmark problems\n",
        "##    def fobj(x):        \n",
        "##        f = cec22_test_func(x = x, nx = n, mx = 1, func_num = 2)\n",
        "##        return f\n",
        "    \n",
        "fb, xb, con = WFO(alg, prob)\n",
        "print('The minimal objective function value: {}'.format(fb))\n",
        "print('The best solution:')\n",
        "print(xb)\n",
        "pyplot.plot(con)\n",
        "pyplot.xlabel('Number of function evaluation')\n",
        "pyplot.ylabel('Function value')\n",
        "pyplot.title('Converagence')\n",
        "pyplot.show()\n"
      ],
      "metadata": {
        "id": "Ontf5gBncKFW",
        "colab": {
          "base_uri": "https://localhost:8080/",
          "height": 867
        },
        "outputId": "3ba4b153-932e-4f5b-ed9d-415832fa7331"
      },
      "execution_count": null,
      "outputs": [
        {
          "output_type": "stream",
          "name": "stdout",
          "text": [
            "The minimal objective function value: 0.1370660989557388\n",
            "The best solution:\n",
            "[-0.99410059  0.91372141  0.97080057  0.61581963  0.48135288  0.93718112\n",
            "  0.97499634 -0.46640053  0.36134606 -0.99267024  0.96957117  0.99921703\n",
            " -0.99765351 -0.3184779  -0.99800032  0.96510415  0.94714777  0.60021314\n",
            " -0.52949466  0.968605    0.96933133 -0.97527126  0.94337771 -0.88912669\n",
            "  0.9868214  -0.808676    0.92863556  0.19299129  0.0190254  -0.83190754\n",
            "  0.99466733 -0.5587645   0.93242105  0.90674133  0.85515499  0.67276139\n",
            "  0.88515514 -0.99231666 -0.99887697 -0.99856636  0.96656921  0.99925291\n",
            " -0.97841223  0.46639963  0.04914748  0.66596434 -0.98546871  0.99964494\n",
            " -0.97860872 -0.65945771  0.9925265  -0.88785443  0.72985784 -0.17570931\n",
            " -0.99874399  0.33037973  0.35282149 -0.90602685  0.99200881  0.98584717\n",
            "  0.94467147  0.99901784 -0.94080511  0.97158591  0.98580048  0.9613151\n",
            " -0.74644838 -0.95548118 -0.99282008 -0.75359855 -0.96678873 -0.69685073\n",
            "  0.34436284 -0.58816329 -0.21864924 -0.70563336  0.98457062 -0.98295998\n",
            "  0.33820866  0.96096317  0.66207527  0.97535735  0.54093328 -0.83554965\n",
            "  0.99909567  0.99220465  0.99370474 -0.94088433  0.9060645   0.97712376\n",
            "  0.99171993 -0.81200733 -0.55279721 -0.9984204  -0.44288666  0.98865654\n",
            " -0.03433457  0.98023152 -0.97467312  0.78154536 -0.96039156 -0.98755234\n",
            "  0.99784929  0.99516735  0.98151533  0.99315007 -0.72242997 -0.86893402\n",
            "  0.16377825 -0.97768071 -0.98101231  0.98461617 -0.99617232 -0.99845665\n",
            "  0.79383135 -0.49921294 -0.73724312 -0.97599005 -0.33420158  0.99861462\n",
            " -0.00771225 -0.65980909 -0.4652204   0.99860806  0.15681174 -0.8616844\n",
            " -0.99129216 -0.93490208  0.99881324 -0.98858741 -0.99010986 -0.96915966\n",
            " -0.89299179 -0.98992449 -0.99320166 -0.33370115  0.9820314   0.98981832\n",
            " -0.71398015  0.23970898 -0.75967141  0.98185999  0.03041679 -0.955504\n",
            "  0.21190087  0.95522629  0.94584854 -0.99375638 -0.99327139  0.99983495\n",
            "  0.62927415 -0.99929837 -0.99836436 -0.9943183   0.99757904  0.97418494\n",
            "  0.98263251  0.98003192 -0.99967638 -0.99340838 -0.99629474  0.9962484\n",
            " -0.49498111  0.24151449 -0.99826858  0.87939857 -0.44856332  0.94297455\n",
            " -0.99312612 -0.97208277  0.94489363 -0.98911854 -0.4228477   0.75384386\n",
            "  0.97917712  0.94248078  0.9381835  -0.80913203  0.94782959 -0.99926801\n",
            " -0.99596189]\n"
          ]
        },
        {
          "output_type": "display_data",
          "data": {
            "text/plain": [
              "<Figure size 432x288 with 1 Axes>"
            ],
            "image/png": "[encoded data removed]"
          },
          "metadata": {
            "needs_background": "light"
          }
        }
      ]
    },
    {
      "cell_type": "code",
      "source": [
        "u=xb\n",
        "solution=u.tolist()\n",
        "print(len(solution))\n",
        "print(solution)"
      ],
      "metadata": {
        "colab": {
          "base_uri": "https://localhost:8080/"
        },
        "id": "w598OK7likpT",
        "outputId": "78fcbb75-a825-4cee-8f5f-2ac869e1727c"
      },
      "execution_count": null,
      "outputs": [
        {
          "output_type": "stream",
          "name": "stdout",
          "text": [
            "181\n",
            "[-0.9941005935607485, 0.9137214070112832, 0.9708005666553733, 0.6158196312890984, 0.48135288135251775, 0.9371811212582921, 0.9749963445199457, -0.46640053239421986, 0.36134605872942593, -0.992670243645256, 0.9695711725084876, 0.9992170315220213, -0.997653511589629, -0.31847789980964236, -0.9980003186543868, 0.9651041549380187, 0.9471477668986086, 0.6002131359464896, -0.5294946625634166, 0.9686049956179423, 0.9693313260032793, -0.9752712554730222, 0.9433777058150062, -0.8891266869676919, 0.9868213964822684, -0.8086760015607177, 0.9286355614699219, 0.19299128672434884, 0.01902539682024304, -0.8319075374539415, 0.9946673283165313, -0.5587644973997108, 0.9324210547484354, 0.9067413254112653, 0.8551549873169197, 0.6727613905375327, 0.8851551383732216, -0.992316662221949, -0.9988769673103086, -0.9985663561374676, 0.9665692128495429, 0.999252910630121, -0.9784122293697776, 0.4663996307846406, 0.04914747953166526, 0.6659643427315732, -0.9854687129436482, 0.999644936189808, -0.9786087155187937, -0.6594577094688535, 0.9925264996411375, -0.8878544308859304, 0.7298578401160796, -0.17570930711334193, -0.9987439890236456, 0.33037972869257515, 0.3528214852750421, -0.9060268464296841, 0.992008814573858, 0.9858471734195713, 0.9446714685991824, 0.9990178396951477, -0.9408051098420962, 0.9715859067128164, 0.9858004784063555, 0.9613150985344051, -0.7464483840750482, -0.9554811845305643, -0.9928200779808342, -0.7535985513552214, -0.9667887345254108, -0.6968507263490468, 0.34436284262789, -0.5881632921034092, -0.21864924426426766, -0.7056333562682213, 0.9845706187453476, -0.9829599750759677, 0.3382086588653851, 0.9609631682712318, 0.6620752701055306, 0.9753573469300746, 0.5409332798253955, -0.8355496460757125, 0.9990956692704953, 0.9922046489754869, 0.9937047352576086, -0.9408843272901727, 0.9060645044428551, 0.9771237556962588, 0.9917199336144903, -0.8120073321494492, -0.5527972112337595, -0.9984203951094917, -0.44288665929091175, 0.9886565417760812, -0.03433457022408999, 0.9802315199127902, -0.9746731189362681, 0.7815453642231176, -0.9603915637898025, -0.9875523394236028, 0.9978492858978878, 0.9951673452007331, 0.981515332232005, 0.993150074473482, -0.7224299671086694, -0.8689340203078884, 0.16377825068338941, -0.9776807093137191, -0.9810123058012326, 0.9846161744541367, -0.996172323532351, -0.9984566525434745, 0.7938313487453729, -0.49921293595521454, -0.7372431228139705, -0.9759900492964733, -0.3342015751430982, 0.9986146155484413, -0.007712246593852418, -0.6598090885751163, -0.4652204030584481, 0.9986080576959571, 0.15681174311045004, -0.8616844039686542, -0.9912921573115681, -0.9349020806090715, 0.9988132376907147, -0.9885874050141749, -0.9901098565950054, -0.9691596599165327, -0.8929917887053408, -0.9899244853619418, -0.9932016614722368, -0.33370114659941513, 0.9820314031715304, 0.9898183204485036, -0.713980150898414, 0.23970897924723789, -0.7596714063123045, 0.981859986128781, 0.03041678565939125, -0.9555040002524428, 0.21190086867739938, 0.955226289233585, 0.945848537962573, -0.9937563819438546, -0.9932713943737973, 0.9998349508722753, 0.6292741512468377, -0.9992983731032614, -0.9983643564230765, -0.9943182954812831, 0.9975790397577612, 0.9741849392152055, 0.9826325114713557, 0.9800319178089013, -0.9996763757959111, -0.9934083825069892, -0.9962947396633929, 0.9962484019402945, -0.49498110686329083, 0.2415144923280062, -0.9982685843996033, 0.8793985656830797, -0.4485633151806321, 0.9429745479332344, -0.9931261177038958, -0.9720827746600786, 0.944893631920647, -0.9891185378013836, -0.4228477043310416, 0.7538438636667449, 0.9791771235365336, 0.9424807848172061, 0.9381835037734038, -0.809132029888379, 0.9478295868176608, -0.9992680144502195, -0.9959618939895197]\n"
          ]
        }
      ]
    },
    {
      "cell_type": "code",
      "source": [
        "def Test(HL,OL,W,B,x):\n",
        "  INL=len(x)\n",
        "  hidden_layer=np.zeros((HL))\n",
        "  output_layer=np.zeros((OL))\n",
        "  witr=0\n",
        "  bitr=0\n",
        "  for i in range(HL):\n",
        "    sum=0\n",
        "    for j in range(INL):\n",
        "      sum=sum+(x[j]*W[witr])\n",
        "      witr=witr+1\n",
        "    sum=sum.sum()\n",
        "    hidden_layer[i]=sigmoid(sum+B[bitr])\n",
        "    bitr=bitr+1\n",
        "\n",
        "  for i in range(OL):\n",
        "    output=0\n",
        "    for j in range(HL):\n",
        "      output=output+(hidden_layer[j]*W[witr])\n",
        "      witr = witr + 1\n",
        "    output=output.sum()\n",
        "    output_layer[i]=sigmoid(output+B[bitr])\n",
        "    bitr=bitr+1\n",
        "  return output_layer\n",
        "\n",
        "\n"
      ],
      "metadata": {
        "id": "qW8GKlcj1CEj"
      },
      "execution_count": null,
      "outputs": []
    },
    {
      "cell_type": "code",
      "source": [
        "min_key=min(B.keys(), key=(lambda k: B[k]))"
      ],
      "metadata": {
        "id": "D9Z-aqy9Zqw4"
      },
      "execution_count": null,
      "outputs": []
    },
    {
      "cell_type": "code",
      "source": [
        "w=(NIL*HL)+(HL*OL)\n",
        "b=(NIL*HL)+HL+(HL*OL)+OL    \n",
        "W=solution[0:w]\n",
        "B=solution[w:b]\n",
        "print(len(W))\n",
        "print(B)"
      ],
      "metadata": {
        "colab": {
          "base_uri": "https://localhost:8080/"
        },
        "id": "W9B5F0yCA5Jp",
        "outputId": "170f1a38-194d-4206-dbb0-163f31628545"
      },
      "execution_count": null,
      "outputs": [
        {
          "output_type": "stream",
          "name": "stdout",
          "text": [
            "162\n",
            "[-0.49498110686329083, 0.2415144923280062, -0.9982685843996033, 0.8793985656830797, -0.4485633151806321, 0.9429745479332344, -0.9931261177038958, -0.9720827746600786, 0.944893631920647, -0.9891185378013836, -0.4228477043310416, 0.7538438636667449, 0.9791771235365336, 0.9424807848172061, 0.9381835037734038, -0.809132029888379, 0.9478295868176608, -0.9992680144502195, -0.9959618939895197]\n"
          ]
        }
      ]
    },
    {
      "cell_type": "code",
      "source": [
        "a=Test(HL,OL,W,B,x_test_std[7])\n",
        "print(a)\n"
      ],
      "metadata": {
        "colab": {
          "base_uri": "https://localhost:8080/"
        },
        "id": "pSUu0MQbcuWZ",
        "outputId": "b1ddbd2e-1738-4e70-ef8b-33a8c1e01b6a"
      },
      "execution_count": null,
      "outputs": [
        {
          "output_type": "stream",
          "name": "stdout",
          "text": [
            "[1.]\n"
          ]
        }
      ]
    },
    {
      "cell_type": "code",
      "source": [
        "R=0\n",
        "for i in range(len(y_train)):\n",
        "  p=Test(HL,OL,W,B,x_train_std[i])\n",
        "  if y_train[i][0]==0:\n",
        "    if p[0]<0.5:\n",
        "      R+=1\n",
        "  if y_train[i][0]==1:\n",
        "    if p[0]>0.5:\n",
        "      R+=1\n"
      ],
      "metadata": {
        "id": "cuqlvZ5omKyC"
      },
      "execution_count": null,
      "outputs": []
    },
    {
      "cell_type": "code",
      "source": [
        "print((R*100)/len(y_train))"
      ],
      "metadata": {
        "colab": {
          "base_uri": "https://localhost:8080/"
        },
        "id": "OhBl0E1foMDj",
        "outputId": "f048459c-7542-483f-8d9f-04fe83b0e40d"
      },
      "execution_count": null,
      "outputs": [
        {
          "output_type": "stream",
          "name": "stdout",
          "text": [
            "79.6875\n"
          ]
        }
      ]
    },
    {
      "cell_type": "markdown",
      "source": [
        ""
      ],
      "metadata": {
        "id": "DqGVy9k7m_TV"
      }
    },
    {
      "cell_type": "code",
      "source": [
        "def prediction(HL,OL,W,B,x):\n",
        "  predict=[]\n",
        "  s=[]\n",
        "  for i in range(len(x)):\n",
        "    a=Test(HL,OL,W,B,x[i])\n",
        "    if a[0]>0.5:\n",
        "      predict.append(1)\n",
        "    else:\n",
        "      predict.append(0)\n",
        "    \n",
        "    \n",
        "  \n",
        "  return predict"
      ],
      "metadata": {
        "id": "Nxn2UeTQZ2cf"
      },
      "execution_count": null,
      "outputs": []
    },
    {
      "cell_type": "code",
      "source": [
        "pred=prediction(HL,OL,W,B,x_test_std)\n",
        "print(f\"Predict :{pred}\")\n",
        "y_true = sum(y_test.tolist(), [])\n",
        "print(f\"true y:{y_true}\")\n",
        "\n",
        "acc=0\n",
        "for i in range(len(y_test)):\n",
        "  if pred[i]==y_true[i]:\n",
        "    acc+=1\n",
        "\n",
        "print(f\"accuracy:{acc/len(y_test)*100}%\")"
      ],
      "metadata": {
        "colab": {
          "base_uri": "https://localhost:8080/"
        },
        "id": "nXASOeXZfLm5",
        "outputId": "a4f11ac9-4af6-45ad-b1b0-a458357031be"
      },
      "execution_count": null,
      "outputs": [
        {
          "output_type": "stream",
          "name": "stdout",
          "text": [
            "Predict :[1, 0, 0, 1, 0, 0, 1, 1, 1, 0, 1, 1, 0, 0, 0, 0, 1, 0, 1, 0, 1, 0, 0, 0, 0, 0, 0, 1, 0, 0, 0, 0, 0, 1, 0, 1, 0, 0, 0, 1, 0, 0, 0, 1, 1, 0, 0, 0, 1, 0, 0, 0, 1, 0, 0, 0, 0, 1, 0, 0, 1, 1, 0, 1, 1, 1, 1, 0, 0, 0, 0, 0, 0, 1, 1, 0, 0, 1, 0, 0, 0, 0, 0, 0, 0, 0, 0, 0, 1, 0, 0, 0, 0, 0, 1, 0, 1, 0, 1, 0, 0, 0, 0, 0, 1, 0, 0, 0, 0, 1, 0, 0, 1, 1, 1, 1, 0, 1, 0, 1, 0, 1, 0, 0, 0, 0, 0, 0, 0, 0, 0, 0, 0, 1, 0, 0, 0, 0, 1, 0, 0, 1, 0, 0, 0, 0, 0, 0, 0, 0, 0, 1, 0, 0, 1, 0, 1, 0, 1, 1, 1, 0, 0, 0, 1, 0, 0, 0, 0, 0, 0, 0, 0, 0, 1, 0, 0, 0, 0, 0, 0, 1, 0, 1, 1, 0, 1, 0, 1, 0, 0, 0]\n",
            "true y:[1, 0, 0, 1, 0, 0, 1, 1, 0, 0, 1, 1, 0, 0, 0, 0, 1, 0, 0, 0, 1, 1, 0, 0, 0, 0, 0, 0, 0, 0, 0, 0, 0, 0, 0, 1, 1, 0, 0, 0, 0, 0, 0, 1, 1, 0, 0, 1, 1, 1, 0, 0, 1, 0, 0, 0, 0, 1, 1, 1, 1, 0, 0, 1, 1, 1, 1, 0, 0, 0, 0, 0, 0, 0, 1, 0, 0, 0, 0, 0, 0, 0, 0, 0, 0, 0, 1, 0, 1, 0, 0, 0, 0, 0, 0, 0, 1, 0, 1, 1, 0, 0, 0, 0, 0, 1, 0, 0, 0, 1, 0, 1, 1, 1, 1, 1, 0, 0, 0, 1, 0, 0, 0, 0, 0, 0, 0, 1, 0, 0, 0, 0, 0, 1, 0, 1, 0, 1, 1, 0, 0, 0, 0, 0, 1, 0, 0, 0, 0, 1, 0, 1, 0, 0, 1, 0, 0, 0, 1, 1, 1, 1, 0, 0, 0, 1, 0, 0, 0, 0, 0, 0, 1, 1, 0, 0, 0, 0, 0, 0, 1, 1, 0, 1, 1, 0, 1, 1, 1, 0, 0, 0]\n",
            "accuracy:80.72916666666666%\n"
          ]
        }
      ]
    },
    {
      "cell_type": "code",
      "source": [
        "p=[[2.3443797239678989e-07, 1.0], [1.0, 5.790537731467655e-12], [4.760185995141387e-07, 1.0], [0.9999999999997193, 1.3773894071084169e-17], [1.0, 7.49479046619701e-09], [1.0, 5.790537731467655e-12], [0.9999997593963258, 1.7827783105267858e-14], [1.0, 7.49479046619701e-09], [2.3443797239678989e-07, 1.0], [2.3443797239678989e-07, 1.0], [1.0, 7.49479046619701e-09], [1.0, 7.49479046619701e-09], [4.760185995141387e-07, 1.0], [1.0, 7.49479046619701e-09], [0.9999999999998617, 7.413173583065964e-08], [1.0, 7.49479046619701e-09], [3.295837933196582e-19, 1.0], [4.760185995141387e-07, 1.0], [1.0, 5.790537731467655e-12], [1.0, 7.49479046619701e-09], [2.3443797239678989e-07, 1.0], [1.0, 5.790537731467655e-12], [1.0, 7.49479046619701e-09], [2.735378606784197e-13, 1.0], [1.0, 7.49479046619701e-09], [4.760185995141387e-07, 1.0], [1.0, 7.49479046619701e-09], [4.7601859951413703e-07, 1.0], [1.0, 5.790537731467655e-12], [0.9999997594005218, 1.7827926890587977e-14], [2.3443797239678989e-07, 1.0], [0.9999999999997193, 1.3777059110728068e-17], [2.3443797239678989e-07, 1.0], [2.3443797239678989e-07, 1.0], [2.3443797239678989e-07, 1.0], [0.9999999999997193, 1.3773894071084169e-17], [1.0, 7.49479046619701e-09], [2.3441849876730426e-07, 1.0], [0.9999997593963258, 1.7827783105267858e-14], [2.3443797239678989e-07, 1.0], [0.999997046667274, 1.0], [3.4230559529451456e-19, 1.0], [1.0, 7.49479046619701e-09], [1.0, 7.49479046619701e-09], [2.7353786067445575e-13, 1.0], [2.3443797239678989e-07, 1.0], [1.0, 7.49479046619701e-09], [0.9999999999998619, 7.412144614465116e-08], [2.3443797239678989e-07, 1.0], [1.0, 7.49479046619701e-09], [1.0, 7.49479046619701e-09], [3.2958383525020503e-19, 1.0], [0.9999999999997193, 1.3773894071084169e-17], [4.760185995141387e-07, 1.0], [2.3443797239678989e-07, 1.0], [1.0, 5.790537748567615e-12], [2.3443797239678989e-07, 1.0], [2.3443797239678989e-07, 1.0], [0.9999997593963258, 1.7827783105267858e-14], [3.295837933196582e-19, 1.0], [4.760185995141387e-07, 1.0], [0.9999997593963258, 1.7827783105267858e-14], [1.0, 5.790537731467655e-12], [1.0, 7.49479046619701e-09], [1.0, 5.790537731467655e-12], [2.735378606784197e-13, 1.0], [2.3443797239678989e-07, 1.0], [2.3443797239678989e-07, 1.0], [4.760185995141387e-07, 1.0], [1.0, 7.49479046619701e-09], [4.7601859963200897e-07, 1.0], [1.0, 7.49479046619701e-09], [2.730081969202577e-13, 1.0], [1.0, 7.49479046619701e-09], [0.9999999999998617, 7.413173838927611e-08], [2.824682922217676e-13, 1.0], [1.0, 5.790537731467655e-12], [1.0, 7.49479046619701e-09], [1.0, 7.494780457447032e-09], [1.0, 7.49479046619701e-09], [4.760185995141387e-07, 1.0], [2.3443797239678989e-07, 1.0], [1.0, 7.49479046619701e-09], [1.0, 7.49479046619701e-09], [1.2482862984116327e-18, 1.0], [2.3443797239678989e-07, 1.0], [1.0, 7.494790466200846e-09], [1.0, 5.790537731467655e-12], [1.0, 7.49479046619701e-09], [1.0, 5.790537731467655e-12], [1.0, 7.49479046619701e-09], [2.3443797239678989e-07, 1.0], [2.3443797239678989e-07, 1.0], [4.7601836872318313e-07, 1.0], [2.3443797239678989e-07, 1.0], [0.9999999999999998, 3.6456980727045307e-10], [1.0, 7.49479046619701e-09], [1.0, 5.790537731467655e-12], [2.3443797239678989e-07, 1.0], [3.561895408985392e-19, 1.0], [0.9999999999998617, 7.413141488936635e-08], [2.3443797239678989e-07, 1.0], [1.0, 7.49479046619701e-09], [0.999997046667274, 1.0], [1.0, 7.49479046619701e-09], [2.3443797226534723e-07, 1.0], [0.9999999999997193, 1.377389407325726e-17], [2.3443797239678989e-07, 1.0], [2.3443797239678989e-07, 1.0], [2.735371990190059e-13, 1.0], [1.0, 7.49479046619701e-09], [3.295837933196582e-19, 1.0], [1.0, 5.790537731467655e-12], [0.9999999954925718, 1.1219721194964509e-13], [4.760185995141387e-07, 1.0], [0.9999997593963258, 1.7827783105267858e-14], [0.9999997593963258, 1.7827783105267858e-14], [1.0, 5.790537731467655e-12], [2.3443797239678989e-07, 1.0], [2.3443797239678989e-07, 1.0], [1.0, 5.790537731467655e-12], [1.0, 7.49479046619701e-09], [2.3443797239678989e-07, 1.0], [2.735378606754956e-13, 1.0], [2.344379723967903e-07, 1.0], [2.3443797239678989e-07, 1.0], [4.760185995141387e-07, 1.0], [0.9999997593963258, 1.7827783105267858e-14], [4.7601861964494985e-07, 1.0], [1.0, 5.790537731467655e-12], [1.0, 1.4646590413208634e-12], [1.0, 7.49479046619701e-09], [1.0, 7.49479046619701e-09], [0.9999999999998617, 7.413173838927611e-08], [0.9999999999997193, 1.3773894071084169e-17], [2.3443797239678989e-07, 1.0], [1.0, 7.416891915703537e-09], [1.0, 7.49479046619701e-09], [1.0, 7.49479046619701e-09], [0.9999997593963258, 1.7827783105267858e-14], [2.735378606784197e-13, 1.0], [1.0, 7.49479046619701e-09], [2.3443797239678989e-07, 1.0], [4.7601859947178284e-07, 1.0], [1.0, 7.49479046619701e-09], [1.0, 7.49479046619701e-09], [4.760185995141387e-07, 1.0], [0.9999999999997216, 1.382760290185998e-17], [1.0, 7.49479046619701e-09], [2.735378606784197e-13, 1.0], [1.0, 7.494787237171255e-09], [0.9999997593963287, 1.7827783200580683e-14], [1.0, 7.49479046619701e-09], [1.0, 7.49479046619701e-09], [2.735378606784197e-13, 1.0], [1.0, 5.790537731467655e-12], [5.186223429698876e-06, 1.0], [1.0, 7.49479046619701e-09], [3.2963276408309863e-19, 1.0], [0.9999999999997193, 1.3773894071084169e-17], [1.0, 7.49479046619701e-09], [2.3443797239678989e-07, 1.0], [0.9999997593963258, 1.7827783105267858e-14], [4.760185995141387e-07, 1.0], [0.999999759396326, 1.7827783109247703e-14], [2.3443797239678989e-07, 1.0], [2.3443797239533066e-07, 1.0], [0.9999999999997193, 1.3773894071084169e-17], [2.3443797239678989e-07, 1.0], [2.3443797239678989e-07, 1.0], [1.0, 7.49479046619701e-09], [2.3443797239678989e-07, 1.0], [3.539949630789169e-14, 1.0], [4.760185995141387e-07, 1.0], [4.760185995141387e-07, 1.0], [0.9999999999997193, 1.3773894071096696e-17], [0.9999999999997193, 1.3773894071084169e-17], [1.0, 7.49479046619701e-09], [2.735378606784197e-13, 1.0], [4.760185995141387e-07, 1.0], [1.0, 7.49479046619701e-09], [2.3443797239678989e-07, 1.0], [0.9999999999997193, 1.3773894071084169e-17], [0.9999997593963258, 1.7827783105267858e-14], [1.0, 5.399724176787439e-09], [3.2958381859094635e-19, 1.0], [1.0, 5.790537731467655e-12], [2.3443797239678989e-07, 1.0], [2.736071297671768e-13, 1.0], [1.0, 7.49479046619701e-09], [0.9999999999998617, 7.413173838927611e-08], [1.0, 7.49479046619701e-09], [4.760185995141387e-07, 1.0], [0.9999999999997193, 1.3773894071084169e-17], [2.3443797239678989e-07, 1.0], [1.0, 7.49479046619701e-09], [1.0, 7.49479046619701e-09], [1.0, 7.494790466196905e-09], [2.3443797239678989e-07, 1.0], [4.760185995141387e-07, 1.0], [0.9999997593963258, 1.7827783105267858e-14], [1.0, 7.49479046619701e-09], [1.0, 7.49479046619701e-09], [1.0, 7.49479046619701e-09], [1.0, 5.790537731467655e-12], [1.0, 7.49479046619701e-09], [1.0, 7.49479046619701e-09], [0.9999997597973544, 1.784154246233934e-14], [4.760185995141387e-07, 1.0], [0.9999999999997193, 1.3773894071084169e-17], [1.0, 7.49479046619701e-09], [2.3443797239678989e-07, 1.0], [1.0, 7.49479046619701e-09], [0.9999999999997193, 1.3773894071084169e-17], [1.0, 7.49479046619701e-09], [2.3443797239678989e-07, 1.0], [2.3443797239678989e-07, 1.0], [1.0, 5.790537731467655e-12], [1.0, 5.790537731467655e-12], [0.9999999999997193, 1.3773916445774456e-17], [1.0, 5.7905377175175346e-12], [1.0, 7.49479046619701e-09], [0.9999997593963258, 1.7827783105640535e-14], [1.0, 7.49479046619701e-09], [0.9999999999997193, 1.3773894071084169e-17], [4.760185994289154e-07, 1.0], [4.760185995141387e-07, 1.0], [1.0, 5.790537731467655e-12], [0.9999999999997193, 1.3773894071084169e-17], [0.9999997594030715, 1.782801427057929e-14], [0.9999999999997193, 1.3773894071084169e-17], [2.3443797239678989e-07, 1.0], [2.3443797239678989e-07, 1.0], [0.9999999999997193, 1.3773894071148567e-17], [2.3443797239678989e-07, 1.0], [4.760185995141387e-07, 1.0], [1.0, 7.49479046619701e-09], [0.9999999999998492, 1.8358616739546913e-17], [2.3443797239678989e-07, 1.0], [2.3443792937421956e-07, 1.0], [1.0, 7.49479046619701e-09], [4.760185995141387e-07, 1.0], [2.735378606784197e-13, 1.0], [1.0, 7.49479046619701e-09], [2.3443797239678989e-07, 1.0], [1.0, 5.790537731467655e-12], [1.0, 7.494790466200632e-09], [0.9999997593963258, 1.7827783105267858e-14], [0.9999997593963258, 1.7827783105267858e-14], [0.9999999999997193, 1.3773894071084169e-17], [0.9999999999997193, 1.3773894071086518e-17], [2.3443797239678989e-07, 1.0], [0.9999999999997193, 1.3773894071084169e-17], [2.8247268646226163e-13, 1.0], [4.760185922590398e-07, 1.0], [0.9999997593963258, 1.7827783105267858e-14], [1.0, 7.493736721731287e-09], [4.760185995141387e-07, 1.0], [2.3443797239678989e-07, 1.0], [4.760185995142792e-07, 1.0], [1.0, 7.49479046619701e-09], [0.9999997593963258, 1.7827783105267858e-14], [1.0, 5.790537731467655e-12], [3.295837933196582e-19, 1.0], [1.0, 5.7905377314674905e-12], [1.0, 5.790539620623675e-12], [2.3443797239678989e-07, 1.0], [2.3443797239678989e-07, 1.0], [1.0, 7.492433652437726e-09], [2.3443797239678989e-07, 1.0], [2.3443797239678989e-07, 1.0], [1.0, 7.49479046619701e-09], [4.760185995141387e-07, 1.0], [4.760185995141387e-07, 1.0], [5.0873878446689e-18, 1.0]]\n",
        "for i in range(len(pred)):\n",
        "  if p[i][0] and p[i][1] >0.5:\n",
        "    print(i)\n",
        "  "
      ],
      "metadata": {
        "id": "3JesiWufuaZ6"
      },
      "execution_count": null,
      "outputs": []
    }
  ]
}