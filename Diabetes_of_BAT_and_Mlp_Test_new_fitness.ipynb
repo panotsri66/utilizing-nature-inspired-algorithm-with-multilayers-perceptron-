{
  "cells": [
    {
      "cell_type": "code",
      "execution_count": null,
      "metadata": {
        "id": "JsmzHlW5BSpU"
      },
      "outputs": [],
      "source": [
        "import numpy as np\n",
        "import pandas as pd\n",
        "import time \n",
        "import random\n",
        "from sklearn.model_selection import train_test_split\n",
        "from sklearn import datasets, preprocessing"
      ]
    },
    {
      "cell_type": "code",
      "execution_count": null,
      "metadata": {
        "colab": {
          "base_uri": "https://localhost:8080/"
        },
        "id": "_LI5PcEVzYtn",
        "outputId": "7ab0b76d-129c-4a89-fadd-a66fc5bae4a1"
      },
      "outputs": [
        {
          "output_type": "stream",
          "name": "stdout",
          "text": [
            "Mounted at /content/drive\n"
          ]
        }
      ],
      "source": [
        "from google.colab import drive\n",
        "drive.mount('/content/drive')"
      ]
    },
    {
      "cell_type": "code",
      "execution_count": null,
      "metadata": {
        "colab": {
          "base_uri": "https://localhost:8080/",
          "height": 520
        },
        "id": "HYOoo6J1zhwV",
        "outputId": "7a5b2bf7-75c7-49da-8fc8-2d2e8ee2398a"
      },
      "outputs": [
        {
          "output_type": "execute_result",
          "data": {
            "text/plain": [
              "    Pregnancies  Glucose  BloodPressure  SkinThickness  Insulin   BMI  \\\n",
              "0             6      148             72             35        0  33.6   \n",
              "1             1       85             66             29        0  26.6   \n",
              "2             8      183             64              0        0  23.3   \n",
              "3             1       89             66             23       94  28.1   \n",
              "4             0      137             40             35      168  43.1   \n",
              "5             5      116             74              0        0  25.6   \n",
              "6             3       78             50             32       88  31.0   \n",
              "7            10      115              0              0        0  35.3   \n",
              "8             2      197             70             45      543  30.5   \n",
              "9             8      125             96              0        0   0.0   \n",
              "10            4      110             92              0        0  37.6   \n",
              "11           10      168             74              0        0  38.0   \n",
              "12           10      139             80              0        0  27.1   \n",
              "13            1      189             60             23      846  30.1   \n",
              "14            5      166             72             19      175  25.8   \n",
              "\n",
              "    DiabetesPedigreeFunction  Age  Outcome  \n",
              "0                      0.627   50        1  \n",
              "1                      0.351   31        0  \n",
              "2                      0.672   32        1  \n",
              "3                      0.167   21        0  \n",
              "4                      2.288   33        1  \n",
              "5                      0.201   30        0  \n",
              "6                      0.248   26        1  \n",
              "7                      0.134   29        0  \n",
              "8                      0.158   53        1  \n",
              "9                      0.232   54        1  \n",
              "10                     0.191   30        0  \n",
              "11                     0.537   34        1  \n",
              "12                     1.441   57        0  \n",
              "13                     0.398   59        1  \n",
              "14                     0.587   51        1  "
            ],
            "text/html": [
              "\n",
              "  <div id=\"df-f1dd3c4f-3125-4abb-8eb4-3f791a115344\">\n",
              "    <div class=\"colab-df-container\">\n",
              "      <div>\n",
              "<style scoped>\n",
              "    .dataframe tbody tr th:only-of-type {\n",
              "        vertical-align: middle;\n",
              "    }\n",
              "\n",
              "    .dataframe tbody tr th {\n",
              "        vertical-align: top;\n",
              "    }\n",
              "\n",
              "    .dataframe thead th {\n",
              "        text-align: right;\n",
              "    }\n",
              "</style>\n",
              "<table border=\"1\" class=\"dataframe\">\n",
              "  <thead>\n",
              "    <tr style=\"text-align: right;\">\n",
              "      <th></th>\n",
              "      <th>Pregnancies</th>\n",
              "      <th>Glucose</th>\n",
              "      <th>BloodPressure</th>\n",
              "      <th>SkinThickness</th>\n",
              "      <th>Insulin</th>\n",
              "      <th>BMI</th>\n",
              "      <th>DiabetesPedigreeFunction</th>\n",
              "      <th>Age</th>\n",
              "      <th>Outcome</th>\n",
              "    </tr>\n",
              "  </thead>\n",
              "  <tbody>\n",
              "    <tr>\n",
              "      <th>0</th>\n",
              "      <td>6</td>\n",
              "      <td>148</td>\n",
              "      <td>72</td>\n",
              "      <td>35</td>\n",
              "      <td>0</td>\n",
              "      <td>33.6</td>\n",
              "      <td>0.627</td>\n",
              "      <td>50</td>\n",
              "      <td>1</td>\n",
              "    </tr>\n",
              "    <tr>\n",
              "      <th>1</th>\n",
              "      <td>1</td>\n",
              "      <td>85</td>\n",
              "      <td>66</td>\n",
              "      <td>29</td>\n",
              "      <td>0</td>\n",
              "      <td>26.6</td>\n",
              "      <td>0.351</td>\n",
              "      <td>31</td>\n",
              "      <td>0</td>\n",
              "    </tr>\n",
              "    <tr>\n",
              "      <th>2</th>\n",
              "      <td>8</td>\n",
              "      <td>183</td>\n",
              "      <td>64</td>\n",
              "      <td>0</td>\n",
              "      <td>0</td>\n",
              "      <td>23.3</td>\n",
              "      <td>0.672</td>\n",
              "      <td>32</td>\n",
              "      <td>1</td>\n",
              "    </tr>\n",
              "    <tr>\n",
              "      <th>3</th>\n",
              "      <td>1</td>\n",
              "      <td>89</td>\n",
              "      <td>66</td>\n",
              "      <td>23</td>\n",
              "      <td>94</td>\n",
              "      <td>28.1</td>\n",
              "      <td>0.167</td>\n",
              "      <td>21</td>\n",
              "      <td>0</td>\n",
              "    </tr>\n",
              "    <tr>\n",
              "      <th>4</th>\n",
              "      <td>0</td>\n",
              "      <td>137</td>\n",
              "      <td>40</td>\n",
              "      <td>35</td>\n",
              "      <td>168</td>\n",
              "      <td>43.1</td>\n",
              "      <td>2.288</td>\n",
              "      <td>33</td>\n",
              "      <td>1</td>\n",
              "    </tr>\n",
              "    <tr>\n",
              "      <th>5</th>\n",
              "      <td>5</td>\n",
              "      <td>116</td>\n",
              "      <td>74</td>\n",
              "      <td>0</td>\n",
              "      <td>0</td>\n",
              "      <td>25.6</td>\n",
              "      <td>0.201</td>\n",
              "      <td>30</td>\n",
              "      <td>0</td>\n",
              "    </tr>\n",
              "    <tr>\n",
              "      <th>6</th>\n",
              "      <td>3</td>\n",
              "      <td>78</td>\n",
              "      <td>50</td>\n",
              "      <td>32</td>\n",
              "      <td>88</td>\n",
              "      <td>31.0</td>\n",
              "      <td>0.248</td>\n",
              "      <td>26</td>\n",
              "      <td>1</td>\n",
              "    </tr>\n",
              "    <tr>\n",
              "      <th>7</th>\n",
              "      <td>10</td>\n",
              "      <td>115</td>\n",
              "      <td>0</td>\n",
              "      <td>0</td>\n",
              "      <td>0</td>\n",
              "      <td>35.3</td>\n",
              "      <td>0.134</td>\n",
              "      <td>29</td>\n",
              "      <td>0</td>\n",
              "    </tr>\n",
              "    <tr>\n",
              "      <th>8</th>\n",
              "      <td>2</td>\n",
              "      <td>197</td>\n",
              "      <td>70</td>\n",
              "      <td>45</td>\n",
              "      <td>543</td>\n",
              "      <td>30.5</td>\n",
              "      <td>0.158</td>\n",
              "      <td>53</td>\n",
              "      <td>1</td>\n",
              "    </tr>\n",
              "    <tr>\n",
              "      <th>9</th>\n",
              "      <td>8</td>\n",
              "      <td>125</td>\n",
              "      <td>96</td>\n",
              "      <td>0</td>\n",
              "      <td>0</td>\n",
              "      <td>0.0</td>\n",
              "      <td>0.232</td>\n",
              "      <td>54</td>\n",
              "      <td>1</td>\n",
              "    </tr>\n",
              "    <tr>\n",
              "      <th>10</th>\n",
              "      <td>4</td>\n",
              "      <td>110</td>\n",
              "      <td>92</td>\n",
              "      <td>0</td>\n",
              "      <td>0</td>\n",
              "      <td>37.6</td>\n",
              "      <td>0.191</td>\n",
              "      <td>30</td>\n",
              "      <td>0</td>\n",
              "    </tr>\n",
              "    <tr>\n",
              "      <th>11</th>\n",
              "      <td>10</td>\n",
              "      <td>168</td>\n",
              "      <td>74</td>\n",
              "      <td>0</td>\n",
              "      <td>0</td>\n",
              "      <td>38.0</td>\n",
              "      <td>0.537</td>\n",
              "      <td>34</td>\n",
              "      <td>1</td>\n",
              "    </tr>\n",
              "    <tr>\n",
              "      <th>12</th>\n",
              "      <td>10</td>\n",
              "      <td>139</td>\n",
              "      <td>80</td>\n",
              "      <td>0</td>\n",
              "      <td>0</td>\n",
              "      <td>27.1</td>\n",
              "      <td>1.441</td>\n",
              "      <td>57</td>\n",
              "      <td>0</td>\n",
              "    </tr>\n",
              "    <tr>\n",
              "      <th>13</th>\n",
              "      <td>1</td>\n",
              "      <td>189</td>\n",
              "      <td>60</td>\n",
              "      <td>23</td>\n",
              "      <td>846</td>\n",
              "      <td>30.1</td>\n",
              "      <td>0.398</td>\n",
              "      <td>59</td>\n",
              "      <td>1</td>\n",
              "    </tr>\n",
              "    <tr>\n",
              "      <th>14</th>\n",
              "      <td>5</td>\n",
              "      <td>166</td>\n",
              "      <td>72</td>\n",
              "      <td>19</td>\n",
              "      <td>175</td>\n",
              "      <td>25.8</td>\n",
              "      <td>0.587</td>\n",
              "      <td>51</td>\n",
              "      <td>1</td>\n",
              "    </tr>\n",
              "  </tbody>\n",
              "</table>\n",
              "</div>\n",
              "      <button class=\"colab-df-convert\" onclick=\"convertToInteractive('df-f1dd3c4f-3125-4abb-8eb4-3f791a115344')\"\n",
              "              title=\"Convert this dataframe to an interactive table.\"\n",
              "              style=\"display:none;\">\n",
              "        \n",
              "  <svg xmlns=\"http://www.w3.org/2000/svg\" height=\"24px\"viewBox=\"0 0 24 24\"\n",
              "       width=\"24px\">\n",
              "    <path d=\"M0 0h24v24H0V0z\" fill=\"none\"/>\n",
              "    <path d=\"M18.56 5.44l.94 2.06.94-2.06 2.06-.94-2.06-.94-.94-2.06-.94 2.06-2.06.94zm-11 1L8.5 8.5l.94-2.06 2.06-.94-2.06-.94L8.5 2.5l-.94 2.06-2.06.94zm10 10l.94 2.06.94-2.06 2.06-.94-2.06-.94-.94-2.06-.94 2.06-2.06.94z\"/><path d=\"M17.41 7.96l-1.37-1.37c-.4-.4-.92-.59-1.43-.59-.52 0-1.04.2-1.43.59L10.3 9.45l-7.72 7.72c-.78.78-.78 2.05 0 2.83L4 21.41c.39.39.9.59 1.41.59.51 0 1.02-.2 1.41-.59l7.78-7.78 2.81-2.81c.8-.78.8-2.07 0-2.86zM5.41 20L4 18.59l7.72-7.72 1.47 1.35L5.41 20z\"/>\n",
              "  </svg>\n",
              "      </button>\n",
              "      \n",
              "  <style>\n",
              "    .colab-df-container {\n",
              "      display:flex;\n",
              "      flex-wrap:wrap;\n",
              "      gap: 12px;\n",
              "    }\n",
              "\n",
              "    .colab-df-convert {\n",
              "      background-color: #E8F0FE;\n",
              "      border: none;\n",
              "      border-radius: 50%;\n",
              "      cursor: pointer;\n",
              "      display: none;\n",
              "      fill: #1967D2;\n",
              "      height: 32px;\n",
              "      padding: 0 0 0 0;\n",
              "      width: 32px;\n",
              "    }\n",
              "\n",
              "    .colab-df-convert:hover {\n",
              "      background-color: #E2EBFA;\n",
              "      box-shadow: 0px 1px 2px rgba(60, 64, 67, 0.3), 0px 1px 3px 1px rgba(60, 64, 67, 0.15);\n",
              "      fill: #174EA6;\n",
              "    }\n",
              "\n",
              "    [theme=dark] .colab-df-convert {\n",
              "      background-color: #3B4455;\n",
              "      fill: #D2E3FC;\n",
              "    }\n",
              "\n",
              "    [theme=dark] .colab-df-convert:hover {\n",
              "      background-color: #434B5C;\n",
              "      box-shadow: 0px 1px 3px 1px rgba(0, 0, 0, 0.15);\n",
              "      filter: drop-shadow(0px 1px 2px rgba(0, 0, 0, 0.3));\n",
              "      fill: #FFFFFF;\n",
              "    }\n",
              "  </style>\n",
              "\n",
              "      <script>\n",
              "        const buttonEl =\n",
              "          document.querySelector('#df-f1dd3c4f-3125-4abb-8eb4-3f791a115344 button.colab-df-convert');\n",
              "        buttonEl.style.display =\n",
              "          google.colab.kernel.accessAllowed ? 'block' : 'none';\n",
              "\n",
              "        async function convertToInteractive(key) {\n",
              "          const element = document.querySelector('#df-f1dd3c4f-3125-4abb-8eb4-3f791a115344');\n",
              "          const dataTable =\n",
              "            await google.colab.kernel.invokeFunction('convertToInteractive',\n",
              "                                                     [key], {});\n",
              "          if (!dataTable) return;\n",
              "\n",
              "          const docLinkHtml = 'Like what you see? Visit the ' +\n",
              "            '<a target=\"_blank\" href=https://colab.research.google.com/notebooks/data_table.ipynb>data table notebook</a>'\n",
              "            + ' to learn more about interactive tables.';\n",
              "          element.innerHTML = '';\n",
              "          dataTable['output_type'] = 'display_data';\n",
              "          await google.colab.output.renderOutput(dataTable, element);\n",
              "          const docLink = document.createElement('div');\n",
              "          docLink.innerHTML = docLinkHtml;\n",
              "          element.appendChild(docLink);\n",
              "        }\n",
              "      </script>\n",
              "    </div>\n",
              "  </div>\n",
              "  "
            ]
          },
          "metadata": {},
          "execution_count": 3
        }
      ],
      "source": [
        "import pandas as pd\n",
        "import numpy as np\n",
        "import matplotlib.pyplot as plt\n",
        "ds=pd.read_csv('/content/drive/MyDrive/diabetes.csv')\n",
        "ds.head(15)"
      ]
    },
    {
      "cell_type": "markdown",
      "metadata": {
        "id": "eYyxCvcDeDTB"
      },
      "source": [
        "# Import Data"
      ]
    },
    {
      "cell_type": "code",
      "execution_count": null,
      "metadata": {
        "id": "VGzlvOxiB30Z"
      },
      "outputs": [],
      "source": [
        "\n",
        "x = ds.drop(['Outcome'], axis = 1).values\n",
        "y = ds['Outcome'].values\n",
        "y = y.reshape(y.shape[0], 1)\n",
        "#Spliting Data\n",
        "from sklearn.model_selection import train_test_split\n",
        "x_train, x_test, y_train, y_test= train_test_split(x,y,test_size=0.25,random_state=0)\n",
        "#Standardize data\n",
        "from sklearn.preprocessing import StandardScaler \n",
        "scale = StandardScaler()\n",
        "x_train_std = scale.fit_transform(x_train)\n",
        "x_test_std = scale.transform(x_test)\n"
      ]
    },
    {
      "cell_type": "code",
      "execution_count": null,
      "metadata": {
        "colab": {
          "base_uri": "https://localhost:8080/"
        },
        "id": "QtOasfzldLih",
        "outputId": "867e681a-5419-4964-9945-a3186b9aad7e"
      },
      "outputs": [
        {
          "name": "stdout",
          "output_type": "stream",
          "text": [
            "0\n"
          ]
        }
      ],
      "source": [
        "print(y_train[0][0])"
      ]
    },
    {
      "cell_type": "code",
      "execution_count": null,
      "metadata": {
        "id": "Jr8lD7NVD1dL"
      },
      "outputs": [],
      "source": [
        "def sigmoid(x):\n",
        "  return 1/(1+np.exp(-x))"
      ]
    },
    {
      "cell_type": "markdown",
      "metadata": {
        "id": "XXXnmkUTkfL7"
      },
      "source": [
        "# Feed Forward"
      ]
    },
    {
      "cell_type": "code",
      "execution_count": null,
      "metadata": {
        "id": "CJsxevK4EH74"
      },
      "outputs": [],
      "source": [
        "def FF(HL,OL,W,B,x):\n",
        "  INL=len(x)\n",
        "  hidden_layer=np.zeros((HL))\n",
        "  output_layer=np.zeros((OL))\n",
        "  witr=0\n",
        "  bitr=0\n",
        "  for i in range(HL):\n",
        "    sum=0\n",
        "    for j in range(INL):\n",
        "      sum=sum+(x[j]*W[witr])\n",
        "      witr=witr+1\n",
        "    sum=sum.sum()\n",
        "    hidden_layer[i]=sigmoid(sum+B[bitr])\n",
        "    bitr=bitr+1\n",
        "\n",
        "  for i in range(OL):\n",
        "    output=0\n",
        "    for j in range(HL):\n",
        "      output=output+(hidden_layer[j]*W[witr])\n",
        "      witr = witr + 1\n",
        "    output=output.sum()\n",
        "    output_layer[i]=sigmoid(output+B[bitr])\n",
        "    bitr=bitr+1\n",
        "  return output_layer"
      ]
    },
    {
      "cell_type": "code",
      "execution_count": null,
      "metadata": {
        "id": "E54Hh79aGE3S"
      },
      "outputs": [],
      "source": [
        "NIL=8\n",
        "HL=18\n",
        "OL=1\n",
        "#144+18+19=181"
      ]
    },
    {
      "cell_type": "code",
      "execution_count": null,
      "metadata": {
        "id": "16mw-PgwsOIV"
      },
      "outputs": [],
      "source": [
        "def MLP(solution):\n",
        "      fitness=0\n",
        "      w=(NIL*HL)+(HL*OL)\n",
        "      b=(NIL*HL)+HL+(HL*OL)+OL\n",
        "      W=solution[0:w]\n",
        "      B=solution[w:b]\n",
        "      for idx,x in enumerate(x_train_std):\n",
        "        actualValue=FF(HL,OL,W,B,x)\n",
        "\n",
        "        fitness+=pow((actualValue[0]-y_train[idx][0]),2)\n",
        "\n",
        "      fitness=fitness/len(x_train)\n",
        "      \n",
        "      return fitness"
      ]
    },
    {
      "cell_type": "markdown",
      "metadata": {
        "id": "ShLg4VnLkihz"
      },
      "source": [
        "# BAT Algorithm"
      ]
    },
    {
      "cell_type": "code",
      "execution_count": null,
      "metadata": {
        "id": "kNo4gWajJAmV"
      },
      "outputs": [],
      "source": [
        "\n",
        "import random\n",
        "import numpy\n",
        "import time\n",
        "import math\n",
        "import sklearn\n",
        "from numpy import asarray\n",
        "from sklearn.preprocessing import normalize\n",
        "\n",
        "class solution:\n",
        "    def __init__(self):\n",
        "        self.best = 0\n",
        "        self.bestIndividual = []\n",
        "        self.convergence = []\n",
        "        self.optimizer = \"\"\n",
        "        self.objfname = \"\"\n",
        "        self.startTime = 0\n",
        "        self.endTime = 0\n",
        "        self.executionTime = 0\n",
        "        self.lb = 0\n",
        "        self.ub = 0\n",
        "        self.dim = 0\n",
        "        self.popnum = 0\n",
        "        self.maxiers = 0\n",
        "\n",
        "\n",
        "\n",
        "\n",
        "def BAT(objf, lb, ub, dim, N, Max_iteration):\n",
        "\n",
        "    n = N\n",
        "    # Population size\n",
        "\n",
        "    if not isinstance(lb, list):\n",
        "        lb = [lb] * dim\n",
        "    if not isinstance(ub, list):\n",
        "        ub = [ub] * dim\n",
        "    N_gen = Max_iteration  # Number of generations\n",
        "\n",
        "    A = 0.5\n",
        "    # Loudness  (constant or decreasing)\n",
        "    r = 0.5\n",
        "    # Pulse rate (constant or decreasing)\n",
        "\n",
        "    Qmin = 0  # Frequency minimum\n",
        "    Qmax = 2  # Frequency maximum\n",
        "\n",
        "    d = dim  # Number of dimensions\n",
        "\n",
        "    # Initializing arrays\n",
        "    Q = numpy.zeros(n)  # Frequency\n",
        "    v = numpy.zeros((n, d))  # Velocities\n",
        "    Convergence_curve = []\n",
        "\n",
        "    # Initialize the population/solutions\n",
        "    Sol = numpy.zeros((n, d))\n",
        "    for i in range(dim):\n",
        "        Sol[:, i] = numpy.random.rand(n) * (ub[i] - lb[i]) + lb[i]\n",
        "\n",
        "    S = numpy.zeros((n, d))\n",
        "    S = numpy.copy(Sol)\n",
        "    Fitness = numpy.zeros(n)\n",
        "\n",
        "    # initialize solution for the final results\n",
        "    s = solution()\n",
        "    print('BAT is optimizing  \"' + objf.__name__ + '\"')\n",
        "\n",
        "    # Initialize timer for the experiment\n",
        "    timerStart = time.time()\n",
        "    s.startTime = time.strftime(\"%Y-%m-%d-%H-%M-%S\")\n",
        "\n",
        "    # Evaluate initial random solutions\n",
        "    for i in range(0, n):\n",
        "        Fitness[i] = objf(Sol[i, :])\n",
        "\n",
        "    # Find the initial best solution and minimum fitness\n",
        "    I = numpy.argmin(Fitness)\n",
        "    best = Sol[I, :]\n",
        "    fmin = min(Fitness)\n",
        "\n",
        "    # Main loop\n",
        "    for t in range(0, N_gen):\n",
        "\n",
        "        # Loop over all bats(solutions)\n",
        "        for i in range(0, n):\n",
        "            Q[i] = Qmin + (Qmin - Qmax) * random.random()\n",
        "            v[i, :] = v[i, :] + (Sol[i, :] - best) * Q[i]\n",
        "            S[i, :] = Sol[i, :] + v[i, :]\n",
        "\n",
        "            # Check boundaries\n",
        "            for j in range(d):\n",
        "                Sol[i, j] = numpy.clip(Sol[i, j], lb[j], ub[j])\n",
        "\n",
        "            # Pulse rate\n",
        "            if random.random() > r:\n",
        "                S[i, :] = best + 0.001 * numpy.random.randn(d)\n",
        "\n",
        "            # Evaluate new solutions\n",
        "            Fnew = objf(S[i, :])\n",
        "\n",
        "            # Update if the solution improves\n",
        "            if (Fnew <= Fitness[i]) and (random.random() < A):\n",
        "                Sol[i, :] = numpy.copy(S[i, :])\n",
        "                Fitness[i] = Fnew\n",
        "\n",
        "            # Update the current best solution\n",
        "            if Fnew <= fmin:\n",
        "                best = numpy.copy(S[i, :])\n",
        "                fmin = Fnew\n",
        "\n",
        "        # update convergence curve\n",
        "        Convergence_curve.append(fmin)\n",
        "\n",
        "        if t % 9 == 0:\n",
        "            print([\"At iteration \" + str(t) + \" the best fitness is \" + str(fmin)])\n",
        "\n",
        "    timerEnd = time.time()\n",
        "    s.endTime = time.strftime(\"%Y-%m-%d-%H-%M-%S\")\n",
        "    s.executionTime = timerEnd - timerStart\n",
        "    s.convergence = Convergence_curve\n",
        "    s.optimizer = \"BAT\"\n",
        "    s.objfname = objf.__name__\n",
        "    s.bestIndividual=best\n",
        "\n",
        "    return s"
      ]
    },
    {
      "cell_type": "code",
      "execution_count": null,
      "metadata": {
        "colab": {
          "base_uri": "https://localhost:8080/"
        },
        "id": "Ontf5gBncKFW",
        "outputId": "6d489088-9cc0-44fb-df2f-fb7fd40e9e81"
      },
      "outputs": [
        {
          "output_type": "stream",
          "name": "stdout",
          "text": [
            "BAT is optimizing  \"MLP\"\n",
            "['At iteration 0 the best fitness is 0.1843708545773074']\n",
            "['At iteration 9 the best fitness is 0.17847506449867392']\n",
            "['At iteration 18 the best fitness is 0.17606009609499776']\n",
            "['At iteration 27 the best fitness is 0.17405820027390081']\n",
            "['At iteration 36 the best fitness is 0.17189121553959658']\n",
            "['At iteration 45 the best fitness is 0.17024427583010723']\n",
            "['At iteration 54 the best fitness is 0.16893604360625872']\n",
            "['At iteration 63 the best fitness is 0.16751784625120666']\n",
            "['At iteration 72 the best fitness is 0.1661618073632037']\n"
          ]
        },
        {
          "output_type": "stream",
          "name": "stderr",
          "text": [
            "/usr/local/lib/python3.7/dist-packages/ipykernel_launcher.py:2: RuntimeWarning: overflow encountered in exp\n",
            "  \n"
          ]
        },
        {
          "output_type": "stream",
          "name": "stdout",
          "text": [
            "['At iteration 81 the best fitness is 0.16500096471058712']\n",
            "['At iteration 90 the best fitness is 0.1639630955322925']\n",
            "['At iteration 99 the best fitness is 0.1629066341450631']\n",
            "['At iteration 108 the best fitness is 0.16203639413486431']\n",
            "['At iteration 117 the best fitness is 0.1612483478720979']\n",
            "['At iteration 126 the best fitness is 0.16052510882684065']\n",
            "['At iteration 135 the best fitness is 0.15985352656960852']\n",
            "['At iteration 144 the best fitness is 0.1591807695937505']\n",
            "['At iteration 153 the best fitness is 0.1585974767702034']\n",
            "['At iteration 162 the best fitness is 0.157962505260531']\n",
            "['At iteration 171 the best fitness is 0.15740121807239338']\n",
            "['At iteration 180 the best fitness is 0.15683628562138896']\n",
            "['At iteration 189 the best fitness is 0.15629240647746703']\n",
            "['At iteration 198 the best fitness is 0.15582978436208175']\n",
            "['At iteration 207 the best fitness is 0.15530378884165427']\n",
            "['At iteration 216 the best fitness is 0.15488304457032492']\n",
            "['At iteration 225 the best fitness is 0.15434598431157703']\n",
            "['At iteration 234 the best fitness is 0.15377707385095726']\n",
            "['At iteration 243 the best fitness is 0.1533429094865647']\n",
            "['At iteration 252 the best fitness is 0.15281718958027288']\n",
            "['At iteration 261 the best fitness is 0.1523812029614292']\n",
            "['At iteration 270 the best fitness is 0.15183735897948825']\n",
            "['At iteration 279 the best fitness is 0.15138000397858872']\n",
            "['At iteration 288 the best fitness is 0.1510049630468838']\n",
            "['At iteration 297 the best fitness is 0.15053546625752295']\n",
            "['At iteration 306 the best fitness is 0.150122523124552']\n",
            "['At iteration 315 the best fitness is 0.14969001583482827']\n",
            "['At iteration 324 the best fitness is 0.14923602383236595']\n",
            "['At iteration 333 the best fitness is 0.14873762687084222']\n",
            "['At iteration 342 the best fitness is 0.1483587415349799']\n",
            "['At iteration 351 the best fitness is 0.14793025774208357']\n",
            "['At iteration 360 the best fitness is 0.14756776389202667']\n",
            "['At iteration 369 the best fitness is 0.14699856881906287']\n",
            "['At iteration 378 the best fitness is 0.1465598489938261']\n",
            "['At iteration 387 the best fitness is 0.14609750166316637']\n",
            "['At iteration 396 the best fitness is 0.1457124328135922']\n",
            "['At iteration 405 the best fitness is 0.14533951755281066']\n",
            "['At iteration 414 the best fitness is 0.14496871287688198']\n",
            "['At iteration 423 the best fitness is 0.14453434563321635']\n",
            "['At iteration 432 the best fitness is 0.14403010312842052']\n",
            "['At iteration 441 the best fitness is 0.14366392719152235']\n",
            "['At iteration 450 the best fitness is 0.14322732720566222']\n",
            "['At iteration 459 the best fitness is 0.14277711467697063']\n",
            "['At iteration 468 the best fitness is 0.14228859368059574']\n",
            "['At iteration 477 the best fitness is 0.1419012446249807']\n",
            "['At iteration 486 the best fitness is 0.14150455853782454']\n",
            "['At iteration 495 the best fitness is 0.14100555869656037']\n",
            "['At iteration 504 the best fitness is 0.14061518707753706']\n",
            "['At iteration 513 the best fitness is 0.14027405426862105']\n",
            "['At iteration 522 the best fitness is 0.13982248071599082']\n",
            "['At iteration 531 the best fitness is 0.13944941274450218']\n",
            "['At iteration 540 the best fitness is 0.13902794538070326']\n",
            "['At iteration 549 the best fitness is 0.13868745206268557']\n",
            "['At iteration 558 the best fitness is 0.13830136359952705']\n",
            "['At iteration 567 the best fitness is 0.1378232585981993']\n",
            "['At iteration 576 the best fitness is 0.13735040768498774']\n",
            "['At iteration 585 the best fitness is 0.1369070142476736']\n",
            "['At iteration 594 the best fitness is 0.13647540070407974']\n",
            "['At iteration 603 the best fitness is 0.13605633608840587']\n",
            "['At iteration 612 the best fitness is 0.1356657540064553']\n",
            "['At iteration 621 the best fitness is 0.13520567560831498']\n",
            "['At iteration 630 the best fitness is 0.13485137807509034']\n",
            "['At iteration 639 the best fitness is 0.1343983573912664']\n",
            "['At iteration 648 the best fitness is 0.13400067551068529']\n",
            "['At iteration 657 the best fitness is 0.13365051950260476']\n",
            "['At iteration 666 the best fitness is 0.13336912959182484']\n",
            "['At iteration 675 the best fitness is 0.1329382555174763']\n",
            "['At iteration 684 the best fitness is 0.13264985277866528']\n",
            "['At iteration 693 the best fitness is 0.132247688597107']\n",
            "['At iteration 702 the best fitness is 0.13185557488182956']\n",
            "['At iteration 711 the best fitness is 0.13153880472462898']\n",
            "['At iteration 720 the best fitness is 0.13116573225990752']\n",
            "['At iteration 729 the best fitness is 0.13078007839664452']\n",
            "['At iteration 738 the best fitness is 0.13040772964972133']\n",
            "['At iteration 747 the best fitness is 0.12996933405490785']\n",
            "['At iteration 756 the best fitness is 0.12955872824845116']\n",
            "['At iteration 765 the best fitness is 0.12922335627626233']\n",
            "['At iteration 774 the best fitness is 0.12875246696927795']\n",
            "['At iteration 783 the best fitness is 0.12840868758191482']\n",
            "['At iteration 792 the best fitness is 0.12807533325373302']\n",
            "['At iteration 801 the best fitness is 0.12775891515451632']\n",
            "['At iteration 810 the best fitness is 0.12744052067873987']\n",
            "['At iteration 819 the best fitness is 0.12711337006021026']\n",
            "['At iteration 828 the best fitness is 0.12676045722694873']\n",
            "['At iteration 837 the best fitness is 0.12641909665711798']\n",
            "['At iteration 846 the best fitness is 0.12609139232150882']\n",
            "['At iteration 855 the best fitness is 0.1257498573864887']\n",
            "['At iteration 864 the best fitness is 0.1254163755483482']\n",
            "['At iteration 873 the best fitness is 0.1250755906030427']\n",
            "['At iteration 882 the best fitness is 0.12467255579223095']\n",
            "['At iteration 891 the best fitness is 0.1243273955075327']\n",
            "['At iteration 900 the best fitness is 0.12398715290420638']\n",
            "['At iteration 909 the best fitness is 0.12363624289870717']\n",
            "['At iteration 918 the best fitness is 0.12327595498988292']\n",
            "['At iteration 927 the best fitness is 0.12292669682669774']\n",
            "['At iteration 936 the best fitness is 0.12259742667750378']\n",
            "['At iteration 945 the best fitness is 0.12230993143360355']\n",
            "['At iteration 954 the best fitness is 0.12204993002385267']\n",
            "['At iteration 963 the best fitness is 0.12173036819200317']\n",
            "['At iteration 972 the best fitness is 0.1214756730288465']\n",
            "['At iteration 981 the best fitness is 0.12117628701391646']\n",
            "['At iteration 990 the best fitness is 0.12087206508919796']\n",
            "['At iteration 999 the best fitness is 0.12054701732301289']\n"
          ]
        }
      ],
      "source": [
        "A=BAT(MLP, -1, 1, 181, 50, 1000)\n"
      ]
    },
    {
      "cell_type": "code",
      "execution_count": null,
      "metadata": {
        "colab": {
          "base_uri": "https://localhost:8080/"
        },
        "id": "HfuRL5_aHDR4",
        "outputId": "e92c6d87-6803-4af9-d689-58884bfecb78"
      },
      "outputs": [
        {
          "output_type": "stream",
          "name": "stdout",
          "text": [
            "0.12054701732301289\n"
          ]
        }
      ],
      "source": [
        "print(A.convergence[999])"
      ]
    },
    {
      "cell_type": "code",
      "execution_count": null,
      "metadata": {
        "colab": {
          "base_uri": "https://localhost:8080/"
        },
        "id": "w598OK7likpT",
        "outputId": "7ac9f18b-dd49-41fc-c99a-4cad88378196"
      },
      "outputs": [
        {
          "output_type": "stream",
          "name": "stdout",
          "text": [
            "[ 0.73209084 -0.86502133 -0.57642649  1.22192587 -2.13403999  0.60632047\n",
            "  0.86677599  1.24562251  1.68633048  0.33977064  0.01784838  1.08568234\n",
            "  1.39462177 -1.91940331 -1.02246151 -0.49114266 -1.82968507 -0.48231602\n",
            "  0.7139712  -1.43097148 -0.64526452  1.06753892 -0.97827882  1.00580322\n",
            " -1.69449244  2.33256118 -1.94547755 -1.5344631   0.80926255  0.66303229\n",
            "  0.93581735 -0.16891629 -0.19778    -0.06521807 -1.22037434  2.17008763\n",
            " -0.46137378 -1.30636697 -0.5351861   0.81378394  0.76143371 -1.25294025\n",
            "  0.98417342  0.22037125 -0.49961473 -0.91339945 -1.13859779 -3.26986146\n",
            " -0.23400245  0.99044716 -0.56938397  0.39638676  0.91008315 -0.13535668\n",
            " -0.77507982  0.92875902  0.64128491  0.80743849 -0.0514977  -0.79472065\n",
            "  1.73101561  0.37579009 -0.25424833 -2.15173699  0.48437092  0.27865921\n",
            "  2.36084851  1.05724932  0.06848296  0.81490375  0.44432071  0.79835266\n",
            "  0.87626606  1.51974739  1.40967643  0.83236752  0.96482453  1.1149408\n",
            " -0.90212031  2.69235103  0.87325135 -0.14023001 -0.61446271 -1.46045733\n",
            " -0.2471911  -0.14584338 -0.42433856 -0.35468497  0.64780624  2.90950851\n",
            "  0.95042516 -0.05395894  1.47890945 -1.79528631 -0.65212217 -0.30164136\n",
            " -0.78760128  1.0627201   0.07465323  0.1705515  -0.8769957  -2.10860664\n",
            "  0.28166323 -1.54271841 -0.13604163  1.43682251  0.27155058  1.50023874\n",
            " -2.03613069  0.27716465 -0.54590766 -0.32603003 -1.40810877 -1.01006146\n",
            "  0.77357349 -0.3726524   0.25854027 -0.70650235  0.63348857  0.47483853\n",
            "  1.86164592 -1.23221234 -1.91430593 -1.78533189 -0.55139846 -1.26104491\n",
            " -1.58991037 -0.64721675 -1.1309202  -0.61682876 -0.70202349 -0.54618334\n",
            "  0.61890413  1.87311188  0.80977929 -2.15464397  0.76190541  1.50302804\n",
            " -0.1273591  -0.54590165 -0.32452989 -1.36509468 -1.10982336  1.41700259\n",
            " -0.03739219 -1.04686117 -1.45071973 -0.1666773  -1.53389022 -2.81595199\n",
            "  0.28496699  2.53189949 -1.59412589  1.04050515 -0.3671519  -1.83672351\n",
            "  1.01153827  1.59218864 -1.11301564 -2.20468088 -1.44892077  1.7612603\n",
            " -1.48913921  0.27189234  1.60753073  1.04156739 -1.41893288  0.28047332\n",
            "  0.85345053  1.34474772 -0.62464357  0.7217644  -0.51691287 -0.81368186\n",
            "  0.82397087  0.09214988  0.96654203  1.18645286 -0.46336883  0.84480702\n",
            "  2.25520901]\n"
          ]
        }
      ],
      "source": [
        "solution=A.bestIndividual\n",
        "print(solution)"
      ]
    },
    {
      "cell_type": "code",
      "execution_count": null,
      "metadata": {
        "id": "qW8GKlcj1CEj"
      },
      "outputs": [],
      "source": [
        "def Test(HL,OL,W,B,x):\n",
        "  INL=len(x)\n",
        "  hidden_layer=np.zeros((HL))\n",
        "  output_layer=np.zeros((OL))\n",
        "  witr=0\n",
        "  bitr=0\n",
        "  for i in range(HL):\n",
        "    sum=0\n",
        "    for j in range(INL):\n",
        "      sum=sum+(x[j]*W[witr])\n",
        "      witr=witr+1\n",
        "    sum=sum.sum()\n",
        "    hidden_layer[i]=sigmoid(sum+B[bitr])\n",
        "    bitr=bitr+1\n",
        "\n",
        "  for i in range(OL):\n",
        "    output=0\n",
        "    for j in range(HL):\n",
        "      output=output+(hidden_layer[j]*W[witr])\n",
        "      witr = witr + 1\n",
        "    output=output.sum()\n",
        "    output_layer[i]=sigmoid(output+B[bitr])\n",
        "    bitr=bitr+1\n",
        "  return output_layer\n",
        "\n",
        "\n"
      ]
    },
    {
      "cell_type": "code",
      "execution_count": null,
      "metadata": {
        "id": "D9Z-aqy9Zqw4"
      },
      "outputs": [],
      "source": [
        "min_key=min(B.keys(), key=(lambda k: B[k]))"
      ]
    },
    {
      "cell_type": "code",
      "execution_count": null,
      "metadata": {
        "colab": {
          "base_uri": "https://localhost:8080/"
        },
        "id": "W9B5F0yCA5Jp",
        "outputId": "e8186572-9772-49ca-f85b-27fca7f768bb"
      },
      "outputs": [
        {
          "output_type": "stream",
          "name": "stdout",
          "text": [
            "162\n",
            "[-1.48913921  0.27189234  1.60753073  1.04156739 -1.41893288  0.28047332\n",
            "  0.85345053  1.34474772 -0.62464357  0.7217644  -0.51691287 -0.81368186\n",
            "  0.82397087  0.09214988  0.96654203  1.18645286 -0.46336883  0.84480702\n",
            "  2.25520901]\n"
          ]
        }
      ],
      "source": [
        "w=(NIL*HL)+(HL*OL)\n",
        "b=(NIL*HL)+HL+(HL*OL)+OL    \n",
        "W=solution[0:w]\n",
        "B=solution[w:b]\n",
        "print(len(W))\n",
        "print(B)"
      ]
    },
    {
      "cell_type": "code",
      "execution_count": null,
      "metadata": {
        "colab": {
          "base_uri": "https://localhost:8080/"
        },
        "id": "pSUu0MQbcuWZ",
        "outputId": "b1ddbd2e-1738-4e70-ef8b-33a8c1e01b6a"
      },
      "outputs": [
        {
          "name": "stdout",
          "output_type": "stream",
          "text": [
            "[1.]\n"
          ]
        }
      ],
      "source": [
        "a=Test(HL,OL,W,B,x_test_std[7])\n",
        "print(a)\n"
      ]
    },
    {
      "cell_type": "code",
      "execution_count": null,
      "metadata": {
        "id": "cuqlvZ5omKyC"
      },
      "outputs": [],
      "source": [
        "R=0\n",
        "for i in range(len(y_train)):\n",
        "  p=Test(HL,OL,W,B,x_train_std[i])\n",
        "  if y_train[i][0]==0:\n",
        "    if p[0]<0.5:\n",
        "      R+=1\n",
        "  if y_train[i][0]==1:\n",
        "    if p[0]>0.5:\n",
        "      R+=1\n"
      ]
    },
    {
      "cell_type": "code",
      "execution_count": null,
      "metadata": {
        "colab": {
          "base_uri": "https://localhost:8080/"
        },
        "id": "OhBl0E1foMDj",
        "outputId": "4038ac76-873c-433b-9cb7-ccbc648e3bcd"
      },
      "outputs": [
        {
          "output_type": "stream",
          "name": "stdout",
          "text": [
            "83.85416666666667\n"
          ]
        }
      ],
      "source": [
        "print((R*100)/len(y_train))"
      ]
    },
    {
      "cell_type": "markdown",
      "metadata": {
        "id": "DqGVy9k7m_TV"
      },
      "source": [
        ""
      ]
    },
    {
      "cell_type": "code",
      "execution_count": null,
      "metadata": {
        "id": "Nxn2UeTQZ2cf"
      },
      "outputs": [],
      "source": [
        "def prediction(HL,OL,W,B,x):\n",
        "  predict=[]\n",
        "  s=[]\n",
        "  for i in range(len(x)):\n",
        "    a=Test(HL,OL,W,B,x[i])\n",
        "    if a[0]>0.5:\n",
        "      predict.append(1)\n",
        "    else:\n",
        "      predict.append(0)\n",
        "    \n",
        "    \n",
        "  \n",
        "  return predict"
      ]
    },
    {
      "cell_type": "code",
      "execution_count": null,
      "metadata": {
        "colab": {
          "base_uri": "https://localhost:8080/"
        },
        "id": "nXASOeXZfLm5",
        "outputId": "f9167bd8-5366-4703-d220-bb3dbae376b1"
      },
      "outputs": [
        {
          "output_type": "stream",
          "name": "stdout",
          "text": [
            "Predict :[1, 0, 0, 1, 0, 0, 1, 1, 1, 0, 1, 1, 0, 1, 0, 0, 1, 0, 0, 0, 1, 0, 0, 0, 0, 0, 0, 1, 0, 0, 0, 0, 0, 1, 0, 1, 0, 0, 0, 1, 0, 0, 0, 1, 1, 0, 0, 0, 0, 0, 0, 0, 1, 0, 0, 0, 0, 0, 0, 0, 1, 0, 0, 1, 1, 1, 1, 0, 1, 0, 0, 1, 0, 1, 1, 0, 0, 1, 0, 0, 0, 0, 0, 0, 0, 0, 0, 0, 1, 0, 0, 0, 0, 0, 1, 0, 0, 0, 0, 1, 0, 0, 0, 0, 1, 0, 0, 0, 0, 1, 0, 0, 1, 1, 0, 1, 0, 1, 0, 1, 0, 1, 0, 0, 0, 0, 0, 0, 1, 0, 0, 0, 0, 0, 0, 0, 0, 0, 1, 0, 0, 1, 0, 0, 1, 0, 0, 0, 0, 0, 0, 0, 0, 0, 1, 0, 0, 0, 1, 1, 1, 0, 0, 0, 1, 0, 0, 0, 0, 0, 0, 0, 0, 0, 1, 0, 0, 0, 0, 0, 0, 0, 0, 1, 0, 0, 1, 0, 0, 0, 0, 0]\n",
            "true y:[1, 0, 0, 1, 0, 0, 1, 1, 0, 0, 1, 1, 0, 0, 0, 0, 1, 0, 0, 0, 1, 1, 0, 0, 0, 0, 0, 0, 0, 0, 0, 0, 0, 0, 0, 1, 1, 0, 0, 0, 0, 0, 0, 1, 1, 0, 0, 1, 1, 1, 0, 0, 1, 0, 0, 0, 0, 1, 1, 1, 1, 0, 0, 1, 1, 1, 1, 0, 0, 0, 0, 0, 0, 0, 1, 0, 0, 0, 0, 0, 0, 0, 0, 0, 0, 0, 1, 0, 1, 0, 0, 0, 0, 0, 0, 0, 1, 0, 1, 1, 0, 0, 0, 0, 0, 1, 0, 0, 0, 1, 0, 1, 1, 1, 1, 1, 0, 0, 0, 1, 0, 0, 0, 0, 0, 0, 0, 1, 0, 0, 0, 0, 0, 1, 0, 1, 0, 1, 1, 0, 0, 0, 0, 0, 1, 0, 0, 0, 0, 1, 0, 1, 0, 0, 1, 0, 0, 0, 1, 1, 1, 1, 0, 0, 0, 1, 0, 0, 0, 0, 0, 0, 1, 1, 0, 0, 0, 0, 0, 0, 1, 1, 0, 1, 1, 0, 1, 1, 1, 0, 0, 0]\n",
            "accuracy:76.04166666666666%\n"
          ]
        }
      ],
      "source": [
        "pred=prediction(HL,OL,W,B,x_test_std)\n",
        "print(f\"Predict :{pred}\")\n",
        "y_true = sum(y_test.tolist(), [])\n",
        "print(f\"true y:{y_true}\")\n",
        "\n",
        "acc=0\n",
        "for i in range(len(y_test)):\n",
        "  if pred[i]==y_true[i]:\n",
        "    acc+=1\n",
        "\n",
        "print(f\"accuracy:{acc/len(y_test)*100}%\")"
      ]
    },
    {
      "cell_type": "code",
      "execution_count": null,
      "metadata": {
        "id": "3JesiWufuaZ6"
      },
      "outputs": [],
      "source": [
        "p=[[2.3443797239678989e-07, 1.0], [1.0, 5.790537731467655e-12], [4.760185995141387e-07, 1.0], [0.9999999999997193, 1.3773894071084169e-17], [1.0, 7.49479046619701e-09], [1.0, 5.790537731467655e-12], [0.9999997593963258, 1.7827783105267858e-14], [1.0, 7.49479046619701e-09], [2.3443797239678989e-07, 1.0], [2.3443797239678989e-07, 1.0], [1.0, 7.49479046619701e-09], [1.0, 7.49479046619701e-09], [4.760185995141387e-07, 1.0], [1.0, 7.49479046619701e-09], [0.9999999999998617, 7.413173583065964e-08], [1.0, 7.49479046619701e-09], [3.295837933196582e-19, 1.0], [4.760185995141387e-07, 1.0], [1.0, 5.790537731467655e-12], [1.0, 7.49479046619701e-09], [2.3443797239678989e-07, 1.0], [1.0, 5.790537731467655e-12], [1.0, 7.49479046619701e-09], [2.735378606784197e-13, 1.0], [1.0, 7.49479046619701e-09], [4.760185995141387e-07, 1.0], [1.0, 7.49479046619701e-09], [4.7601859951413703e-07, 1.0], [1.0, 5.790537731467655e-12], [0.9999997594005218, 1.7827926890587977e-14], [2.3443797239678989e-07, 1.0], [0.9999999999997193, 1.3777059110728068e-17], [2.3443797239678989e-07, 1.0], [2.3443797239678989e-07, 1.0], [2.3443797239678989e-07, 1.0], [0.9999999999997193, 1.3773894071084169e-17], [1.0, 7.49479046619701e-09], [2.3441849876730426e-07, 1.0], [0.9999997593963258, 1.7827783105267858e-14], [2.3443797239678989e-07, 1.0], [0.999997046667274, 1.0], [3.4230559529451456e-19, 1.0], [1.0, 7.49479046619701e-09], [1.0, 7.49479046619701e-09], [2.7353786067445575e-13, 1.0], [2.3443797239678989e-07, 1.0], [1.0, 7.49479046619701e-09], [0.9999999999998619, 7.412144614465116e-08], [2.3443797239678989e-07, 1.0], [1.0, 7.49479046619701e-09], [1.0, 7.49479046619701e-09], [3.2958383525020503e-19, 1.0], [0.9999999999997193, 1.3773894071084169e-17], [4.760185995141387e-07, 1.0], [2.3443797239678989e-07, 1.0], [1.0, 5.790537748567615e-12], [2.3443797239678989e-07, 1.0], [2.3443797239678989e-07, 1.0], [0.9999997593963258, 1.7827783105267858e-14], [3.295837933196582e-19, 1.0], [4.760185995141387e-07, 1.0], [0.9999997593963258, 1.7827783105267858e-14], [1.0, 5.790537731467655e-12], [1.0, 7.49479046619701e-09], [1.0, 5.790537731467655e-12], [2.735378606784197e-13, 1.0], [2.3443797239678989e-07, 1.0], [2.3443797239678989e-07, 1.0], [4.760185995141387e-07, 1.0], [1.0, 7.49479046619701e-09], [4.7601859963200897e-07, 1.0], [1.0, 7.49479046619701e-09], [2.730081969202577e-13, 1.0], [1.0, 7.49479046619701e-09], [0.9999999999998617, 7.413173838927611e-08], [2.824682922217676e-13, 1.0], [1.0, 5.790537731467655e-12], [1.0, 7.49479046619701e-09], [1.0, 7.494780457447032e-09], [1.0, 7.49479046619701e-09], [4.760185995141387e-07, 1.0], [2.3443797239678989e-07, 1.0], [1.0, 7.49479046619701e-09], [1.0, 7.49479046619701e-09], [1.2482862984116327e-18, 1.0], [2.3443797239678989e-07, 1.0], [1.0, 7.494790466200846e-09], [1.0, 5.790537731467655e-12], [1.0, 7.49479046619701e-09], [1.0, 5.790537731467655e-12], [1.0, 7.49479046619701e-09], [2.3443797239678989e-07, 1.0], [2.3443797239678989e-07, 1.0], [4.7601836872318313e-07, 1.0], [2.3443797239678989e-07, 1.0], [0.9999999999999998, 3.6456980727045307e-10], [1.0, 7.49479046619701e-09], [1.0, 5.790537731467655e-12], [2.3443797239678989e-07, 1.0], [3.561895408985392e-19, 1.0], [0.9999999999998617, 7.413141488936635e-08], [2.3443797239678989e-07, 1.0], [1.0, 7.49479046619701e-09], [0.999997046667274, 1.0], [1.0, 7.49479046619701e-09], [2.3443797226534723e-07, 1.0], [0.9999999999997193, 1.377389407325726e-17], [2.3443797239678989e-07, 1.0], [2.3443797239678989e-07, 1.0], [2.735371990190059e-13, 1.0], [1.0, 7.49479046619701e-09], [3.295837933196582e-19, 1.0], [1.0, 5.790537731467655e-12], [0.9999999954925718, 1.1219721194964509e-13], [4.760185995141387e-07, 1.0], [0.9999997593963258, 1.7827783105267858e-14], [0.9999997593963258, 1.7827783105267858e-14], [1.0, 5.790537731467655e-12], [2.3443797239678989e-07, 1.0], [2.3443797239678989e-07, 1.0], [1.0, 5.790537731467655e-12], [1.0, 7.49479046619701e-09], [2.3443797239678989e-07, 1.0], [2.735378606754956e-13, 1.0], [2.344379723967903e-07, 1.0], [2.3443797239678989e-07, 1.0], [4.760185995141387e-07, 1.0], [0.9999997593963258, 1.7827783105267858e-14], [4.7601861964494985e-07, 1.0], [1.0, 5.790537731467655e-12], [1.0, 1.4646590413208634e-12], [1.0, 7.49479046619701e-09], [1.0, 7.49479046619701e-09], [0.9999999999998617, 7.413173838927611e-08], [0.9999999999997193, 1.3773894071084169e-17], [2.3443797239678989e-07, 1.0], [1.0, 7.416891915703537e-09], [1.0, 7.49479046619701e-09], [1.0, 7.49479046619701e-09], [0.9999997593963258, 1.7827783105267858e-14], [2.735378606784197e-13, 1.0], [1.0, 7.49479046619701e-09], [2.3443797239678989e-07, 1.0], [4.7601859947178284e-07, 1.0], [1.0, 7.49479046619701e-09], [1.0, 7.49479046619701e-09], [4.760185995141387e-07, 1.0], [0.9999999999997216, 1.382760290185998e-17], [1.0, 7.49479046619701e-09], [2.735378606784197e-13, 1.0], [1.0, 7.494787237171255e-09], [0.9999997593963287, 1.7827783200580683e-14], [1.0, 7.49479046619701e-09], [1.0, 7.49479046619701e-09], [2.735378606784197e-13, 1.0], [1.0, 5.790537731467655e-12], [5.186223429698876e-06, 1.0], [1.0, 7.49479046619701e-09], [3.2963276408309863e-19, 1.0], [0.9999999999997193, 1.3773894071084169e-17], [1.0, 7.49479046619701e-09], [2.3443797239678989e-07, 1.0], [0.9999997593963258, 1.7827783105267858e-14], [4.760185995141387e-07, 1.0], [0.999999759396326, 1.7827783109247703e-14], [2.3443797239678989e-07, 1.0], [2.3443797239533066e-07, 1.0], [0.9999999999997193, 1.3773894071084169e-17], [2.3443797239678989e-07, 1.0], [2.3443797239678989e-07, 1.0], [1.0, 7.49479046619701e-09], [2.3443797239678989e-07, 1.0], [3.539949630789169e-14, 1.0], [4.760185995141387e-07, 1.0], [4.760185995141387e-07, 1.0], [0.9999999999997193, 1.3773894071096696e-17], [0.9999999999997193, 1.3773894071084169e-17], [1.0, 7.49479046619701e-09], [2.735378606784197e-13, 1.0], [4.760185995141387e-07, 1.0], [1.0, 7.49479046619701e-09], [2.3443797239678989e-07, 1.0], [0.9999999999997193, 1.3773894071084169e-17], [0.9999997593963258, 1.7827783105267858e-14], [1.0, 5.399724176787439e-09], [3.2958381859094635e-19, 1.0], [1.0, 5.790537731467655e-12], [2.3443797239678989e-07, 1.0], [2.736071297671768e-13, 1.0], [1.0, 7.49479046619701e-09], [0.9999999999998617, 7.413173838927611e-08], [1.0, 7.49479046619701e-09], [4.760185995141387e-07, 1.0], [0.9999999999997193, 1.3773894071084169e-17], [2.3443797239678989e-07, 1.0], [1.0, 7.49479046619701e-09], [1.0, 7.49479046619701e-09], [1.0, 7.494790466196905e-09], [2.3443797239678989e-07, 1.0], [4.760185995141387e-07, 1.0], [0.9999997593963258, 1.7827783105267858e-14], [1.0, 7.49479046619701e-09], [1.0, 7.49479046619701e-09], [1.0, 7.49479046619701e-09], [1.0, 5.790537731467655e-12], [1.0, 7.49479046619701e-09], [1.0, 7.49479046619701e-09], [0.9999997597973544, 1.784154246233934e-14], [4.760185995141387e-07, 1.0], [0.9999999999997193, 1.3773894071084169e-17], [1.0, 7.49479046619701e-09], [2.3443797239678989e-07, 1.0], [1.0, 7.49479046619701e-09], [0.9999999999997193, 1.3773894071084169e-17], [1.0, 7.49479046619701e-09], [2.3443797239678989e-07, 1.0], [2.3443797239678989e-07, 1.0], [1.0, 5.790537731467655e-12], [1.0, 5.790537731467655e-12], [0.9999999999997193, 1.3773916445774456e-17], [1.0, 5.7905377175175346e-12], [1.0, 7.49479046619701e-09], [0.9999997593963258, 1.7827783105640535e-14], [1.0, 7.49479046619701e-09], [0.9999999999997193, 1.3773894071084169e-17], [4.760185994289154e-07, 1.0], [4.760185995141387e-07, 1.0], [1.0, 5.790537731467655e-12], [0.9999999999997193, 1.3773894071084169e-17], [0.9999997594030715, 1.782801427057929e-14], [0.9999999999997193, 1.3773894071084169e-17], [2.3443797239678989e-07, 1.0], [2.3443797239678989e-07, 1.0], [0.9999999999997193, 1.3773894071148567e-17], [2.3443797239678989e-07, 1.0], [4.760185995141387e-07, 1.0], [1.0, 7.49479046619701e-09], [0.9999999999998492, 1.8358616739546913e-17], [2.3443797239678989e-07, 1.0], [2.3443792937421956e-07, 1.0], [1.0, 7.49479046619701e-09], [4.760185995141387e-07, 1.0], [2.735378606784197e-13, 1.0], [1.0, 7.49479046619701e-09], [2.3443797239678989e-07, 1.0], [1.0, 5.790537731467655e-12], [1.0, 7.494790466200632e-09], [0.9999997593963258, 1.7827783105267858e-14], [0.9999997593963258, 1.7827783105267858e-14], [0.9999999999997193, 1.3773894071084169e-17], [0.9999999999997193, 1.3773894071086518e-17], [2.3443797239678989e-07, 1.0], [0.9999999999997193, 1.3773894071084169e-17], [2.8247268646226163e-13, 1.0], [4.760185922590398e-07, 1.0], [0.9999997593963258, 1.7827783105267858e-14], [1.0, 7.493736721731287e-09], [4.760185995141387e-07, 1.0], [2.3443797239678989e-07, 1.0], [4.760185995142792e-07, 1.0], [1.0, 7.49479046619701e-09], [0.9999997593963258, 1.7827783105267858e-14], [1.0, 5.790537731467655e-12], [3.295837933196582e-19, 1.0], [1.0, 5.7905377314674905e-12], [1.0, 5.790539620623675e-12], [2.3443797239678989e-07, 1.0], [2.3443797239678989e-07, 1.0], [1.0, 7.492433652437726e-09], [2.3443797239678989e-07, 1.0], [2.3443797239678989e-07, 1.0], [1.0, 7.49479046619701e-09], [4.760185995141387e-07, 1.0], [4.760185995141387e-07, 1.0], [5.0873878446689e-18, 1.0]]\n",
        "for i in range(len(pred)):\n",
        "  if p[i][0] and p[i][1] >0.5:\n",
        "    print(i)\n",
        "  "
      ]
    }
  ],
  "metadata": {
    "accelerator": "GPU",
    "colab": {
      "collapsed_sections": [],
      "name": "Diabetes of BAT and Mlp Test new fitness.ipynb",
      "provenance": []
    },
    "kernelspec": {
      "display_name": "Python 3",
      "name": "python3"
    },
    "language_info": {
      "name": "python"
    }
  },
  "nbformat": 4,
  "nbformat_minor": 0
}